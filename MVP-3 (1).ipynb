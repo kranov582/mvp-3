{
 "cells": [
  {
   "cell_type": "markdown",
   "metadata": {
    "application/vnd.databricks.v1+cell": {
     "cellMetadata": {
      "byteLimit": 2048000,
      "rowLimit": 10000
     },
     "inputWidgets": {},
     "nuid": "fbb4df94-c3c8-4e90-8ab9-ee7c7b199323",
     "showTitle": false,
     "title": ""
    }
   },
   "source": [
    "# MVP de Engenharia de Dados\n",
    "\n",
    ">\n",
    "\n",
    "\n",
    "## Pedro Augusto Boller\n"
   ]
  },
  {
   "cell_type": "markdown",
   "metadata": {
    "application/vnd.databricks.v1+cell": {
     "cellMetadata": {
      "byteLimit": 2048000,
      "rowLimit": 10000
     },
     "inputWidgets": {},
     "nuid": "7785781a-009f-4221-9763-4cc58d81a443",
     "showTitle": false,
     "title": ""
    }
   },
   "source": [
    "## 1 Objetivo"
   ]
  },
  {
   "cell_type": "markdown",
   "metadata": {
    "application/vnd.databricks.v1+cell": {
     "cellMetadata": {
      "byteLimit": 2048000,
      "rowLimit": 10000
     },
     "inputWidgets": {},
     "nuid": "1ace8ee9-8f9d-462c-a5dc-1c42c6bba055",
     "showTitle": false,
     "title": ""
    }
   },
   "source": [
    "**Objetivo Geral do MVP:** \\\n",
    "O objetivo deste MVP é criar um pipeline de dados da Steam (plataforma de jogos eletrônicos) que permita ao utilizador explorar e obter insights valiosos sobre os jogos disponíveis na plataforma. \\\n",
    "\n",
    "**Perguntas a serem respondidas:** \\\n",
    "1.\tQuais são os cinco jogos mais bem avaliados na categoria \"Roguelike\" que foram lançados nos últimos 12 meses? \\\n",
    "2.\tQual é o jogo mais popular que inclui a palavra \"cyberpunk\" em sua descrição ou tags? \\\n",
    "3.\tQuais são os três jogos de estratégia com temática de ficção científica que têm o maior número de horas jogadas no total? \\\n",
    "4.\tQual é a porcentagem média de conclusão dos jogos de terror mais assustadores disponíveis na Steam? \\\n",
    "5.\tQuais são os cinco jogos mais jogados que tem exatamente 1 GB de tamanho?\\\n",
    "6.\tQuais são os três jogos de simulação mais caros que têm suporte para realidade virtual? \\\n",
    "7.\tQual é o jogo com a trilha sonora mais extensa em termos de número de faixas de música disponíveis? \\\n",
    "8.\tQuais são os jogos que têm a maior diferença entre a classificação dos críticos e dos jogadores? \\\n",
    "9.\tQuais são os jogos de estratégia em tempo real mais antigos que ainda têm uma comunidade ativa de jogadores online? \\\n",
    "10.\tQuais são os jogos independentes mais populares que foram lançados por desenvolvedoras com sede na América do Sul? \\\n"
   ]
  },
  {
   "cell_type": "markdown",
   "metadata": {
    "application/vnd.databricks.v1+cell": {
     "cellMetadata": {
      "byteLimit": 2048000,
      "rowLimit": 10000
     },
     "inputWidgets": {},
     "nuid": "9bb11020-e6df-4714-88c9-7118cb49f39d",
     "showTitle": false,
     "title": ""
    }
   },
   "source": [
    "## 2 Detalhamento"
   ]
  },
  {
   "cell_type": "markdown",
   "metadata": {
    "application/vnd.databricks.v1+cell": {
     "cellMetadata": {
      "byteLimit": 2048000,
      "rowLimit": 10000
     },
     "inputWidgets": {},
     "nuid": "e2b33645-3a01-4bbf-951c-073c1d226e7f",
     "showTitle": false,
     "title": ""
    }
   },
   "source": [
    "## 2.1 Busca pelos dados"
   ]
  },
  {
   "cell_type": "markdown",
   "metadata": {
    "application/vnd.databricks.v1+cell": {
     "cellMetadata": {
      "byteLimit": 2048000,
      "rowLimit": 10000
     },
     "inputWidgets": {},
     "nuid": "7efc9661-2f0f-4a39-8dd6-cd8cf0ad67b8",
     "showTitle": false,
     "title": ""
    }
   },
   "source": [
    "Inicialmente, a ideia era utilizar uma API para buscar os dados e gerar uma tabela, que então seria inserida no banco de dados do azure para a criação do pipeline, limpeza e análise. Porem, não foi possivel gerar estes dados devido ao aprendizado a mais que seria necessario, e devido a isso não daria tempo de concluir o trabalho no tempo estipulado.\n",
    "\n",
    "Foi decidido então buscar os dados na plataforma do kaggle, de um usario que usou a API. De acordo com o autor, os dados foram retirados em maio de 2019, e contêm a maioria dos jogos lançados até essa data.\n",
    "\n",
    "Os dados já estão limpos e tratados, mas será feito uma analise de cada coluna para verificar a qualidade dos dados.\n",
    "\n",
    "O link da pagina do kaggle onde os dados foram obtidos está abaixo:\n",
    "\n",
    "https://www.kaggle.com/datasets/nikdavis/steam-store-games\n"
   ]
  },
  {
   "cell_type": "markdown",
   "metadata": {
    "application/vnd.databricks.v1+cell": {
     "cellMetadata": {
      "byteLimit": 2048000,
      "rowLimit": 10000
     },
     "inputWidgets": {},
     "nuid": "bcf77f4c-913f-4139-87e5-2a7fc2ad1bbf",
     "showTitle": false,
     "title": ""
    }
   },
   "source": [
    "## 2.2 Coleta"
   ]
  },
  {
   "cell_type": "markdown",
   "metadata": {
    "application/vnd.databricks.v1+cell": {
     "cellMetadata": {},
     "inputWidgets": {},
     "nuid": "243c3f0c-065e-4cef-bab6-96a1686ec842",
     "showTitle": false,
     "title": ""
    }
   },
   "source": [
    "Os dados foram baixados do kaggle, e inseridos dentro da plaforma cloud da microsoft, o azure. Foi utilizado o databricks como ferramenta para a realização deste trabalho"
   ]
  },
  {
   "cell_type": "markdown",
   "metadata": {
    "application/vnd.databricks.v1+cell": {
     "cellMetadata": {
      "byteLimit": 2048000,
      "rowLimit": 10000
     },
     "inputWidgets": {},
     "nuid": "cf661f3f-eea3-4804-9a51-489426f19e42",
     "showTitle": false,
     "title": ""
    }
   },
   "source": [
    "## 2.3 Modelagem"
   ]
  },
  {
   "cell_type": "markdown",
   "metadata": {
    "application/vnd.databricks.v1+cell": {
     "cellMetadata": {},
     "inputWidgets": {},
     "nuid": "61572339-15b2-43c7-8c74-2809c3007f10",
     "showTitle": false,
     "title": ""
    }
   },
   "source": [
    "O modelo de dados que será usado é o flat, pois os dados se enquadram mais em um conceito de data lake (existem dados numericos, de datas, textos e \"dicionarios\").\n",
    "\n",
    "Inicialmente existem três tabelas, a \"steam\" onde contem a maioria dos dados sobre os jogos, a tabela \"steam_description_data\" onde contem os dados de descrição de cada jogo, e a tabela \"steam_requirements_data\", onde existem os dados dos requisitos minimos e recomendados de cada jogo.\n",
    "\n",
    "Abaixo é possivel ver cada uma das tabelas:"
   ]
  },
  {
   "cell_type": "code",
   "execution_count": 0,
   "metadata": {
    "application/vnd.databricks.v1+cell": {
     "cellMetadata": {
      "byteLimit": 2048000,
      "implicitDf": true,
      "rowLimit": 10000
     },
     "inputWidgets": {},
     "nuid": "3a2f5c57-8e9e-4608-bbf3-ca99adf884c3",
     "showTitle": false,
     "title": ""
    }
   },
   "outputs": [
    {
     "output_type": "display_data",
     "data": {
      "text/html": [
       "<style scoped>\n",
       "  .table-result-container {\n",
       "    max-height: 300px;\n",
       "    overflow: auto;\n",
       "  }\n",
       "  table, th, td {\n",
       "    border: 1px solid black;\n",
       "    border-collapse: collapse;\n",
       "  }\n",
       "  th, td {\n",
       "    padding: 5px;\n",
       "  }\n",
       "  th {\n",
       "    text-align: left;\n",
       "  }\n",
       "</style><div class='table-result-container'><table class='table-result'><thead style='background-color: white'><tr><th>appid</th><th>name</th><th>release_date</th><th>english</th><th>developer</th><th>publisher</th><th>platforms</th><th>required_age</th><th>categories</th><th>genres</th><th>steamspy_tags</th><th>achievements</th><th>positive_ratings</th><th>negative_ratings</th><th>average_playtime</th><th>median_playtime</th><th>owners</th><th>price</th></tr></thead><tbody><tr><td>10</td><td>Counter-Strike</td><td>2000-11-01</td><td>1</td><td>Valve</td><td>Valve</td><td>windows;mac;linux</td><td>0</td><td>Multi-player;Online Multi-Player;Local Multi-Player;Valve Anti-Cheat enabled</td><td>Action</td><td>Action;FPS;Multiplayer</td><td>0</td><td>124534</td><td>3339</td><td>17612</td><td>317</td><td>10000000-20000000</td><td>7.19</td></tr><tr><td>20</td><td>Team Fortress Classic</td><td>1999-04-01</td><td>1</td><td>Valve</td><td>Valve</td><td>windows;mac;linux</td><td>0</td><td>Multi-player;Online Multi-Player;Local Multi-Player;Valve Anti-Cheat enabled</td><td>Action</td><td>Action;FPS;Multiplayer</td><td>0</td><td>3318</td><td>633</td><td>277</td><td>62</td><td>5000000-10000000</td><td>3.99</td></tr><tr><td>30</td><td>Day of Defeat</td><td>2003-05-01</td><td>1</td><td>Valve</td><td>Valve</td><td>windows;mac;linux</td><td>0</td><td>Multi-player;Valve Anti-Cheat enabled</td><td>Action</td><td>FPS;World War II;Multiplayer</td><td>0</td><td>3416</td><td>398</td><td>187</td><td>34</td><td>5000000-10000000</td><td>3.99</td></tr><tr><td>40</td><td>Deathmatch Classic</td><td>2001-06-01</td><td>1</td><td>Valve</td><td>Valve</td><td>windows;mac;linux</td><td>0</td><td>Multi-player;Online Multi-Player;Local Multi-Player;Valve Anti-Cheat enabled</td><td>Action</td><td>Action;FPS;Multiplayer</td><td>0</td><td>1273</td><td>267</td><td>258</td><td>184</td><td>5000000-10000000</td><td>3.99</td></tr><tr><td>50</td><td>Half-Life: Opposing Force</td><td>1999-11-01</td><td>1</td><td>Gearbox Software</td><td>Valve</td><td>windows;mac;linux</td><td>0</td><td>Single-player;Multi-player;Valve Anti-Cheat enabled</td><td>Action</td><td>FPS;Action;Sci-fi</td><td>0</td><td>5250</td><td>288</td><td>624</td><td>415</td><td>5000000-10000000</td><td>3.99</td></tr><tr><td>60</td><td>Ricochet</td><td>2000-11-01</td><td>1</td><td>Valve</td><td>Valve</td><td>windows;mac;linux</td><td>0</td><td>Multi-player;Online Multi-Player;Valve Anti-Cheat enabled</td><td>Action</td><td>Action;FPS;Multiplayer</td><td>0</td><td>2758</td><td>684</td><td>175</td><td>10</td><td>5000000-10000000</td><td>3.99</td></tr><tr><td>70</td><td>Half-Life</td><td>1998-11-08</td><td>1</td><td>Valve</td><td>Valve</td><td>windows;mac;linux</td><td>0</td><td>Single-player;Multi-player;Online Multi-Player;Steam Cloud;Valve Anti-Cheat enabled</td><td>Action</td><td>FPS;Classic;Action</td><td>0</td><td>27755</td><td>1100</td><td>1300</td><td>83</td><td>5000000-10000000</td><td>7.19</td></tr><tr><td>80</td><td>Counter-Strike: Condition Zero</td><td>2004-03-01</td><td>1</td><td>Valve</td><td>Valve</td><td>windows;mac;linux</td><td>0</td><td>Single-player;Multi-player;Valve Anti-Cheat enabled</td><td>Action</td><td>Action;FPS;Multiplayer</td><td>0</td><td>12120</td><td>1439</td><td>427</td><td>43</td><td>10000000-20000000</td><td>7.19</td></tr><tr><td>130</td><td>Half-Life: Blue Shift</td><td>2001-06-01</td><td>1</td><td>Gearbox Software</td><td>Valve</td><td>windows;mac;linux</td><td>0</td><td>Single-player</td><td>Action</td><td>FPS;Action;Sci-fi</td><td>0</td><td>3822</td><td>420</td><td>361</td><td>205</td><td>5000000-10000000</td><td>3.99</td></tr><tr><td>220</td><td>Half-Life 2</td><td>2004-11-16</td><td>1</td><td>Valve</td><td>Valve</td><td>windows;mac;linux</td><td>0</td><td>Single-player;Steam Achievements;Steam Trading Cards;Captions available;Partial Controller Support;Steam Cloud;Includes Source SDK</td><td>Action</td><td>FPS;Action;Sci-fi</td><td>33</td><td>67902</td><td>2419</td><td>691</td><td>402</td><td>10000000-20000000</td><td>7.19</td></tr></tbody></table></div>"
      ]
     },
     "metadata": {
      "application/vnd.databricks.v1+output": {
       "addedWidgets": {},
       "aggData": [],
       "aggError": "",
       "aggOverflow": false,
       "aggSchema": [],
       "aggSeriesLimitReached": false,
       "aggType": "",
       "arguments": {},
       "columnCustomDisplayInfos": {},
       "data": [
        [
         10,
         "Counter-Strike",
         "2000-11-01",
         1,
         "Valve",
         "Valve",
         "windows;mac;linux",
         0,
         "Multi-player;Online Multi-Player;Local Multi-Player;Valve Anti-Cheat enabled",
         "Action",
         "Action;FPS;Multiplayer",
         0,
         124534,
         3339,
         17612,
         317,
         "10000000-20000000",
         7.19
        ],
        [
         20,
         "Team Fortress Classic",
         "1999-04-01",
         1,
         "Valve",
         "Valve",
         "windows;mac;linux",
         0,
         "Multi-player;Online Multi-Player;Local Multi-Player;Valve Anti-Cheat enabled",
         "Action",
         "Action;FPS;Multiplayer",
         0,
         3318,
         633,
         277,
         62,
         "5000000-10000000",
         3.99
        ],
        [
         30,
         "Day of Defeat",
         "2003-05-01",
         1,
         "Valve",
         "Valve",
         "windows;mac;linux",
         0,
         "Multi-player;Valve Anti-Cheat enabled",
         "Action",
         "FPS;World War II;Multiplayer",
         0,
         3416,
         398,
         187,
         34,
         "5000000-10000000",
         3.99
        ],
        [
         40,
         "Deathmatch Classic",
         "2001-06-01",
         1,
         "Valve",
         "Valve",
         "windows;mac;linux",
         0,
         "Multi-player;Online Multi-Player;Local Multi-Player;Valve Anti-Cheat enabled",
         "Action",
         "Action;FPS;Multiplayer",
         0,
         1273,
         267,
         258,
         184,
         "5000000-10000000",
         3.99
        ],
        [
         50,
         "Half-Life: Opposing Force",
         "1999-11-01",
         1,
         "Gearbox Software",
         "Valve",
         "windows;mac;linux",
         0,
         "Single-player;Multi-player;Valve Anti-Cheat enabled",
         "Action",
         "FPS;Action;Sci-fi",
         0,
         5250,
         288,
         624,
         415,
         "5000000-10000000",
         3.99
        ],
        [
         60,
         "Ricochet",
         "2000-11-01",
         1,
         "Valve",
         "Valve",
         "windows;mac;linux",
         0,
         "Multi-player;Online Multi-Player;Valve Anti-Cheat enabled",
         "Action",
         "Action;FPS;Multiplayer",
         0,
         2758,
         684,
         175,
         10,
         "5000000-10000000",
         3.99
        ],
        [
         70,
         "Half-Life",
         "1998-11-08",
         1,
         "Valve",
         "Valve",
         "windows;mac;linux",
         0,
         "Single-player;Multi-player;Online Multi-Player;Steam Cloud;Valve Anti-Cheat enabled",
         "Action",
         "FPS;Classic;Action",
         0,
         27755,
         1100,
         1300,
         83,
         "5000000-10000000",
         7.19
        ],
        [
         80,
         "Counter-Strike: Condition Zero",
         "2004-03-01",
         1,
         "Valve",
         "Valve",
         "windows;mac;linux",
         0,
         "Single-player;Multi-player;Valve Anti-Cheat enabled",
         "Action",
         "Action;FPS;Multiplayer",
         0,
         12120,
         1439,
         427,
         43,
         "10000000-20000000",
         7.19
        ],
        [
         130,
         "Half-Life: Blue Shift",
         "2001-06-01",
         1,
         "Gearbox Software",
         "Valve",
         "windows;mac;linux",
         0,
         "Single-player",
         "Action",
         "FPS;Action;Sci-fi",
         0,
         3822,
         420,
         361,
         205,
         "5000000-10000000",
         3.99
        ],
        [
         220,
         "Half-Life 2",
         "2004-11-16",
         1,
         "Valve",
         "Valve",
         "windows;mac;linux",
         0,
         "Single-player;Steam Achievements;Steam Trading Cards;Captions available;Partial Controller Support;Steam Cloud;Includes Source SDK",
         "Action",
         "FPS;Action;Sci-fi",
         33,
         67902,
         2419,
         691,
         402,
         "10000000-20000000",
         7.19
        ]
       ],
       "datasetInfos": [],
       "dbfsResultPath": null,
       "isJsonSchema": true,
       "metadata": {},
       "overflow": false,
       "plotOptions": {
        "customPlotOptions": {},
        "displayType": "table",
        "pivotAggregation": null,
        "pivotColumns": null,
        "xColumns": null,
        "yColumns": null
       },
       "removedWidgets": [],
       "schema": [
        {
         "metadata": "{}",
         "name": "appid",
         "type": "\"long\""
        },
        {
         "metadata": "{}",
         "name": "name",
         "type": "\"string\""
        },
        {
         "metadata": "{\"__detected_date_formats\":\"yyyy-M-d\"}",
         "name": "release_date",
         "type": "\"date\""
        },
        {
         "metadata": "{}",
         "name": "english",
         "type": "\"long\""
        },
        {
         "metadata": "{}",
         "name": "developer",
         "type": "\"string\""
        },
        {
         "metadata": "{}",
         "name": "publisher",
         "type": "\"string\""
        },
        {
         "metadata": "{}",
         "name": "platforms",
         "type": "\"string\""
        },
        {
         "metadata": "{}",
         "name": "required_age",
         "type": "\"long\""
        },
        {
         "metadata": "{}",
         "name": "categories",
         "type": "\"string\""
        },
        {
         "metadata": "{}",
         "name": "genres",
         "type": "\"string\""
        },
        {
         "metadata": "{}",
         "name": "steamspy_tags",
         "type": "\"string\""
        },
        {
         "metadata": "{}",
         "name": "achievements",
         "type": "\"long\""
        },
        {
         "metadata": "{}",
         "name": "positive_ratings",
         "type": "\"long\""
        },
        {
         "metadata": "{}",
         "name": "negative_ratings",
         "type": "\"long\""
        },
        {
         "metadata": "{}",
         "name": "average_playtime",
         "type": "\"long\""
        },
        {
         "metadata": "{}",
         "name": "median_playtime",
         "type": "\"long\""
        },
        {
         "metadata": "{}",
         "name": "owners",
         "type": "\"string\""
        },
        {
         "metadata": "{}",
         "name": "price",
         "type": "\"double\""
        }
       ],
       "type": "table"
      }
     },
     "output_type": "display_data"
    }
   ],
   "source": [
    "%sql\n",
    "SELECT * FROM steam\n",
    "LIMIT 10"
   ]
  },
  {
   "cell_type": "markdown",
   "metadata": {
    "application/vnd.databricks.v1+cell": {
     "cellMetadata": {},
     "inputWidgets": {},
     "nuid": "d7bdb5b9-9920-4722-a668-83a32eb3e65b",
     "showTitle": false,
     "title": ""
    }
   },
   "source": [
    "Esta tabela possui as seguintes colunas:\n",
    "\n",
    "**appid**: Código unico de cada jogo.\\\n",
    "**name**: Nome do jogo.\\\n",
    "**release_date**: Data de quando o jogo foi lançado.\\\n",
    "**english**: Variavel booleana que indica se o jogo tem suporte para a lingua inglesa.\\\n",
    "**developer**: A empresa que produziu o jogo.\\\n",
    "**publisher**: A empresa que publicou o jogo.\\\n",
    "**platforms**: Contem o número de conquistas que o jogo possui.\\\n",
    "**positive_ratings**: valores inteiros. Valor minimo é 0 e o maximo é 2644404. Está dentro do esperado.\\\n",
    "**negative_ratings**: valores inteiros. Valor minimo é 0 e o maximo é 487076. Está dentro do esperado.\\\n",
    "**average_playtime**: valores inteiros. Valor minimo é 0 e o maximo é 190625. Valores estranhos\\\n",
    "**median_playtime**: valores inteiros. Valor minimo é 0 e o maximo é 190625. Valores estranhos\\\n",
    "**price**: valores decimais. Valor minimo é 0 e o maximo é 421,99. Está dentro do esperado"
   ]
  },
  {
   "cell_type": "code",
   "execution_count": 0,
   "metadata": {
    "application/vnd.databricks.v1+cell": {
     "cellMetadata": {
      "byteLimit": 2048000,
      "implicitDf": true,
      "rowLimit": 10000
     },
     "inputWidgets": {},
     "nuid": "1c77c67c-5145-4afb-b671-3dc41f6729d5",
     "showTitle": false,
     "title": ""
    }
   },
   "outputs": [
    {
     "output_type": "display_data",
     "data": {
      "text/html": [
       "<style scoped>\n",
       "  .table-result-container {\n",
       "    max-height: 300px;\n",
       "    overflow: auto;\n",
       "  }\n",
       "  table, th, td {\n",
       "    border: 1px solid black;\n",
       "    border-collapse: collapse;\n",
       "  }\n",
       "  th, td {\n",
       "    padding: 5px;\n",
       "  }\n",
       "  th {\n",
       "    text-align: left;\n",
       "  }\n",
       "</style><div class='table-result-container'><table class='table-result'><thead style='background-color: white'><tr><th>steam_appid</th><th>detailed_description</th><th>about_the_game</th><th>short_description</th></tr></thead><tbody><tr><td>10</td><td>Play the world's number 1 online action game. Engage in an incredibly realistic brand of terrorist warfare in this wildly popular team-based game. Ally with teammates to complete strategic missions. Take out enemy sites. Rescue hostages. Your role affects your team's success. Your team's success affects your role.</td><td>Play the world's number 1 online action game. Engage in an incredibly realistic brand of terrorist warfare in this wildly popular team-based game. Ally with teammates to complete strategic missions. Take out enemy sites. Rescue hostages. Your role affects your team's success. Your team's success affects your role.</td><td>Play the world's number 1 online action game. Engage in an incredibly realistic brand of terrorist warfare in this wildly popular team-based game. Ally with teammates to complete strategic missions. Take out enemy sites. Rescue hostages. Your role affects your team's success. Your team's success affects your role.</td></tr><tr><td>20</td><td>One of the most popular online action games of all time, Team Fortress Classic features over nine character classes -- from Medic to Spy to Demolition Man -- enlisted in a unique style of online team warfare. Each character class possesses unique weapons, items, and abilities, as teams compete online in a variety of game play modes.</td><td>One of the most popular online action games of all time, Team Fortress Classic features over nine character classes -- from Medic to Spy to Demolition Man -- enlisted in a unique style of online team warfare. Each character class possesses unique weapons, items, and abilities, as teams compete online in a variety of game play modes.</td><td>One of the most popular online action games of all time, Team Fortress Classic features over nine character classes -- from Medic to Spy to Demolition Man -- enlisted in a unique style of online team warfare. Each character class possesses unique weapons, items, and abilities, as teams compete online in a variety of game play modes.</td></tr><tr><td>30</td><td>Enlist in an intense brand of Axis vs. Allied teamplay set in the WWII European Theatre of Operations. Players assume the role of light/assault/heavy infantry, sniper or machine-gunner class, each with a unique arsenal of historical weaponry at their disposal. Missions are based on key historical operations. And, as war rages, players must work together with their squad to accomplish a variety of mission-specific objectives.</td><td>Enlist in an intense brand of Axis vs. Allied teamplay set in the WWII European Theatre of Operations. Players assume the role of light/assault/heavy infantry, sniper or machine-gunner class, each with a unique arsenal of historical weaponry at their disposal. Missions are based on key historical operations. And, as war rages, players must work together with their squad to accomplish a variety of mission-specific objectives.</td><td>Enlist in an intense brand of Axis vs. Allied teamplay set in the WWII European Theatre of Operations. Players assume the role of light/assault/heavy infantry, sniper or machine-gunner class, each with a unique arsenal of historical weaponry at their disposal. Missions are based on key historical operations.</td></tr><tr><td>40</td><td>Enjoy fast-paced multiplayer gaming with Deathmatch Classic (a.k.a. DMC). Valve's tribute to the work of id software, DMC invites players to grab their rocket launchers and put their reflexes to the test in a collection of futuristic settings.</td><td>Enjoy fast-paced multiplayer gaming with Deathmatch Classic (a.k.a. DMC). Valve's tribute to the work of id software, DMC invites players to grab their rocket launchers and put their reflexes to the test in a collection of futuristic settings.</td><td>Enjoy fast-paced multiplayer gaming with Deathmatch Classic (a.k.a. DMC). Valve's tribute to the work of id software, DMC invites players to grab their rocket launchers and put their reflexes to the test in a collection of futuristic settings.</td></tr><tr><td>50</td><td>Return to the Black Mesa Research Facility as one of the military specialists assigned to eliminate Gordon Freeman. Experience an entirely new episode of single player action. Meet fierce alien opponents, and experiment with new weaponry. Named 'Game of the Year' by the Academy of Interactive Arts and Sciences.</td><td>Return to the Black Mesa Research Facility as one of the military specialists assigned to eliminate Gordon Freeman. Experience an entirely new episode of single player action. Meet fierce alien opponents, and experiment with new weaponry. Named 'Game of the Year' by the Academy of Interactive Arts and Sciences.</td><td>Return to the Black Mesa Research Facility as one of the military specialists assigned to eliminate Gordon Freeman. Experience an entirely new episode of single player action. Meet fierce alien opponents, and experiment with new weaponry. Named 'Game of the Year' by the Academy of Interactive Arts and Sciences.</td></tr><tr><td>60</td><td>A futuristic action game that challenges your agility as well as your aim, Ricochet features one-on-one and team matches played in a variety of futuristic battle arenas.</td><td>A futuristic action game that challenges your agility as well as your aim, Ricochet features one-on-one and team matches played in a variety of futuristic battle arenas.</td><td>A futuristic action game that challenges your agility as well as your aim, Ricochet features one-on-one and team matches played in a variety of futuristic battle arenas.</td></tr><tr><td>70</td><td>Named Game of the Year by over 50 publications, Valve's debut title blends action and adventure with award-winning technology to create a frighteningly realistic world where players must think to survive. Also includes an exciting multiplayer mode that allows you to play against friends and enemies around the world.</td><td>Named Game of the Year by over 50 publications, Valve's debut title blends action and adventure with award-winning technology to create a frighteningly realistic world where players must think to survive. Also includes an exciting multiplayer mode that allows you to play against friends and enemies around the world.</td><td>Named Game of the Year by over 50 publications, Valve's debut title blends action and adventure with award-winning technology to create a frighteningly realistic world where players must think to survive. Also includes an exciting multiplayer mode that allows you to play against friends and enemies around the world.</td></tr><tr><td>80</td><td>With its extensive Tour of Duty campaign, a near-limitless number of skirmish modes, updates and new content for Counter-Strike's award-winning multiplayer game play, plus over 12 bonus single player missions, Counter-Strike: Condition Zero is a tremendous offering of single and multiplayer content.</td><td>With its extensive Tour of Duty campaign, a near-limitless number of skirmish modes, updates and new content for Counter-Strike's award-winning multiplayer game play, plus over 12 bonus single player missions, Counter-Strike: Condition Zero is a tremendous offering of single and multiplayer content.</td><td>With its extensive Tour of Duty campaign, a near-limitless number of skirmish modes, updates and new content for Counter-Strike's award-winning multiplayer game play, plus over 12 bonus single player missions, Counter-Strike: Condition Zero is a tremendous offering of single and multiplayer content.</td></tr><tr><td>130</td><td>Made by Gearbox Software and originally released in 2001 as an add-on to Half-Life, Blue Shift is a return to the Black Mesa Research Facility in which you play as Barney Calhoun, the security guard sidekick who helped Gordon out of so many sticky situations.</td><td>Made by Gearbox Software and originally released in 2001 as an add-on to Half-Life, Blue Shift is a return to the Black Mesa Research Facility in which you play as Barney Calhoun, the security guard sidekick who helped Gordon out of so many sticky situations.</td><td>Made by Gearbox Software and originally released in 2001 as an add-on to Half-Life, Blue Shift is a return to the Black Mesa Research Facility in which you play as Barney Calhoun, the security guard sidekick who helped Gordon out of so many sticky situations.</td></tr><tr><td>220</td><td>1998. HALF-LIFE sends a shock through the game industry with its combination of pounding action and continuous, immersive storytelling. Valve's debut title wins more than 50 game-of-the-year awards on its way to being named \"Best PC Game Ever\" by PC Gamer, and launches a franchise with more than eight million retail units sold worldwide.<br><br>\n",
       "</td><td>null</td><td>null</td></tr></tbody></table></div>"
      ]
     },
     "metadata": {
      "application/vnd.databricks.v1+output": {
       "addedWidgets": {},
       "aggData": [],
       "aggError": "",
       "aggOverflow": false,
       "aggSchema": [],
       "aggSeriesLimitReached": false,
       "aggType": "",
       "arguments": {},
       "columnCustomDisplayInfos": {},
       "data": [
        [
         10,
         "Play the world's number 1 online action game. Engage in an incredibly realistic brand of terrorist warfare in this wildly popular team-based game. Ally with teammates to complete strategic missions. Take out enemy sites. Rescue hostages. Your role affects your team's success. Your team's success affects your role.",
         "Play the world's number 1 online action game. Engage in an incredibly realistic brand of terrorist warfare in this wildly popular team-based game. Ally with teammates to complete strategic missions. Take out enemy sites. Rescue hostages. Your role affects your team's success. Your team's success affects your role.",
         "Play the world's number 1 online action game. Engage in an incredibly realistic brand of terrorist warfare in this wildly popular team-based game. Ally with teammates to complete strategic missions. Take out enemy sites. Rescue hostages. Your role affects your team's success. Your team's success affects your role."
        ],
        [
         20,
         "One of the most popular online action games of all time, Team Fortress Classic features over nine character classes -- from Medic to Spy to Demolition Man -- enlisted in a unique style of online team warfare. Each character class possesses unique weapons, items, and abilities, as teams compete online in a variety of game play modes.",
         "One of the most popular online action games of all time, Team Fortress Classic features over nine character classes -- from Medic to Spy to Demolition Man -- enlisted in a unique style of online team warfare. Each character class possesses unique weapons, items, and abilities, as teams compete online in a variety of game play modes.",
         "One of the most popular online action games of all time, Team Fortress Classic features over nine character classes -- from Medic to Spy to Demolition Man -- enlisted in a unique style of online team warfare. Each character class possesses unique weapons, items, and abilities, as teams compete online in a variety of game play modes."
        ],
        [
         30,
         "Enlist in an intense brand of Axis vs. Allied teamplay set in the WWII European Theatre of Operations. Players assume the role of light/assault/heavy infantry, sniper or machine-gunner class, each with a unique arsenal of historical weaponry at their disposal. Missions are based on key historical operations. And, as war rages, players must work together with their squad to accomplish a variety of mission-specific objectives.",
         "Enlist in an intense brand of Axis vs. Allied teamplay set in the WWII European Theatre of Operations. Players assume the role of light/assault/heavy infantry, sniper or machine-gunner class, each with a unique arsenal of historical weaponry at their disposal. Missions are based on key historical operations. And, as war rages, players must work together with their squad to accomplish a variety of mission-specific objectives.",
         "Enlist in an intense brand of Axis vs. Allied teamplay set in the WWII European Theatre of Operations. Players assume the role of light/assault/heavy infantry, sniper or machine-gunner class, each with a unique arsenal of historical weaponry at their disposal. Missions are based on key historical operations."
        ],
        [
         40,
         "Enjoy fast-paced multiplayer gaming with Deathmatch Classic (a.k.a. DMC). Valve's tribute to the work of id software, DMC invites players to grab their rocket launchers and put their reflexes to the test in a collection of futuristic settings.",
         "Enjoy fast-paced multiplayer gaming with Deathmatch Classic (a.k.a. DMC). Valve's tribute to the work of id software, DMC invites players to grab their rocket launchers and put their reflexes to the test in a collection of futuristic settings.",
         "Enjoy fast-paced multiplayer gaming with Deathmatch Classic (a.k.a. DMC). Valve's tribute to the work of id software, DMC invites players to grab their rocket launchers and put their reflexes to the test in a collection of futuristic settings."
        ],
        [
         50,
         "Return to the Black Mesa Research Facility as one of the military specialists assigned to eliminate Gordon Freeman. Experience an entirely new episode of single player action. Meet fierce alien opponents, and experiment with new weaponry. Named 'Game of the Year' by the Academy of Interactive Arts and Sciences.",
         "Return to the Black Mesa Research Facility as one of the military specialists assigned to eliminate Gordon Freeman. Experience an entirely new episode of single player action. Meet fierce alien opponents, and experiment with new weaponry. Named 'Game of the Year' by the Academy of Interactive Arts and Sciences.",
         "Return to the Black Mesa Research Facility as one of the military specialists assigned to eliminate Gordon Freeman. Experience an entirely new episode of single player action. Meet fierce alien opponents, and experiment with new weaponry. Named 'Game of the Year' by the Academy of Interactive Arts and Sciences."
        ],
        [
         60,
         "A futuristic action game that challenges your agility as well as your aim, Ricochet features one-on-one and team matches played in a variety of futuristic battle arenas.",
         "A futuristic action game that challenges your agility as well as your aim, Ricochet features one-on-one and team matches played in a variety of futuristic battle arenas.",
         "A futuristic action game that challenges your agility as well as your aim, Ricochet features one-on-one and team matches played in a variety of futuristic battle arenas."
        ],
        [
         70,
         "Named Game of the Year by over 50 publications, Valve's debut title blends action and adventure with award-winning technology to create a frighteningly realistic world where players must think to survive. Also includes an exciting multiplayer mode that allows you to play against friends and enemies around the world.",
         "Named Game of the Year by over 50 publications, Valve's debut title blends action and adventure with award-winning technology to create a frighteningly realistic world where players must think to survive. Also includes an exciting multiplayer mode that allows you to play against friends and enemies around the world.",
         "Named Game of the Year by over 50 publications, Valve's debut title blends action and adventure with award-winning technology to create a frighteningly realistic world where players must think to survive. Also includes an exciting multiplayer mode that allows you to play against friends and enemies around the world."
        ],
        [
         80,
         "With its extensive Tour of Duty campaign, a near-limitless number of skirmish modes, updates and new content for Counter-Strike's award-winning multiplayer game play, plus over 12 bonus single player missions, Counter-Strike: Condition Zero is a tremendous offering of single and multiplayer content.",
         "With its extensive Tour of Duty campaign, a near-limitless number of skirmish modes, updates and new content for Counter-Strike's award-winning multiplayer game play, plus over 12 bonus single player missions, Counter-Strike: Condition Zero is a tremendous offering of single and multiplayer content.",
         "With its extensive Tour of Duty campaign, a near-limitless number of skirmish modes, updates and new content for Counter-Strike's award-winning multiplayer game play, plus over 12 bonus single player missions, Counter-Strike: Condition Zero is a tremendous offering of single and multiplayer content."
        ],
        [
         130,
         "Made by Gearbox Software and originally released in 2001 as an add-on to Half-Life, Blue Shift is a return to the Black Mesa Research Facility in which you play as Barney Calhoun, the security guard sidekick who helped Gordon out of so many sticky situations.",
         "Made by Gearbox Software and originally released in 2001 as an add-on to Half-Life, Blue Shift is a return to the Black Mesa Research Facility in which you play as Barney Calhoun, the security guard sidekick who helped Gordon out of so many sticky situations.",
         "Made by Gearbox Software and originally released in 2001 as an add-on to Half-Life, Blue Shift is a return to the Black Mesa Research Facility in which you play as Barney Calhoun, the security guard sidekick who helped Gordon out of so many sticky situations."
        ],
        [
         220,
         "1998. HALF-LIFE sends a shock through the game industry with its combination of pounding action and continuous, immersive storytelling. Valve's debut title wins more than 50 game-of-the-year awards on its way to being named \"Best PC Game Ever\" by PC Gamer, and launches a franchise with more than eight million retail units sold worldwide.<br><br>\n",
         null,
         null
        ]
       ],
       "datasetInfos": [],
       "dbfsResultPath": null,
       "isJsonSchema": true,
       "metadata": {},
       "overflow": false,
       "plotOptions": {
        "customPlotOptions": {},
        "displayType": "table",
        "pivotAggregation": null,
        "pivotColumns": null,
        "xColumns": null,
        "yColumns": null
       },
       "removedWidgets": [],
       "schema": [
        {
         "metadata": "{}",
         "name": "steam_appid",
         "type": "\"long\""
        },
        {
         "metadata": "{}",
         "name": "detailed_description",
         "type": "\"string\""
        },
        {
         "metadata": "{}",
         "name": "about_the_game",
         "type": "\"string\""
        },
        {
         "metadata": "{}",
         "name": "short_description",
         "type": "\"string\""
        }
       ],
       "type": "table"
      }
     },
     "output_type": "display_data"
    }
   ],
   "source": [
    "%sql\n",
    "SELECT * FROM steam_description_data\n",
    "LIMIT 10"
   ]
  },
  {
   "cell_type": "markdown",
   "metadata": {
    "application/vnd.databricks.v1+cell": {
     "cellMetadata": {
      "byteLimit": 2048000,
      "rowLimit": 10000
     },
     "inputWidgets": {},
     "nuid": "36b6759a-f5ed-42bb-8033-ae11c52f6b93",
     "showTitle": false,
     "title": ""
    }
   },
   "source": [
    "## 2.4 Carga"
   ]
  },
  {
   "cell_type": "code",
   "execution_count": 0,
   "metadata": {
    "application/vnd.databricks.v1+cell": {
     "cellMetadata": {
      "byteLimit": 2048000,
      "rowLimit": 10000
     },
     "inputWidgets": {},
     "nuid": "31964106-5432-47ee-84a6-0d7073c08f0c",
     "showTitle": false,
     "title": ""
    }
   },
   "outputs": [
    {
     "output_type": "display_data",
     "data": {
      "application/vnd.databricks.v1+bamboolib_hint": "{\"pd.DataFrames\": [], \"version\": \"0.0.1\"}",
      "text/plain": []
     },
     "metadata": {},
     "output_type": "display_data"
    }
   ],
   "source": [
    "from pyspark.sql import SparkSession\n",
    "import pandas as pd\n",
    "\n",
    "spark = SparkSession.builder.enableHiveSupport().getOrCreate()\n",
    "\n",
    "arquivo_steam = 'dbfs:/user/hive/warehouse/steam'\n",
    "arquivo_description = 'dbfs:/user/hive/warehouse/steam_description_data'\n",
    "arquivo_requirements = 'dbfs:/user/hive/warehouse/steam_requirements_data'\n",
    "\n",
    "steam = spark.read.load(arquivo_steam)\n",
    "description = spark.read.load(arquivo_description)\n",
    "requirements = spark.read.load(arquivo_requirements)\n",
    "\n",
    "steam = steam.toPandas()\n",
    "description = description.toPandas()\n",
    "requirements = requirements.toPandas()"
   ]
  },
  {
   "cell_type": "code",
   "execution_count": 0,
   "metadata": {
    "application/vnd.databricks.v1+cell": {
     "cellMetadata": {
      "byteLimit": 2048000,
      "rowLimit": 10000
     },
     "inputWidgets": {},
     "nuid": "e26432b5-24b8-4c88-961b-4dd2323ed2c8",
     "showTitle": false,
     "title": ""
    }
   },
   "outputs": [
    {
     "output_type": "display_data",
     "data": {
      "text/html": [
       "<div>\n",
       "<style scoped>\n",
       "    .dataframe tbody tr th:only-of-type {\n",
       "        vertical-align: middle;\n",
       "    }\n",
       "\n",
       "    .dataframe tbody tr th {\n",
       "        vertical-align: top;\n",
       "    }\n",
       "\n",
       "    .dataframe thead th {\n",
       "        text-align: right;\n",
       "    }\n",
       "</style>\n",
       "<table border=\"1\" class=\"dataframe\">\n",
       "  <thead>\n",
       "    <tr style=\"text-align: right;\">\n",
       "      <th></th>\n",
       "      <th>appid</th>\n",
       "      <th>name</th>\n",
       "      <th>release_date</th>\n",
       "      <th>english</th>\n",
       "      <th>developer</th>\n",
       "      <th>publisher</th>\n",
       "      <th>platforms</th>\n",
       "      <th>required_age</th>\n",
       "      <th>categories</th>\n",
       "      <th>genres</th>\n",
       "      <th>...</th>\n",
       "      <th>steam_appid_x</th>\n",
       "      <th>detailed_description</th>\n",
       "      <th>about_the_game</th>\n",
       "      <th>short_description</th>\n",
       "      <th>steam_appid_y</th>\n",
       "      <th>pc_requirements</th>\n",
       "      <th>mac_requirements</th>\n",
       "      <th>linux_requirements</th>\n",
       "      <th>minimum</th>\n",
       "      <th>recommended</th>\n",
       "    </tr>\n",
       "  </thead>\n",
       "  <tbody>\n",
       "    <tr>\n",
       "      <th>0</th>\n",
       "      <td>10</td>\n",
       "      <td>Counter-Strike</td>\n",
       "      <td>2000-11-01</td>\n",
       "      <td>1</td>\n",
       "      <td>Valve</td>\n",
       "      <td>Valve</td>\n",
       "      <td>windows;mac;linux</td>\n",
       "      <td>0</td>\n",
       "      <td>Multi-player;Online Multi-Player;Local Multi-P...</td>\n",
       "      <td>Action</td>\n",
       "      <td>...</td>\n",
       "      <td>10.0</td>\n",
       "      <td>Play the world's number 1 online action game. ...</td>\n",
       "      <td>Play the world's number 1 online action game. ...</td>\n",
       "      <td>Play the world's number 1 online action game. ...</td>\n",
       "      <td>10</td>\n",
       "      <td>{'minimum': '\\r\\n\\t\\t\\t&lt;p&gt;&lt;strong&gt;Minimum:&lt;/st...</td>\n",
       "      <td>{'minimum': 'Minimum: OS X  Snow Leopard 10.6....</td>\n",
       "      <td>{'minimum': 'Minimum: Linux Ubuntu 12.04, Dual...</td>\n",
       "      <td>500 mhz processor, 96mb ram, 16mb video card, ...</td>\n",
       "      <td>None</td>\n",
       "    </tr>\n",
       "    <tr>\n",
       "      <th>1</th>\n",
       "      <td>10</td>\n",
       "      <td>Counter-Strike</td>\n",
       "      <td>2000-11-01</td>\n",
       "      <td>1</td>\n",
       "      <td>Valve</td>\n",
       "      <td>Valve</td>\n",
       "      <td>windows;mac;linux</td>\n",
       "      <td>0</td>\n",
       "      <td>Multi-player;Online Multi-Player;Local Multi-P...</td>\n",
       "      <td>Action</td>\n",
       "      <td>...</td>\n",
       "      <td>10.0</td>\n",
       "      <td>000 levels of chaotic science fiction horror t...</td>\n",
       "      <td>in any order</td>\n",
       "      <td>from the dead easy beginning sectors to the c...</td>\n",
       "      <td>10</td>\n",
       "      <td>{'minimum': '\\r\\n\\t\\t\\t&lt;p&gt;&lt;strong&gt;Minimum:&lt;/st...</td>\n",
       "      <td>{'minimum': 'Minimum: OS X  Snow Leopard 10.6....</td>\n",
       "      <td>{'minimum': 'Minimum: Linux Ubuntu 12.04, Dual...</td>\n",
       "      <td>500 mhz processor, 96mb ram, 16mb video card, ...</td>\n",
       "      <td>None</td>\n",
       "    </tr>\n",
       "    <tr>\n",
       "      <th>2</th>\n",
       "      <td>10</td>\n",
       "      <td>Counter-Strike</td>\n",
       "      <td>2000-11-01</td>\n",
       "      <td>1</td>\n",
       "      <td>Valve</td>\n",
       "      <td>Valve</td>\n",
       "      <td>windows;mac;linux</td>\n",
       "      <td>0</td>\n",
       "      <td>Multi-player;Online Multi-Player;Local Multi-P...</td>\n",
       "      <td>Action</td>\n",
       "      <td>...</td>\n",
       "      <td>10.0</td>\n",
       "      <td>000 levels of chaotic science fiction horror t...</td>\n",
       "      <td>in any order</td>\n",
       "      <td>from the dead easy beginning sectors to the c...</td>\n",
       "      <td>10</td>\n",
       "      <td>{'minimum': '\\r\\n\\t\\t\\t&lt;p&gt;&lt;strong&gt;Minimum:&lt;/st...</td>\n",
       "      <td>{'minimum': 'Minimum: OS X  Snow Leopard 10.6....</td>\n",
       "      <td>{'minimum': 'Minimum: Linux Ubuntu 12.04, Dual...</td>\n",
       "      <td>500 mhz processor, 96mb ram, 16mb video card, ...</td>\n",
       "      <td>None</td>\n",
       "    </tr>\n",
       "    <tr>\n",
       "      <th>3</th>\n",
       "      <td>20</td>\n",
       "      <td>Team Fortress Classic</td>\n",
       "      <td>1999-04-01</td>\n",
       "      <td>1</td>\n",
       "      <td>Valve</td>\n",
       "      <td>Valve</td>\n",
       "      <td>windows;mac;linux</td>\n",
       "      <td>0</td>\n",
       "      <td>Multi-player;Online Multi-Player;Local Multi-P...</td>\n",
       "      <td>Action</td>\n",
       "      <td>...</td>\n",
       "      <td>20.0</td>\n",
       "      <td>One of the most popular online action games of...</td>\n",
       "      <td>One of the most popular online action games of...</td>\n",
       "      <td>One of the most popular online action games of...</td>\n",
       "      <td>20</td>\n",
       "      <td>{'minimum': '\\r\\n\\t\\t\\t&lt;p&gt;&lt;strong&gt;Minimum:&lt;/st...</td>\n",
       "      <td>{'minimum': 'Minimum: OS X  Snow Leopard 10.6....</td>\n",
       "      <td>{'minimum': 'Minimum: Linux Ubuntu 12.04, Dual...</td>\n",
       "      <td>500 mhz processor, 96mb ram, 16mb video card, ...</td>\n",
       "      <td>None</td>\n",
       "    </tr>\n",
       "    <tr>\n",
       "      <th>4</th>\n",
       "      <td>30</td>\n",
       "      <td>Day of Defeat</td>\n",
       "      <td>2003-05-01</td>\n",
       "      <td>1</td>\n",
       "      <td>Valve</td>\n",
       "      <td>Valve</td>\n",
       "      <td>windows;mac;linux</td>\n",
       "      <td>0</td>\n",
       "      <td>Multi-player;Valve Anti-Cheat enabled</td>\n",
       "      <td>Action</td>\n",
       "      <td>...</td>\n",
       "      <td>30.0</td>\n",
       "      <td>Enlist in an intense brand of Axis vs. Allied ...</td>\n",
       "      <td>Enlist in an intense brand of Axis vs. Allied ...</td>\n",
       "      <td>Enlist in an intense brand of Axis vs. Allied ...</td>\n",
       "      <td>30</td>\n",
       "      <td>{'minimum': '\\r\\n\\t\\t\\t&lt;p&gt;&lt;strong&gt;Minimum:&lt;/st...</td>\n",
       "      <td>{'minimum': 'Minimum: OS X  Snow Leopard 10.6....</td>\n",
       "      <td>{'minimum': 'Minimum: Linux Ubuntu 12.04, Dual...</td>\n",
       "      <td>500 mhz processor, 96mb ram, 16mb video card, ...</td>\n",
       "      <td>None</td>\n",
       "    </tr>\n",
       "  </tbody>\n",
       "</table>\n",
       "<p>5 rows × 28 columns</p>\n",
       "</div>"
      ]
     },
     "metadata": {
      "application/vnd.databricks.v1+output": {
       "addedWidgets": {},
       "arguments": {},
       "data": "<div>\n<style scoped>\n    .dataframe tbody tr th:only-of-type {\n        vertical-align: middle;\n    }\n\n    .dataframe tbody tr th {\n        vertical-align: top;\n    }\n\n    .dataframe thead th {\n        text-align: right;\n    }\n</style>\n<table border=\"1\" class=\"dataframe\">\n  <thead>\n    <tr style=\"text-align: right;\">\n      <th></th>\n      <th>appid</th>\n      <th>name</th>\n      <th>release_date</th>\n      <th>english</th>\n      <th>developer</th>\n      <th>publisher</th>\n      <th>platforms</th>\n      <th>required_age</th>\n      <th>categories</th>\n      <th>genres</th>\n      <th>...</th>\n      <th>steam_appid_x</th>\n      <th>detailed_description</th>\n      <th>about_the_game</th>\n      <th>short_description</th>\n      <th>steam_appid_y</th>\n      <th>pc_requirements</th>\n      <th>mac_requirements</th>\n      <th>linux_requirements</th>\n      <th>minimum</th>\n      <th>recommended</th>\n    </tr>\n  </thead>\n  <tbody>\n    <tr>\n      <th>0</th>\n      <td>10</td>\n      <td>Counter-Strike</td>\n      <td>2000-11-01</td>\n      <td>1</td>\n      <td>Valve</td>\n      <td>Valve</td>\n      <td>windows;mac;linux</td>\n      <td>0</td>\n      <td>Multi-player;Online Multi-Player;Local Multi-P...</td>\n      <td>Action</td>\n      <td>...</td>\n      <td>10.0</td>\n      <td>Play the world's number 1 online action game. ...</td>\n      <td>Play the world's number 1 online action game. ...</td>\n      <td>Play the world's number 1 online action game. ...</td>\n      <td>10</td>\n      <td>{'minimum': '\\r\\n\\t\\t\\t&lt;p&gt;&lt;strong&gt;Minimum:&lt;/st...</td>\n      <td>{'minimum': 'Minimum: OS X  Snow Leopard 10.6....</td>\n      <td>{'minimum': 'Minimum: Linux Ubuntu 12.04, Dual...</td>\n      <td>500 mhz processor, 96mb ram, 16mb video card, ...</td>\n      <td>None</td>\n    </tr>\n    <tr>\n      <th>1</th>\n      <td>10</td>\n      <td>Counter-Strike</td>\n      <td>2000-11-01</td>\n      <td>1</td>\n      <td>Valve</td>\n      <td>Valve</td>\n      <td>windows;mac;linux</td>\n      <td>0</td>\n      <td>Multi-player;Online Multi-Player;Local Multi-P...</td>\n      <td>Action</td>\n      <td>...</td>\n      <td>10.0</td>\n      <td>000 levels of chaotic science fiction horror t...</td>\n      <td>in any order</td>\n      <td>from the dead easy beginning sectors to the c...</td>\n      <td>10</td>\n      <td>{'minimum': '\\r\\n\\t\\t\\t&lt;p&gt;&lt;strong&gt;Minimum:&lt;/st...</td>\n      <td>{'minimum': 'Minimum: OS X  Snow Leopard 10.6....</td>\n      <td>{'minimum': 'Minimum: Linux Ubuntu 12.04, Dual...</td>\n      <td>500 mhz processor, 96mb ram, 16mb video card, ...</td>\n      <td>None</td>\n    </tr>\n    <tr>\n      <th>2</th>\n      <td>10</td>\n      <td>Counter-Strike</td>\n      <td>2000-11-01</td>\n      <td>1</td>\n      <td>Valve</td>\n      <td>Valve</td>\n      <td>windows;mac;linux</td>\n      <td>0</td>\n      <td>Multi-player;Online Multi-Player;Local Multi-P...</td>\n      <td>Action</td>\n      <td>...</td>\n      <td>10.0</td>\n      <td>000 levels of chaotic science fiction horror t...</td>\n      <td>in any order</td>\n      <td>from the dead easy beginning sectors to the c...</td>\n      <td>10</td>\n      <td>{'minimum': '\\r\\n\\t\\t\\t&lt;p&gt;&lt;strong&gt;Minimum:&lt;/st...</td>\n      <td>{'minimum': 'Minimum: OS X  Snow Leopard 10.6....</td>\n      <td>{'minimum': 'Minimum: Linux Ubuntu 12.04, Dual...</td>\n      <td>500 mhz processor, 96mb ram, 16mb video card, ...</td>\n      <td>None</td>\n    </tr>\n    <tr>\n      <th>3</th>\n      <td>20</td>\n      <td>Team Fortress Classic</td>\n      <td>1999-04-01</td>\n      <td>1</td>\n      <td>Valve</td>\n      <td>Valve</td>\n      <td>windows;mac;linux</td>\n      <td>0</td>\n      <td>Multi-player;Online Multi-Player;Local Multi-P...</td>\n      <td>Action</td>\n      <td>...</td>\n      <td>20.0</td>\n      <td>One of the most popular online action games of...</td>\n      <td>One of the most popular online action games of...</td>\n      <td>One of the most popular online action games of...</td>\n      <td>20</td>\n      <td>{'minimum': '\\r\\n\\t\\t\\t&lt;p&gt;&lt;strong&gt;Minimum:&lt;/st...</td>\n      <td>{'minimum': 'Minimum: OS X  Snow Leopard 10.6....</td>\n      <td>{'minimum': 'Minimum: Linux Ubuntu 12.04, Dual...</td>\n      <td>500 mhz processor, 96mb ram, 16mb video card, ...</td>\n      <td>None</td>\n    </tr>\n    <tr>\n      <th>4</th>\n      <td>30</td>\n      <td>Day of Defeat</td>\n      <td>2003-05-01</td>\n      <td>1</td>\n      <td>Valve</td>\n      <td>Valve</td>\n      <td>windows;mac;linux</td>\n      <td>0</td>\n      <td>Multi-player;Valve Anti-Cheat enabled</td>\n      <td>Action</td>\n      <td>...</td>\n      <td>30.0</td>\n      <td>Enlist in an intense brand of Axis vs. Allied ...</td>\n      <td>Enlist in an intense brand of Axis vs. Allied ...</td>\n      <td>Enlist in an intense brand of Axis vs. Allied ...</td>\n      <td>30</td>\n      <td>{'minimum': '\\r\\n\\t\\t\\t&lt;p&gt;&lt;strong&gt;Minimum:&lt;/st...</td>\n      <td>{'minimum': 'Minimum: OS X  Snow Leopard 10.6....</td>\n      <td>{'minimum': 'Minimum: Linux Ubuntu 12.04, Dual...</td>\n      <td>500 mhz processor, 96mb ram, 16mb video card, ...</td>\n      <td>None</td>\n    </tr>\n  </tbody>\n</table>\n<p>5 rows × 28 columns</p>\n</div>",
       "datasetInfos": [],
       "metadata": {},
       "removedWidgets": [],
       "textData": null,
       "type": "htmlSandbox"
      }
     },
     "output_type": "display_data"
    }
   ],
   "source": [
    "steam_all_data = pd.merge(steam, description, left_on='appid', right_on='steam_appid')\n",
    "steam_all_data = pd.merge(steam_all_data, requirements, left_on='appid', right_on='steam_appid')\n",
    "steam_all_data.head(5)"
   ]
  },
  {
   "cell_type": "code",
   "execution_count": 0,
   "metadata": {
    "application/vnd.databricks.v1+cell": {
     "cellMetadata": {
      "byteLimit": 2048000,
      "rowLimit": 10000
     },
     "inputWidgets": {},
     "nuid": "58ece824-8941-4276-a6f8-5b32721d8fef",
     "showTitle": false,
     "title": ""
    }
   },
   "outputs": [
    {
     "output_type": "display_data",
     "data": {
      "text/html": [
       "<div>\n",
       "<style scoped>\n",
       "    .dataframe tbody tr th:only-of-type {\n",
       "        vertical-align: middle;\n",
       "    }\n",
       "\n",
       "    .dataframe tbody tr th {\n",
       "        vertical-align: top;\n",
       "    }\n",
       "\n",
       "    .dataframe thead th {\n",
       "        text-align: right;\n",
       "    }\n",
       "</style>\n",
       "<table border=\"1\" class=\"dataframe\">\n",
       "  <thead>\n",
       "    <tr style=\"text-align: right;\">\n",
       "      <th></th>\n",
       "      <th>appid</th>\n",
       "      <th>name</th>\n",
       "      <th>release_date</th>\n",
       "      <th>developer</th>\n",
       "      <th>publisher</th>\n",
       "      <th>platforms</th>\n",
       "      <th>required_age</th>\n",
       "      <th>categories</th>\n",
       "      <th>genres</th>\n",
       "      <th>steamspy_tags</th>\n",
       "      <th>...</th>\n",
       "      <th>owners</th>\n",
       "      <th>price</th>\n",
       "      <th>detailed_description</th>\n",
       "      <th>about_the_game</th>\n",
       "      <th>short_description</th>\n",
       "      <th>pc_requirements</th>\n",
       "      <th>mac_requirements</th>\n",
       "      <th>linux_requirements</th>\n",
       "      <th>minimum</th>\n",
       "      <th>recommended</th>\n",
       "    </tr>\n",
       "  </thead>\n",
       "  <tbody>\n",
       "    <tr>\n",
       "      <th>0</th>\n",
       "      <td>10</td>\n",
       "      <td>Counter-Strike</td>\n",
       "      <td>2000-11-01</td>\n",
       "      <td>Valve</td>\n",
       "      <td>Valve</td>\n",
       "      <td>windows;mac;linux</td>\n",
       "      <td>0</td>\n",
       "      <td>Multi-player;Online Multi-Player;Local Multi-P...</td>\n",
       "      <td>Action</td>\n",
       "      <td>Action;FPS;Multiplayer</td>\n",
       "      <td>...</td>\n",
       "      <td>10000000-20000000</td>\n",
       "      <td>7.19</td>\n",
       "      <td>Play the world's number 1 online action game. ...</td>\n",
       "      <td>Play the world's number 1 online action game. ...</td>\n",
       "      <td>Play the world's number 1 online action game. ...</td>\n",
       "      <td>{'minimum': '\\r\\n\\t\\t\\t&lt;p&gt;&lt;strong&gt;Minimum:&lt;/st...</td>\n",
       "      <td>{'minimum': 'Minimum: OS X  Snow Leopard 10.6....</td>\n",
       "      <td>{'minimum': 'Minimum: Linux Ubuntu 12.04, Dual...</td>\n",
       "      <td>500 mhz processor, 96mb ram, 16mb video card, ...</td>\n",
       "      <td>None</td>\n",
       "    </tr>\n",
       "    <tr>\n",
       "      <th>1</th>\n",
       "      <td>10</td>\n",
       "      <td>Counter-Strike</td>\n",
       "      <td>2000-11-01</td>\n",
       "      <td>Valve</td>\n",
       "      <td>Valve</td>\n",
       "      <td>windows;mac;linux</td>\n",
       "      <td>0</td>\n",
       "      <td>Multi-player;Online Multi-Player;Local Multi-P...</td>\n",
       "      <td>Action</td>\n",
       "      <td>Action;FPS;Multiplayer</td>\n",
       "      <td>...</td>\n",
       "      <td>10000000-20000000</td>\n",
       "      <td>7.19</td>\n",
       "      <td>000 levels of chaotic science fiction horror t...</td>\n",
       "      <td>in any order</td>\n",
       "      <td>from the dead easy beginning sectors to the c...</td>\n",
       "      <td>{'minimum': '\\r\\n\\t\\t\\t&lt;p&gt;&lt;strong&gt;Minimum:&lt;/st...</td>\n",
       "      <td>{'minimum': 'Minimum: OS X  Snow Leopard 10.6....</td>\n",
       "      <td>{'minimum': 'Minimum: Linux Ubuntu 12.04, Dual...</td>\n",
       "      <td>500 mhz processor, 96mb ram, 16mb video card, ...</td>\n",
       "      <td>None</td>\n",
       "    </tr>\n",
       "    <tr>\n",
       "      <th>2</th>\n",
       "      <td>10</td>\n",
       "      <td>Counter-Strike</td>\n",
       "      <td>2000-11-01</td>\n",
       "      <td>Valve</td>\n",
       "      <td>Valve</td>\n",
       "      <td>windows;mac;linux</td>\n",
       "      <td>0</td>\n",
       "      <td>Multi-player;Online Multi-Player;Local Multi-P...</td>\n",
       "      <td>Action</td>\n",
       "      <td>Action;FPS;Multiplayer</td>\n",
       "      <td>...</td>\n",
       "      <td>10000000-20000000</td>\n",
       "      <td>7.19</td>\n",
       "      <td>000 levels of chaotic science fiction horror t...</td>\n",
       "      <td>in any order</td>\n",
       "      <td>from the dead easy beginning sectors to the c...</td>\n",
       "      <td>{'minimum': '\\r\\n\\t\\t\\t&lt;p&gt;&lt;strong&gt;Minimum:&lt;/st...</td>\n",
       "      <td>{'minimum': 'Minimum: OS X  Snow Leopard 10.6....</td>\n",
       "      <td>{'minimum': 'Minimum: Linux Ubuntu 12.04, Dual...</td>\n",
       "      <td>500 mhz processor, 96mb ram, 16mb video card, ...</td>\n",
       "      <td>None</td>\n",
       "    </tr>\n",
       "    <tr>\n",
       "      <th>3</th>\n",
       "      <td>20</td>\n",
       "      <td>Team Fortress Classic</td>\n",
       "      <td>1999-04-01</td>\n",
       "      <td>Valve</td>\n",
       "      <td>Valve</td>\n",
       "      <td>windows;mac;linux</td>\n",
       "      <td>0</td>\n",
       "      <td>Multi-player;Online Multi-Player;Local Multi-P...</td>\n",
       "      <td>Action</td>\n",
       "      <td>Action;FPS;Multiplayer</td>\n",
       "      <td>...</td>\n",
       "      <td>5000000-10000000</td>\n",
       "      <td>3.99</td>\n",
       "      <td>One of the most popular online action games of...</td>\n",
       "      <td>One of the most popular online action games of...</td>\n",
       "      <td>One of the most popular online action games of...</td>\n",
       "      <td>{'minimum': '\\r\\n\\t\\t\\t&lt;p&gt;&lt;strong&gt;Minimum:&lt;/st...</td>\n",
       "      <td>{'minimum': 'Minimum: OS X  Snow Leopard 10.6....</td>\n",
       "      <td>{'minimum': 'Minimum: Linux Ubuntu 12.04, Dual...</td>\n",
       "      <td>500 mhz processor, 96mb ram, 16mb video card, ...</td>\n",
       "      <td>None</td>\n",
       "    </tr>\n",
       "    <tr>\n",
       "      <th>4</th>\n",
       "      <td>30</td>\n",
       "      <td>Day of Defeat</td>\n",
       "      <td>2003-05-01</td>\n",
       "      <td>Valve</td>\n",
       "      <td>Valve</td>\n",
       "      <td>windows;mac;linux</td>\n",
       "      <td>0</td>\n",
       "      <td>Multi-player;Valve Anti-Cheat enabled</td>\n",
       "      <td>Action</td>\n",
       "      <td>FPS;World War II;Multiplayer</td>\n",
       "      <td>...</td>\n",
       "      <td>5000000-10000000</td>\n",
       "      <td>3.99</td>\n",
       "      <td>Enlist in an intense brand of Axis vs. Allied ...</td>\n",
       "      <td>Enlist in an intense brand of Axis vs. Allied ...</td>\n",
       "      <td>Enlist in an intense brand of Axis vs. Allied ...</td>\n",
       "      <td>{'minimum': '\\r\\n\\t\\t\\t&lt;p&gt;&lt;strong&gt;Minimum:&lt;/st...</td>\n",
       "      <td>{'minimum': 'Minimum: OS X  Snow Leopard 10.6....</td>\n",
       "      <td>{'minimum': 'Minimum: Linux Ubuntu 12.04, Dual...</td>\n",
       "      <td>500 mhz processor, 96mb ram, 16mb video card, ...</td>\n",
       "      <td>None</td>\n",
       "    </tr>\n",
       "  </tbody>\n",
       "</table>\n",
       "<p>5 rows × 25 columns</p>\n",
       "</div>"
      ]
     },
     "metadata": {
      "application/vnd.databricks.v1+output": {
       "addedWidgets": {},
       "arguments": {},
       "data": "<div>\n<style scoped>\n    .dataframe tbody tr th:only-of-type {\n        vertical-align: middle;\n    }\n\n    .dataframe tbody tr th {\n        vertical-align: top;\n    }\n\n    .dataframe thead th {\n        text-align: right;\n    }\n</style>\n<table border=\"1\" class=\"dataframe\">\n  <thead>\n    <tr style=\"text-align: right;\">\n      <th></th>\n      <th>appid</th>\n      <th>name</th>\n      <th>release_date</th>\n      <th>developer</th>\n      <th>publisher</th>\n      <th>platforms</th>\n      <th>required_age</th>\n      <th>categories</th>\n      <th>genres</th>\n      <th>steamspy_tags</th>\n      <th>...</th>\n      <th>owners</th>\n      <th>price</th>\n      <th>detailed_description</th>\n      <th>about_the_game</th>\n      <th>short_description</th>\n      <th>pc_requirements</th>\n      <th>mac_requirements</th>\n      <th>linux_requirements</th>\n      <th>minimum</th>\n      <th>recommended</th>\n    </tr>\n  </thead>\n  <tbody>\n    <tr>\n      <th>0</th>\n      <td>10</td>\n      <td>Counter-Strike</td>\n      <td>2000-11-01</td>\n      <td>Valve</td>\n      <td>Valve</td>\n      <td>windows;mac;linux</td>\n      <td>0</td>\n      <td>Multi-player;Online Multi-Player;Local Multi-P...</td>\n      <td>Action</td>\n      <td>Action;FPS;Multiplayer</td>\n      <td>...</td>\n      <td>10000000-20000000</td>\n      <td>7.19</td>\n      <td>Play the world's number 1 online action game. ...</td>\n      <td>Play the world's number 1 online action game. ...</td>\n      <td>Play the world's number 1 online action game. ...</td>\n      <td>{'minimum': '\\r\\n\\t\\t\\t&lt;p&gt;&lt;strong&gt;Minimum:&lt;/st...</td>\n      <td>{'minimum': 'Minimum: OS X  Snow Leopard 10.6....</td>\n      <td>{'minimum': 'Minimum: Linux Ubuntu 12.04, Dual...</td>\n      <td>500 mhz processor, 96mb ram, 16mb video card, ...</td>\n      <td>None</td>\n    </tr>\n    <tr>\n      <th>1</th>\n      <td>10</td>\n      <td>Counter-Strike</td>\n      <td>2000-11-01</td>\n      <td>Valve</td>\n      <td>Valve</td>\n      <td>windows;mac;linux</td>\n      <td>0</td>\n      <td>Multi-player;Online Multi-Player;Local Multi-P...</td>\n      <td>Action</td>\n      <td>Action;FPS;Multiplayer</td>\n      <td>...</td>\n      <td>10000000-20000000</td>\n      <td>7.19</td>\n      <td>000 levels of chaotic science fiction horror t...</td>\n      <td>in any order</td>\n      <td>from the dead easy beginning sectors to the c...</td>\n      <td>{'minimum': '\\r\\n\\t\\t\\t&lt;p&gt;&lt;strong&gt;Minimum:&lt;/st...</td>\n      <td>{'minimum': 'Minimum: OS X  Snow Leopard 10.6....</td>\n      <td>{'minimum': 'Minimum: Linux Ubuntu 12.04, Dual...</td>\n      <td>500 mhz processor, 96mb ram, 16mb video card, ...</td>\n      <td>None</td>\n    </tr>\n    <tr>\n      <th>2</th>\n      <td>10</td>\n      <td>Counter-Strike</td>\n      <td>2000-11-01</td>\n      <td>Valve</td>\n      <td>Valve</td>\n      <td>windows;mac;linux</td>\n      <td>0</td>\n      <td>Multi-player;Online Multi-Player;Local Multi-P...</td>\n      <td>Action</td>\n      <td>Action;FPS;Multiplayer</td>\n      <td>...</td>\n      <td>10000000-20000000</td>\n      <td>7.19</td>\n      <td>000 levels of chaotic science fiction horror t...</td>\n      <td>in any order</td>\n      <td>from the dead easy beginning sectors to the c...</td>\n      <td>{'minimum': '\\r\\n\\t\\t\\t&lt;p&gt;&lt;strong&gt;Minimum:&lt;/st...</td>\n      <td>{'minimum': 'Minimum: OS X  Snow Leopard 10.6....</td>\n      <td>{'minimum': 'Minimum: Linux Ubuntu 12.04, Dual...</td>\n      <td>500 mhz processor, 96mb ram, 16mb video card, ...</td>\n      <td>None</td>\n    </tr>\n    <tr>\n      <th>3</th>\n      <td>20</td>\n      <td>Team Fortress Classic</td>\n      <td>1999-04-01</td>\n      <td>Valve</td>\n      <td>Valve</td>\n      <td>windows;mac;linux</td>\n      <td>0</td>\n      <td>Multi-player;Online Multi-Player;Local Multi-P...</td>\n      <td>Action</td>\n      <td>Action;FPS;Multiplayer</td>\n      <td>...</td>\n      <td>5000000-10000000</td>\n      <td>3.99</td>\n      <td>One of the most popular online action games of...</td>\n      <td>One of the most popular online action games of...</td>\n      <td>One of the most popular online action games of...</td>\n      <td>{'minimum': '\\r\\n\\t\\t\\t&lt;p&gt;&lt;strong&gt;Minimum:&lt;/st...</td>\n      <td>{'minimum': 'Minimum: OS X  Snow Leopard 10.6....</td>\n      <td>{'minimum': 'Minimum: Linux Ubuntu 12.04, Dual...</td>\n      <td>500 mhz processor, 96mb ram, 16mb video card, ...</td>\n      <td>None</td>\n    </tr>\n    <tr>\n      <th>4</th>\n      <td>30</td>\n      <td>Day of Defeat</td>\n      <td>2003-05-01</td>\n      <td>Valve</td>\n      <td>Valve</td>\n      <td>windows;mac;linux</td>\n      <td>0</td>\n      <td>Multi-player;Valve Anti-Cheat enabled</td>\n      <td>Action</td>\n      <td>FPS;World War II;Multiplayer</td>\n      <td>...</td>\n      <td>5000000-10000000</td>\n      <td>3.99</td>\n      <td>Enlist in an intense brand of Axis vs. Allied ...</td>\n      <td>Enlist in an intense brand of Axis vs. Allied ...</td>\n      <td>Enlist in an intense brand of Axis vs. Allied ...</td>\n      <td>{'minimum': '\\r\\n\\t\\t\\t&lt;p&gt;&lt;strong&gt;Minimum:&lt;/st...</td>\n      <td>{'minimum': 'Minimum: OS X  Snow Leopard 10.6....</td>\n      <td>{'minimum': 'Minimum: Linux Ubuntu 12.04, Dual...</td>\n      <td>500 mhz processor, 96mb ram, 16mb video card, ...</td>\n      <td>None</td>\n    </tr>\n  </tbody>\n</table>\n<p>5 rows × 25 columns</p>\n</div>",
       "datasetInfos": [],
       "metadata": {},
       "removedWidgets": [],
       "textData": null,
       "type": "htmlSandbox"
      }
     },
     "output_type": "display_data"
    }
   ],
   "source": [
    "steam_all_data_clean = steam_all_data.drop(columns = ['english', 'steam_appid_y', 'steam_appid_x'])\n",
    "steam_all_data_clean.head(5)"
   ]
  },
  {
   "cell_type": "code",
   "execution_count": 0,
   "metadata": {
    "application/vnd.databricks.v1+cell": {
     "cellMetadata": {
      "byteLimit": 2048000,
      "rowLimit": 10000
     },
     "inputWidgets": {},
     "nuid": "ba3483cd-3aa2-45c6-a27b-727e0ec87323",
     "showTitle": false,
     "title": ""
    }
   },
   "outputs": [
    {
     "output_type": "display_data",
     "data": {
      "text/html": [
       "<div>\n",
       "<style scoped>\n",
       "    .dataframe tbody tr th:only-of-type {\n",
       "        vertical-align: middle;\n",
       "    }\n",
       "\n",
       "    .dataframe tbody tr th {\n",
       "        vertical-align: top;\n",
       "    }\n",
       "\n",
       "    .dataframe thead th {\n",
       "        text-align: right;\n",
       "    }\n",
       "</style>\n",
       "<table border=\"1\" class=\"dataframe\">\n",
       "  <thead>\n",
       "    <tr style=\"text-align: right;\">\n",
       "      <th></th>\n",
       "      <th>appid</th>\n",
       "      <th>name</th>\n",
       "      <th>release_date</th>\n",
       "      <th>developer</th>\n",
       "      <th>publisher</th>\n",
       "      <th>platforms</th>\n",
       "      <th>required_age</th>\n",
       "      <th>categories</th>\n",
       "      <th>genres</th>\n",
       "      <th>steamspy_tags</th>\n",
       "      <th>...</th>\n",
       "      <th>owners</th>\n",
       "      <th>price</th>\n",
       "      <th>detailed_description</th>\n",
       "      <th>about_the_game</th>\n",
       "      <th>short_description</th>\n",
       "      <th>pc_requirements</th>\n",
       "      <th>mac_requirements</th>\n",
       "      <th>linux_requirements</th>\n",
       "      <th>minimum</th>\n",
       "      <th>recommended</th>\n",
       "    </tr>\n",
       "  </thead>\n",
       "  <tbody>\n",
       "    <tr>\n",
       "      <th>0</th>\n",
       "      <td>10</td>\n",
       "      <td>Counter-Strike</td>\n",
       "      <td>2000-11-01</td>\n",
       "      <td>Valve</td>\n",
       "      <td>Valve</td>\n",
       "      <td>windows;mac;linux</td>\n",
       "      <td>0</td>\n",
       "      <td>Multi-player;Online Multi-Player;Local Multi-P...</td>\n",
       "      <td>Action</td>\n",
       "      <td>Action;FPS;Multiplayer</td>\n",
       "      <td>...</td>\n",
       "      <td>10000000-20000000</td>\n",
       "      <td>7.19</td>\n",
       "      <td>Play the world's number 1 online action game. ...</td>\n",
       "      <td>Play the world's number 1 online action game. ...</td>\n",
       "      <td>Play the world's number 1 online action game. ...</td>\n",
       "      <td>{'minimum': '\\r\\n\\t\\t\\t&lt;p&gt;&lt;strong&gt;Minimum:&lt;/st...</td>\n",
       "      <td>{'minimum': 'Minimum: OS X  Snow Leopard 10.6....</td>\n",
       "      <td>{'minimum': 'Minimum: Linux Ubuntu 12.04, Dual...</td>\n",
       "      <td>500 mhz processor, 96mb ram, 16mb video card, ...</td>\n",
       "      <td>None</td>\n",
       "    </tr>\n",
       "    <tr>\n",
       "      <th>3</th>\n",
       "      <td>20</td>\n",
       "      <td>Team Fortress Classic</td>\n",
       "      <td>1999-04-01</td>\n",
       "      <td>Valve</td>\n",
       "      <td>Valve</td>\n",
       "      <td>windows;mac;linux</td>\n",
       "      <td>0</td>\n",
       "      <td>Multi-player;Online Multi-Player;Local Multi-P...</td>\n",
       "      <td>Action</td>\n",
       "      <td>Action;FPS;Multiplayer</td>\n",
       "      <td>...</td>\n",
       "      <td>5000000-10000000</td>\n",
       "      <td>3.99</td>\n",
       "      <td>One of the most popular online action games of...</td>\n",
       "      <td>One of the most popular online action games of...</td>\n",
       "      <td>One of the most popular online action games of...</td>\n",
       "      <td>{'minimum': '\\r\\n\\t\\t\\t&lt;p&gt;&lt;strong&gt;Minimum:&lt;/st...</td>\n",
       "      <td>{'minimum': 'Minimum: OS X  Snow Leopard 10.6....</td>\n",
       "      <td>{'minimum': 'Minimum: Linux Ubuntu 12.04, Dual...</td>\n",
       "      <td>500 mhz processor, 96mb ram, 16mb video card, ...</td>\n",
       "      <td>None</td>\n",
       "    </tr>\n",
       "    <tr>\n",
       "      <th>4</th>\n",
       "      <td>30</td>\n",
       "      <td>Day of Defeat</td>\n",
       "      <td>2003-05-01</td>\n",
       "      <td>Valve</td>\n",
       "      <td>Valve</td>\n",
       "      <td>windows;mac;linux</td>\n",
       "      <td>0</td>\n",
       "      <td>Multi-player;Valve Anti-Cheat enabled</td>\n",
       "      <td>Action</td>\n",
       "      <td>FPS;World War II;Multiplayer</td>\n",
       "      <td>...</td>\n",
       "      <td>5000000-10000000</td>\n",
       "      <td>3.99</td>\n",
       "      <td>Enlist in an intense brand of Axis vs. Allied ...</td>\n",
       "      <td>Enlist in an intense brand of Axis vs. Allied ...</td>\n",
       "      <td>Enlist in an intense brand of Axis vs. Allied ...</td>\n",
       "      <td>{'minimum': '\\r\\n\\t\\t\\t&lt;p&gt;&lt;strong&gt;Minimum:&lt;/st...</td>\n",
       "      <td>{'minimum': 'Minimum: OS X  Snow Leopard 10.6....</td>\n",
       "      <td>{'minimum': 'Minimum: Linux Ubuntu 12.04, Dual...</td>\n",
       "      <td>500 mhz processor, 96mb ram, 16mb video card, ...</td>\n",
       "      <td>None</td>\n",
       "    </tr>\n",
       "    <tr>\n",
       "      <th>5</th>\n",
       "      <td>40</td>\n",
       "      <td>Deathmatch Classic</td>\n",
       "      <td>2001-06-01</td>\n",
       "      <td>Valve</td>\n",
       "      <td>Valve</td>\n",
       "      <td>windows;mac;linux</td>\n",
       "      <td>0</td>\n",
       "      <td>Multi-player;Online Multi-Player;Local Multi-P...</td>\n",
       "      <td>Action</td>\n",
       "      <td>Action;FPS;Multiplayer</td>\n",
       "      <td>...</td>\n",
       "      <td>5000000-10000000</td>\n",
       "      <td>3.99</td>\n",
       "      <td>Enjoy fast-paced multiplayer gaming with Death...</td>\n",
       "      <td>Enjoy fast-paced multiplayer gaming with Death...</td>\n",
       "      <td>Enjoy fast-paced multiplayer gaming with Death...</td>\n",
       "      <td>{'minimum': '\\r\\n\\t\\t\\t&lt;p&gt;&lt;strong&gt;Minimum:&lt;/st...</td>\n",
       "      <td>{'minimum': 'Minimum: OS X  Snow Leopard 10.6....</td>\n",
       "      <td>{'minimum': 'Minimum: Linux Ubuntu 12.04, Dual...</td>\n",
       "      <td>500 mhz processor, 96mb ram, 16mb video card, ...</td>\n",
       "      <td>None</td>\n",
       "    </tr>\n",
       "    <tr>\n",
       "      <th>6</th>\n",
       "      <td>50</td>\n",
       "      <td>Half-Life: Opposing Force</td>\n",
       "      <td>1999-11-01</td>\n",
       "      <td>Gearbox Software</td>\n",
       "      <td>Valve</td>\n",
       "      <td>windows;mac;linux</td>\n",
       "      <td>0</td>\n",
       "      <td>Single-player;Multi-player;Valve Anti-Cheat en...</td>\n",
       "      <td>Action</td>\n",
       "      <td>FPS;Action;Sci-fi</td>\n",
       "      <td>...</td>\n",
       "      <td>5000000-10000000</td>\n",
       "      <td>3.99</td>\n",
       "      <td>Return to the Black Mesa Research Facility as ...</td>\n",
       "      <td>Return to the Black Mesa Research Facility as ...</td>\n",
       "      <td>Return to the Black Mesa Research Facility as ...</td>\n",
       "      <td>{'minimum': '\\r\\n\\t\\t\\t&lt;p&gt;&lt;strong&gt;Minimum:&lt;/st...</td>\n",
       "      <td>{'minimum': 'Minimum: OS X  Snow Leopard 10.6....</td>\n",
       "      <td>{'minimum': 'Minimum: Linux Ubuntu 12.04, Dual...</td>\n",
       "      <td>500 mhz processor, 96mb ram, 16mb video card, ...</td>\n",
       "      <td>None</td>\n",
       "    </tr>\n",
       "    <tr>\n",
       "      <th>...</th>\n",
       "      <td>...</td>\n",
       "      <td>...</td>\n",
       "      <td>...</td>\n",
       "      <td>...</td>\n",
       "      <td>...</td>\n",
       "      <td>...</td>\n",
       "      <td>...</td>\n",
       "      <td>...</td>\n",
       "      <td>...</td>\n",
       "      <td>...</td>\n",
       "      <td>...</td>\n",
       "      <td>...</td>\n",
       "      <td>...</td>\n",
       "      <td>...</td>\n",
       "      <td>...</td>\n",
       "      <td>...</td>\n",
       "      <td>...</td>\n",
       "      <td>...</td>\n",
       "      <td>...</td>\n",
       "      <td>...</td>\n",
       "      <td>...</td>\n",
       "    </tr>\n",
       "    <tr>\n",
       "      <th>27059</th>\n",
       "      <td>1065230</td>\n",
       "      <td>Room of Pandora</td>\n",
       "      <td>2019-04-24</td>\n",
       "      <td>SHEN JIAWEI</td>\n",
       "      <td>SHEN JIAWEI</td>\n",
       "      <td>windows</td>\n",
       "      <td>0</td>\n",
       "      <td>Single-player;Steam Achievements</td>\n",
       "      <td>Adventure;Casual;Indie</td>\n",
       "      <td>Adventure;Indie;Casual</td>\n",
       "      <td>...</td>\n",
       "      <td>0-20000</td>\n",
       "      <td>2.09</td>\n",
       "      <td>&lt;img src=\"https://steamcdn-a.akamaihd.net/stea...</td>\n",
       "      <td>&lt;img src=\"https://steamcdn-a.akamaihd.net/stea...</td>\n",
       "      <td>The Room of Pandora is a third-person interact...</td>\n",
       "      <td>{'minimum': '&lt;strong&gt;Minimum:&lt;/strong&gt;&lt;br&gt;&lt;ul ...</td>\n",
       "      <td>[]</td>\n",
       "      <td>[]</td>\n",
       "      <td>OS: Windows 7 Processor: Inter Core i7 Memory:...</td>\n",
       "      <td>None</td>\n",
       "    </tr>\n",
       "    <tr>\n",
       "      <th>27060</th>\n",
       "      <td>1065570</td>\n",
       "      <td>Cyber Gun</td>\n",
       "      <td>2019-04-23</td>\n",
       "      <td>Semyon Maximov</td>\n",
       "      <td>BekkerDev Studio</td>\n",
       "      <td>windows</td>\n",
       "      <td>0</td>\n",
       "      <td>Single-player</td>\n",
       "      <td>Action;Adventure;Indie</td>\n",
       "      <td>Action;Indie;Adventure</td>\n",
       "      <td>...</td>\n",
       "      <td>0-20000</td>\n",
       "      <td>1.69</td>\n",
       "      <td>Have you ever been so lonely that no one but y...</td>\n",
       "      <td>None</td>\n",
       "      <td>None</td>\n",
       "      <td>{'minimum': '&lt;strong&gt;Minimum:&lt;/strong&gt;&lt;br&gt;&lt;ul ...</td>\n",
       "      <td>[]</td>\n",
       "      <td>[]</td>\n",
       "      <td>OS: Windows XP, Vista, 7, 8, 10 Processor: Int...</td>\n",
       "      <td>None</td>\n",
       "    </tr>\n",
       "    <tr>\n",
       "      <th>27061</th>\n",
       "      <td>1065650</td>\n",
       "      <td>Super Star Blast</td>\n",
       "      <td>2019-04-24</td>\n",
       "      <td>EntwicklerX</td>\n",
       "      <td>EntwicklerX</td>\n",
       "      <td>windows</td>\n",
       "      <td>0</td>\n",
       "      <td>Single-player;Multi-player;Co-op;Shared/Split ...</td>\n",
       "      <td>Action;Casual;Indie</td>\n",
       "      <td>Action;Indie;Casual</td>\n",
       "      <td>...</td>\n",
       "      <td>0-20000</td>\n",
       "      <td>3.99</td>\n",
       "      <td>&lt;strong&gt;Super Star Blast &lt;/strong&gt;is a space b...</td>\n",
       "      <td>&lt;strong&gt;Super Star Blast &lt;/strong&gt;is a space b...</td>\n",
       "      <td>Super Star Blast is a space based game with ch...</td>\n",
       "      <td>{'minimum': '&lt;strong&gt;Minimum:&lt;/strong&gt;&lt;br&gt;&lt;ul ...</td>\n",
       "      <td>[]</td>\n",
       "      <td>[]</td>\n",
       "      <td>OS: Windows 7, Windows 8, Windows 10 (32/64bit...</td>\n",
       "      <td>None</td>\n",
       "    </tr>\n",
       "    <tr>\n",
       "      <th>27062</th>\n",
       "      <td>1066700</td>\n",
       "      <td>New Yankee 7: Deer Hunters</td>\n",
       "      <td>2019-04-17</td>\n",
       "      <td>Yustas Game Studio</td>\n",
       "      <td>Alawar Entertainment</td>\n",
       "      <td>windows;mac</td>\n",
       "      <td>0</td>\n",
       "      <td>Single-player;Steam Cloud</td>\n",
       "      <td>Adventure;Casual;Indie</td>\n",
       "      <td>Indie;Casual;Adventure</td>\n",
       "      <td>...</td>\n",
       "      <td>0-20000</td>\n",
       "      <td>5.19</td>\n",
       "      <td>Pursue a snow-white deer through an enchanted ...</td>\n",
       "      <td>None</td>\n",
       "      <td>None</td>\n",
       "      <td>{'minimum': '&lt;strong&gt;Minimum:&lt;/strong&gt;&lt;br&gt;&lt;ul ...</td>\n",
       "      <td>{'minimum': '&lt;strong&gt;Minimum:&lt;/strong&gt;&lt;br&gt;&lt;ul ...</td>\n",
       "      <td>[]</td>\n",
       "      <td>OS: Windows XP or later Processor: 1.5 GHz Mem...</td>\n",
       "      <td>OS: Windows 7 or later Processor: 1.5 GHz Memo...</td>\n",
       "    </tr>\n",
       "    <tr>\n",
       "      <th>27063</th>\n",
       "      <td>1069460</td>\n",
       "      <td>Rune Lord</td>\n",
       "      <td>2019-04-24</td>\n",
       "      <td>Adept Studios GD</td>\n",
       "      <td>Alawar Entertainment</td>\n",
       "      <td>windows;mac</td>\n",
       "      <td>0</td>\n",
       "      <td>Single-player;Steam Cloud</td>\n",
       "      <td>Adventure;Casual;Indie</td>\n",
       "      <td>Indie;Casual;Adventure</td>\n",
       "      <td>...</td>\n",
       "      <td>0-20000</td>\n",
       "      <td>5.19</td>\n",
       "      <td>A portal has opened and dark magic is pouring ...</td>\n",
       "      <td>None</td>\n",
       "      <td>None</td>\n",
       "      <td>{'minimum': '&lt;strong&gt;Minimum:&lt;/strong&gt;&lt;br&gt;&lt;ul ...</td>\n",
       "      <td>{'minimum': '&lt;strong&gt;Minimum:&lt;/strong&gt;&lt;br&gt;&lt;ul ...</td>\n",
       "      <td>[]</td>\n",
       "      <td>OS: Windows XP or later Processor: 2 GHz Memor...</td>\n",
       "      <td>OS: Windows 7 or later Processor: 4 GHZ proces...</td>\n",
       "    </tr>\n",
       "  </tbody>\n",
       "</table>\n",
       "<p>27062 rows × 25 columns</p>\n",
       "</div>"
      ]
     },
     "metadata": {
      "application/vnd.databricks.v1+output": {
       "addedWidgets": {},
       "arguments": {},
       "data": "<div>\n<style scoped>\n    .dataframe tbody tr th:only-of-type {\n        vertical-align: middle;\n    }\n\n    .dataframe tbody tr th {\n        vertical-align: top;\n    }\n\n    .dataframe thead th {\n        text-align: right;\n    }\n</style>\n<table border=\"1\" class=\"dataframe\">\n  <thead>\n    <tr style=\"text-align: right;\">\n      <th></th>\n      <th>appid</th>\n      <th>name</th>\n      <th>release_date</th>\n      <th>developer</th>\n      <th>publisher</th>\n      <th>platforms</th>\n      <th>required_age</th>\n      <th>categories</th>\n      <th>genres</th>\n      <th>steamspy_tags</th>\n      <th>...</th>\n      <th>owners</th>\n      <th>price</th>\n      <th>detailed_description</th>\n      <th>about_the_game</th>\n      <th>short_description</th>\n      <th>pc_requirements</th>\n      <th>mac_requirements</th>\n      <th>linux_requirements</th>\n      <th>minimum</th>\n      <th>recommended</th>\n    </tr>\n  </thead>\n  <tbody>\n    <tr>\n      <th>0</th>\n      <td>10</td>\n      <td>Counter-Strike</td>\n      <td>2000-11-01</td>\n      <td>Valve</td>\n      <td>Valve</td>\n      <td>windows;mac;linux</td>\n      <td>0</td>\n      <td>Multi-player;Online Multi-Player;Local Multi-P...</td>\n      <td>Action</td>\n      <td>Action;FPS;Multiplayer</td>\n      <td>...</td>\n      <td>10000000-20000000</td>\n      <td>7.19</td>\n      <td>Play the world's number 1 online action game. ...</td>\n      <td>Play the world's number 1 online action game. ...</td>\n      <td>Play the world's number 1 online action game. ...</td>\n      <td>{'minimum': '\\r\\n\\t\\t\\t&lt;p&gt;&lt;strong&gt;Minimum:&lt;/st...</td>\n      <td>{'minimum': 'Minimum: OS X  Snow Leopard 10.6....</td>\n      <td>{'minimum': 'Minimum: Linux Ubuntu 12.04, Dual...</td>\n      <td>500 mhz processor, 96mb ram, 16mb video card, ...</td>\n      <td>None</td>\n    </tr>\n    <tr>\n      <th>3</th>\n      <td>20</td>\n      <td>Team Fortress Classic</td>\n      <td>1999-04-01</td>\n      <td>Valve</td>\n      <td>Valve</td>\n      <td>windows;mac;linux</td>\n      <td>0</td>\n      <td>Multi-player;Online Multi-Player;Local Multi-P...</td>\n      <td>Action</td>\n      <td>Action;FPS;Multiplayer</td>\n      <td>...</td>\n      <td>5000000-10000000</td>\n      <td>3.99</td>\n      <td>One of the most popular online action games of...</td>\n      <td>One of the most popular online action games of...</td>\n      <td>One of the most popular online action games of...</td>\n      <td>{'minimum': '\\r\\n\\t\\t\\t&lt;p&gt;&lt;strong&gt;Minimum:&lt;/st...</td>\n      <td>{'minimum': 'Minimum: OS X  Snow Leopard 10.6....</td>\n      <td>{'minimum': 'Minimum: Linux Ubuntu 12.04, Dual...</td>\n      <td>500 mhz processor, 96mb ram, 16mb video card, ...</td>\n      <td>None</td>\n    </tr>\n    <tr>\n      <th>4</th>\n      <td>30</td>\n      <td>Day of Defeat</td>\n      <td>2003-05-01</td>\n      <td>Valve</td>\n      <td>Valve</td>\n      <td>windows;mac;linux</td>\n      <td>0</td>\n      <td>Multi-player;Valve Anti-Cheat enabled</td>\n      <td>Action</td>\n      <td>FPS;World War II;Multiplayer</td>\n      <td>...</td>\n      <td>5000000-10000000</td>\n      <td>3.99</td>\n      <td>Enlist in an intense brand of Axis vs. Allied ...</td>\n      <td>Enlist in an intense brand of Axis vs. Allied ...</td>\n      <td>Enlist in an intense brand of Axis vs. Allied ...</td>\n      <td>{'minimum': '\\r\\n\\t\\t\\t&lt;p&gt;&lt;strong&gt;Minimum:&lt;/st...</td>\n      <td>{'minimum': 'Minimum: OS X  Snow Leopard 10.6....</td>\n      <td>{'minimum': 'Minimum: Linux Ubuntu 12.04, Dual...</td>\n      <td>500 mhz processor, 96mb ram, 16mb video card, ...</td>\n      <td>None</td>\n    </tr>\n    <tr>\n      <th>5</th>\n      <td>40</td>\n      <td>Deathmatch Classic</td>\n      <td>2001-06-01</td>\n      <td>Valve</td>\n      <td>Valve</td>\n      <td>windows;mac;linux</td>\n      <td>0</td>\n      <td>Multi-player;Online Multi-Player;Local Multi-P...</td>\n      <td>Action</td>\n      <td>Action;FPS;Multiplayer</td>\n      <td>...</td>\n      <td>5000000-10000000</td>\n      <td>3.99</td>\n      <td>Enjoy fast-paced multiplayer gaming with Death...</td>\n      <td>Enjoy fast-paced multiplayer gaming with Death...</td>\n      <td>Enjoy fast-paced multiplayer gaming with Death...</td>\n      <td>{'minimum': '\\r\\n\\t\\t\\t&lt;p&gt;&lt;strong&gt;Minimum:&lt;/st...</td>\n      <td>{'minimum': 'Minimum: OS X  Snow Leopard 10.6....</td>\n      <td>{'minimum': 'Minimum: Linux Ubuntu 12.04, Dual...</td>\n      <td>500 mhz processor, 96mb ram, 16mb video card, ...</td>\n      <td>None</td>\n    </tr>\n    <tr>\n      <th>6</th>\n      <td>50</td>\n      <td>Half-Life: Opposing Force</td>\n      <td>1999-11-01</td>\n      <td>Gearbox Software</td>\n      <td>Valve</td>\n      <td>windows;mac;linux</td>\n      <td>0</td>\n      <td>Single-player;Multi-player;Valve Anti-Cheat en...</td>\n      <td>Action</td>\n      <td>FPS;Action;Sci-fi</td>\n      <td>...</td>\n      <td>5000000-10000000</td>\n      <td>3.99</td>\n      <td>Return to the Black Mesa Research Facility as ...</td>\n      <td>Return to the Black Mesa Research Facility as ...</td>\n      <td>Return to the Black Mesa Research Facility as ...</td>\n      <td>{'minimum': '\\r\\n\\t\\t\\t&lt;p&gt;&lt;strong&gt;Minimum:&lt;/st...</td>\n      <td>{'minimum': 'Minimum: OS X  Snow Leopard 10.6....</td>\n      <td>{'minimum': 'Minimum: Linux Ubuntu 12.04, Dual...</td>\n      <td>500 mhz processor, 96mb ram, 16mb video card, ...</td>\n      <td>None</td>\n    </tr>\n    <tr>\n      <th>...</th>\n      <td>...</td>\n      <td>...</td>\n      <td>...</td>\n      <td>...</td>\n      <td>...</td>\n      <td>...</td>\n      <td>...</td>\n      <td>...</td>\n      <td>...</td>\n      <td>...</td>\n      <td>...</td>\n      <td>...</td>\n      <td>...</td>\n      <td>...</td>\n      <td>...</td>\n      <td>...</td>\n      <td>...</td>\n      <td>...</td>\n      <td>...</td>\n      <td>...</td>\n      <td>...</td>\n    </tr>\n    <tr>\n      <th>27059</th>\n      <td>1065230</td>\n      <td>Room of Pandora</td>\n      <td>2019-04-24</td>\n      <td>SHEN JIAWEI</td>\n      <td>SHEN JIAWEI</td>\n      <td>windows</td>\n      <td>0</td>\n      <td>Single-player;Steam Achievements</td>\n      <td>Adventure;Casual;Indie</td>\n      <td>Adventure;Indie;Casual</td>\n      <td>...</td>\n      <td>0-20000</td>\n      <td>2.09</td>\n      <td>&lt;img src=\"https://steamcdn-a.akamaihd.net/stea...</td>\n      <td>&lt;img src=\"https://steamcdn-a.akamaihd.net/stea...</td>\n      <td>The Room of Pandora is a third-person interact...</td>\n      <td>{'minimum': '&lt;strong&gt;Minimum:&lt;/strong&gt;&lt;br&gt;&lt;ul ...</td>\n      <td>[]</td>\n      <td>[]</td>\n      <td>OS: Windows 7 Processor: Inter Core i7 Memory:...</td>\n      <td>None</td>\n    </tr>\n    <tr>\n      <th>27060</th>\n      <td>1065570</td>\n      <td>Cyber Gun</td>\n      <td>2019-04-23</td>\n      <td>Semyon Maximov</td>\n      <td>BekkerDev Studio</td>\n      <td>windows</td>\n      <td>0</td>\n      <td>Single-player</td>\n      <td>Action;Adventure;Indie</td>\n      <td>Action;Indie;Adventure</td>\n      <td>...</td>\n      <td>0-20000</td>\n      <td>1.69</td>\n      <td>Have you ever been so lonely that no one but y...</td>\n      <td>None</td>\n      <td>None</td>\n      <td>{'minimum': '&lt;strong&gt;Minimum:&lt;/strong&gt;&lt;br&gt;&lt;ul ...</td>\n      <td>[]</td>\n      <td>[]</td>\n      <td>OS: Windows XP, Vista, 7, 8, 10 Processor: Int...</td>\n      <td>None</td>\n    </tr>\n    <tr>\n      <th>27061</th>\n      <td>1065650</td>\n      <td>Super Star Blast</td>\n      <td>2019-04-24</td>\n      <td>EntwicklerX</td>\n      <td>EntwicklerX</td>\n      <td>windows</td>\n      <td>0</td>\n      <td>Single-player;Multi-player;Co-op;Shared/Split ...</td>\n      <td>Action;Casual;Indie</td>\n      <td>Action;Indie;Casual</td>\n      <td>...</td>\n      <td>0-20000</td>\n      <td>3.99</td>\n      <td>&lt;strong&gt;Super Star Blast &lt;/strong&gt;is a space b...</td>\n      <td>&lt;strong&gt;Super Star Blast &lt;/strong&gt;is a space b...</td>\n      <td>Super Star Blast is a space based game with ch...</td>\n      <td>{'minimum': '&lt;strong&gt;Minimum:&lt;/strong&gt;&lt;br&gt;&lt;ul ...</td>\n      <td>[]</td>\n      <td>[]</td>\n      <td>OS: Windows 7, Windows 8, Windows 10 (32/64bit...</td>\n      <td>None</td>\n    </tr>\n    <tr>\n      <th>27062</th>\n      <td>1066700</td>\n      <td>New Yankee 7: Deer Hunters</td>\n      <td>2019-04-17</td>\n      <td>Yustas Game Studio</td>\n      <td>Alawar Entertainment</td>\n      <td>windows;mac</td>\n      <td>0</td>\n      <td>Single-player;Steam Cloud</td>\n      <td>Adventure;Casual;Indie</td>\n      <td>Indie;Casual;Adventure</td>\n      <td>...</td>\n      <td>0-20000</td>\n      <td>5.19</td>\n      <td>Pursue a snow-white deer through an enchanted ...</td>\n      <td>None</td>\n      <td>None</td>\n      <td>{'minimum': '&lt;strong&gt;Minimum:&lt;/strong&gt;&lt;br&gt;&lt;ul ...</td>\n      <td>{'minimum': '&lt;strong&gt;Minimum:&lt;/strong&gt;&lt;br&gt;&lt;ul ...</td>\n      <td>[]</td>\n      <td>OS: Windows XP or later Processor: 1.5 GHz Mem...</td>\n      <td>OS: Windows 7 or later Processor: 1.5 GHz Memo...</td>\n    </tr>\n    <tr>\n      <th>27063</th>\n      <td>1069460</td>\n      <td>Rune Lord</td>\n      <td>2019-04-24</td>\n      <td>Adept Studios GD</td>\n      <td>Alawar Entertainment</td>\n      <td>windows;mac</td>\n      <td>0</td>\n      <td>Single-player;Steam Cloud</td>\n      <td>Adventure;Casual;Indie</td>\n      <td>Indie;Casual;Adventure</td>\n      <td>...</td>\n      <td>0-20000</td>\n      <td>5.19</td>\n      <td>A portal has opened and dark magic is pouring ...</td>\n      <td>None</td>\n      <td>None</td>\n      <td>{'minimum': '&lt;strong&gt;Minimum:&lt;/strong&gt;&lt;br&gt;&lt;ul ...</td>\n      <td>{'minimum': '&lt;strong&gt;Minimum:&lt;/strong&gt;&lt;br&gt;&lt;ul ...</td>\n      <td>[]</td>\n      <td>OS: Windows XP or later Processor: 2 GHz Memor...</td>\n      <td>OS: Windows 7 or later Processor: 4 GHZ proces...</td>\n    </tr>\n  </tbody>\n</table>\n<p>27062 rows × 25 columns</p>\n</div>",
       "datasetInfos": [],
       "metadata": {},
       "removedWidgets": [],
       "textData": null,
       "type": "htmlSandbox"
      }
     },
     "output_type": "display_data"
    }
   ],
   "source": [
    "steam_all_data_clean = steam_all_data_clean.drop_duplicates(subset='appid')\n",
    "steam_all_data_clean"
   ]
  },
  {
   "cell_type": "code",
   "execution_count": 0,
   "metadata": {
    "application/vnd.databricks.v1+cell": {
     "cellMetadata": {
      "byteLimit": 2048000,
      "rowLimit": 10000
     },
     "inputWidgets": {},
     "nuid": "49521c48-bdce-4d06-b88b-2a6ab778d3ca",
     "showTitle": false,
     "title": ""
    }
   },
   "outputs": [],
   "source": [
    "# Create Hive Internal table\n",
    "sparkDF=spark.createDataFrame(steam_all_data_clean) \n",
    "\n",
    "sparkDF.write.mode('overwrite') \\\n",
    "         .saveAsTable(\"steam_all_data\")"
   ]
  },
  {
   "cell_type": "markdown",
   "metadata": {
    "application/vnd.databricks.v1+cell": {
     "cellMetadata": {
      "byteLimit": 2048000,
      "rowLimit": 10000
     },
     "inputWidgets": {},
     "nuid": "e7bce90e-c942-4e53-bb74-accf2fd0d7e4",
     "showTitle": false,
     "title": ""
    }
   },
   "source": [
    "## 2.5 Análise"
   ]
  },
  {
   "cell_type": "markdown",
   "metadata": {
    "application/vnd.databricks.v1+cell": {
     "cellMetadata": {
      "byteLimit": 2048000,
      "rowLimit": 10000
     },
     "inputWidgets": {},
     "nuid": "9a8b5e07-334e-48e7-a6eb-940b713046e9",
     "showTitle": false,
     "title": ""
    }
   },
   "source": [
    "## 2.5.1 Qualidade dos dados"
   ]
  },
  {
   "cell_type": "markdown",
   "metadata": {
    "application/vnd.databricks.v1+cell": {
     "cellMetadata": {
      "byteLimit": 2048000,
      "rowLimit": 10000
     },
     "inputWidgets": {},
     "nuid": "c61263a5-6dbc-4c06-82e6-43079b84e3b1",
     "showTitle": false,
     "title": ""
    }
   },
   "source": [
    "Nesta etapa, sera feito uma analise da qualidade dos dados por atributo, da tabela construida nas etapas anteriores."
   ]
  },
  {
   "cell_type": "code",
   "execution_count": 0,
   "metadata": {
    "application/vnd.databricks.v1+cell": {
     "cellMetadata": {
      "byteLimit": 2048000,
      "rowLimit": 10000
     },
     "inputWidgets": {},
     "nuid": "a188a4c4-9d9b-41e0-a3a5-144308f082e9",
     "showTitle": false,
     "title": ""
    }
   },
   "outputs": [
    {
     "output_type": "stream",
     "name": "stdout",
     "output_type": "stream",
     "text": [
      "Out[6]: appid                       0\nname                        0\nrelease_date                0\ndeveloper                   0\npublisher                   0\nplatforms                   0\nrequired_age                0\ncategories                  0\ngenres                      0\nsteamspy_tags               0\nachievements                0\npositive_ratings            0\nnegative_ratings            0\naverage_playtime            0\nmedian_playtime             0\nowners                      0\nprice                       0\ndetailed_description        0\nabout_the_game           6782\nshort_description        6966\npc_requirements             0\nmac_requirements            0\nlinux_requirements          0\nminimum                     5\nrecommended             13044\ndtype: int64"
     ]
    }
   ],
   "source": [
    "steam_all_data_clean.isnull().sum()"
   ]
  },
  {
   "cell_type": "markdown",
   "metadata": {
    "application/vnd.databricks.v1+cell": {
     "cellMetadata": {
      "byteLimit": 2048000,
      "rowLimit": 10000
     },
     "inputWidgets": {},
     "nuid": "c84ac882-2b36-447b-9283-2763c71c2970",
     "showTitle": false,
     "title": ""
    }
   },
   "source": [
    "A primeira análise é a verificação dos valores faltantes. Como é possivel ver no resultado acima, os unicos atributos que possuem dados faltantes são o \"about_the_game\", \"short_description\" , \"minimum\" e \"recommended\".\n",
    "\n",
    "O \"about_the_game\" e \"short_description\" se tratam de dados da descrição do jogo na plataforma, e não é incomum alguns jogos não terem a descrição. A coluna \"recommended\" se trata dos requisitos recomentados para rodar o jogo, e tambem não é incomum que estes dados estejam faltantes. A coluna \"minimum\" possui apenas 5 valores faltantes, o que leva a crer que ocorreu algum erro na hora de retirar os dados, ou foram perdidos de alguma forma."
   ]
  },
  {
   "cell_type": "code",
   "execution_count": 0,
   "metadata": {
    "application/vnd.databricks.v1+cell": {
     "cellMetadata": {
      "byteLimit": 2048000,
      "rowLimit": 10000
     },
     "inputWidgets": {},
     "nuid": "465b9fdc-6753-4c4c-92a2-a065789b0c34",
     "showTitle": false,
     "title": ""
    }
   },
   "outputs": [
    {
     "output_type": "stream",
     "name": "stdout",
     "output_type": "stream",
     "text": [
      "<class 'pandas.core.frame.DataFrame'>\nInt64Index: 27062 entries, 0 to 27063\nData columns (total 25 columns):\n #   Column                Non-Null Count  Dtype  \n---  ------                --------------  -----  \n 0   appid                 27062 non-null  int64  \n 1   name                  27062 non-null  object \n 2   release_date          27062 non-null  object \n 3   developer             27062 non-null  object \n 4   publisher             27062 non-null  object \n 5   platforms             27062 non-null  object \n 6   required_age          27062 non-null  int64  \n 7   categories            27062 non-null  object \n 8   genres                27062 non-null  object \n 9   steamspy_tags         27062 non-null  object \n 10  achievements          27062 non-null  int64  \n 11  positive_ratings      27062 non-null  int64  \n 12  negative_ratings      27062 non-null  int64  \n 13  average_playtime      27062 non-null  int64  \n 14  median_playtime       27062 non-null  int64  \n 15  owners                27062 non-null  object \n 16  price                 27062 non-null  float64\n 17  detailed_description  27062 non-null  object \n 18  about_the_game        20280 non-null  object \n 19  short_description     20096 non-null  object \n 20  pc_requirements       27062 non-null  object \n 21  mac_requirements      27062 non-null  object \n 22  linux_requirements    27062 non-null  object \n 23  minimum               27057 non-null  object \n 24  recommended           14018 non-null  object \ndtypes: float64(1), int64(7), object(17)\nmemory usage: 5.4+ MB\n"
     ]
    }
   ],
   "source": [
    "steam_all_data_clean.info()"
   ]
  },
  {
   "cell_type": "code",
   "execution_count": 0,
   "metadata": {
    "application/vnd.databricks.v1+cell": {
     "cellMetadata": {
      "byteLimit": 2048000,
      "rowLimit": 10000
     },
     "inputWidgets": {},
     "nuid": "152c4bea-7b9a-4a5c-93bb-44f5aca00e18",
     "showTitle": false,
     "title": ""
    }
   },
   "outputs": [
    {
     "output_type": "display_data",
     "data": {
      "text/html": [
       "<div>\n",
       "<style scoped>\n",
       "    .dataframe tbody tr th:only-of-type {\n",
       "        vertical-align: middle;\n",
       "    }\n",
       "\n",
       "    .dataframe tbody tr th {\n",
       "        vertical-align: top;\n",
       "    }\n",
       "\n",
       "    .dataframe thead th {\n",
       "        text-align: right;\n",
       "    }\n",
       "</style>\n",
       "<table border=\"1\" class=\"dataframe\">\n",
       "  <thead>\n",
       "    <tr style=\"text-align: right;\">\n",
       "      <th></th>\n",
       "      <th>appid</th>\n",
       "      <th>required_age</th>\n",
       "      <th>achievements</th>\n",
       "      <th>positive_ratings</th>\n",
       "      <th>negative_ratings</th>\n",
       "      <th>average_playtime</th>\n",
       "      <th>median_playtime</th>\n",
       "      <th>price</th>\n",
       "    </tr>\n",
       "  </thead>\n",
       "  <tbody>\n",
       "    <tr>\n",
       "      <th>count</th>\n",
       "      <td>2.706200e+04</td>\n",
       "      <td>27062.000000</td>\n",
       "      <td>27062.000000</td>\n",
       "      <td>2.706200e+04</td>\n",
       "      <td>27062.000000</td>\n",
       "      <td>27062.000000</td>\n",
       "      <td>27062.000000</td>\n",
       "      <td>27062.000000</td>\n",
       "    </tr>\n",
       "    <tr>\n",
       "      <th>mean</th>\n",
       "      <td>5.963239e+05</td>\n",
       "      <td>0.353817</td>\n",
       "      <td>45.266240</td>\n",
       "      <td>1.000845e+03</td>\n",
       "      <td>211.082773</td>\n",
       "      <td>149.856662</td>\n",
       "      <td>146.105351</td>\n",
       "      <td>6.078505</td>\n",
       "    </tr>\n",
       "    <tr>\n",
       "      <th>std</th>\n",
       "      <td>2.508104e+05</td>\n",
       "      <td>2.402338</td>\n",
       "      <td>352.753851</td>\n",
       "      <td>1.899328e+04</td>\n",
       "      <td>4285.965411</td>\n",
       "      <td>1827.474576</td>\n",
       "      <td>2354.443666</td>\n",
       "      <td>7.875836</td>\n",
       "    </tr>\n",
       "    <tr>\n",
       "      <th>min</th>\n",
       "      <td>1.000000e+01</td>\n",
       "      <td>0.000000</td>\n",
       "      <td>0.000000</td>\n",
       "      <td>0.000000e+00</td>\n",
       "      <td>0.000000</td>\n",
       "      <td>0.000000</td>\n",
       "      <td>0.000000</td>\n",
       "      <td>0.000000</td>\n",
       "    </tr>\n",
       "    <tr>\n",
       "      <th>25%</th>\n",
       "      <td>4.013750e+05</td>\n",
       "      <td>0.000000</td>\n",
       "      <td>0.000000</td>\n",
       "      <td>6.000000e+00</td>\n",
       "      <td>2.000000</td>\n",
       "      <td>0.000000</td>\n",
       "      <td>0.000000</td>\n",
       "      <td>1.690000</td>\n",
       "    </tr>\n",
       "    <tr>\n",
       "      <th>50%</th>\n",
       "      <td>5.991200e+05</td>\n",
       "      <td>0.000000</td>\n",
       "      <td>7.000000</td>\n",
       "      <td>2.400000e+01</td>\n",
       "      <td>9.000000</td>\n",
       "      <td>0.000000</td>\n",
       "      <td>0.000000</td>\n",
       "      <td>3.990000</td>\n",
       "    </tr>\n",
       "    <tr>\n",
       "      <th>75%</th>\n",
       "      <td>7.988250e+05</td>\n",
       "      <td>0.000000</td>\n",
       "      <td>23.000000</td>\n",
       "      <td>1.250000e+02</td>\n",
       "      <td>41.000000</td>\n",
       "      <td>0.000000</td>\n",
       "      <td>0.000000</td>\n",
       "      <td>7.190000</td>\n",
       "    </tr>\n",
       "    <tr>\n",
       "      <th>max</th>\n",
       "      <td>1.069460e+06</td>\n",
       "      <td>18.000000</td>\n",
       "      <td>9821.000000</td>\n",
       "      <td>2.644404e+06</td>\n",
       "      <td>487076.000000</td>\n",
       "      <td>190625.000000</td>\n",
       "      <td>190625.000000</td>\n",
       "      <td>421.990000</td>\n",
       "    </tr>\n",
       "  </tbody>\n",
       "</table>\n",
       "</div>"
      ]
     },
     "metadata": {
      "application/vnd.databricks.v1+output": {
       "addedWidgets": {},
       "arguments": {},
       "data": "<div>\n<style scoped>\n    .dataframe tbody tr th:only-of-type {\n        vertical-align: middle;\n    }\n\n    .dataframe tbody tr th {\n        vertical-align: top;\n    }\n\n    .dataframe thead th {\n        text-align: right;\n    }\n</style>\n<table border=\"1\" class=\"dataframe\">\n  <thead>\n    <tr style=\"text-align: right;\">\n      <th></th>\n      <th>appid</th>\n      <th>required_age</th>\n      <th>achievements</th>\n      <th>positive_ratings</th>\n      <th>negative_ratings</th>\n      <th>average_playtime</th>\n      <th>median_playtime</th>\n      <th>price</th>\n    </tr>\n  </thead>\n  <tbody>\n    <tr>\n      <th>count</th>\n      <td>2.706200e+04</td>\n      <td>27062.000000</td>\n      <td>27062.000000</td>\n      <td>2.706200e+04</td>\n      <td>27062.000000</td>\n      <td>27062.000000</td>\n      <td>27062.000000</td>\n      <td>27062.000000</td>\n    </tr>\n    <tr>\n      <th>mean</th>\n      <td>5.963239e+05</td>\n      <td>0.353817</td>\n      <td>45.266240</td>\n      <td>1.000845e+03</td>\n      <td>211.082773</td>\n      <td>149.856662</td>\n      <td>146.105351</td>\n      <td>6.078505</td>\n    </tr>\n    <tr>\n      <th>std</th>\n      <td>2.508104e+05</td>\n      <td>2.402338</td>\n      <td>352.753851</td>\n      <td>1.899328e+04</td>\n      <td>4285.965411</td>\n      <td>1827.474576</td>\n      <td>2354.443666</td>\n      <td>7.875836</td>\n    </tr>\n    <tr>\n      <th>min</th>\n      <td>1.000000e+01</td>\n      <td>0.000000</td>\n      <td>0.000000</td>\n      <td>0.000000e+00</td>\n      <td>0.000000</td>\n      <td>0.000000</td>\n      <td>0.000000</td>\n      <td>0.000000</td>\n    </tr>\n    <tr>\n      <th>25%</th>\n      <td>4.013750e+05</td>\n      <td>0.000000</td>\n      <td>0.000000</td>\n      <td>6.000000e+00</td>\n      <td>2.000000</td>\n      <td>0.000000</td>\n      <td>0.000000</td>\n      <td>1.690000</td>\n    </tr>\n    <tr>\n      <th>50%</th>\n      <td>5.991200e+05</td>\n      <td>0.000000</td>\n      <td>7.000000</td>\n      <td>2.400000e+01</td>\n      <td>9.000000</td>\n      <td>0.000000</td>\n      <td>0.000000</td>\n      <td>3.990000</td>\n    </tr>\n    <tr>\n      <th>75%</th>\n      <td>7.988250e+05</td>\n      <td>0.000000</td>\n      <td>23.000000</td>\n      <td>1.250000e+02</td>\n      <td>41.000000</td>\n      <td>0.000000</td>\n      <td>0.000000</td>\n      <td>7.190000</td>\n    </tr>\n    <tr>\n      <th>max</th>\n      <td>1.069460e+06</td>\n      <td>18.000000</td>\n      <td>9821.000000</td>\n      <td>2.644404e+06</td>\n      <td>487076.000000</td>\n      <td>190625.000000</td>\n      <td>190625.000000</td>\n      <td>421.990000</td>\n    </tr>\n  </tbody>\n</table>\n</div>",
       "datasetInfos": [],
       "metadata": {},
       "removedWidgets": [],
       "textData": null,
       "type": "htmlSandbox"
      }
     },
     "output_type": "display_data"
    }
   ],
   "source": [
    "steam_all_data_clean.describe()"
   ]
  },
  {
   "cell_type": "markdown",
   "metadata": {
    "application/vnd.databricks.v1+cell": {
     "cellMetadata": {
      "byteLimit": 2048000,
      "rowLimit": 10000
     },
     "inputWidgets": {},
     "nuid": "6629eaa7-d8cc-4eb2-91c5-1988ad81f6f7",
     "showTitle": false,
     "title": ""
    }
   },
   "source": [
    "Agora serão analisados os dados numéricos da tabela, para ver se estão dentro do esperado.\n",
    "\n",
    "**appid**: valores inteiros. Valor minimo é 10 e o maximo é 1069460. Está dentro do esperado.\\\n",
    "**required_age**: valores inteiros. Valor minimo é 0 e o maximo é 18. Está dentro do esperado.\\\n",
    "**achievements**: valores inteiros. Valor minimo é 0 e o maximo é 9821. Está dentro do esperado.\\\n",
    "**positive_ratings**: valores inteiros. Valor minimo é 0 e o maximo é 2644404. Está dentro do esperado.\\\n",
    "**negative_ratings**: valores inteiros. Valor minimo é 0 e o maximo é 487076. Está dentro do esperado.\\\n",
    "**average_playtime**: valores inteiros. Valor minimo é 0 e o maximo é 190625. Valores estranhos\\\n",
    "**median_playtime**: valores inteiros. Valor minimo é 0 e o maximo é 190625. Valores estranhos\\\n",
    "**price**: valores decimais. Valor minimo é 0 e o maximo é 421,99. Está dentro do esperado\n",
    "\n",
    "\n",
    "De acordo com a análise, as unicas colunas com valores estranhos é a \"average_playtime\" e \"median_playtime\", que são respectivamente a média e a mediana do tempo de jogo do usuario, pois o tempo maximo observado é extremamente improvavel. Mesmo que seja em minutos, ainda fica fora da realidade. Uma possibilidade é que estes dados sejam na realidade decimais, porem não é possivel determinar qual seria a casa da vírgula nesse caso.\n",
    "\n",
    "Não encontrei uma solução para resolver este problema, então irei manter as duas colunas como estão. A justificativa para esta decisão é que se existe alguma operação que foi feita nesta coluna, então foi feito para todas as linhas. Nesse caso, para fins de responder as perguntas propostas, os valores absurdos não serão um problema."
   ]
  },
  {
   "cell_type": "code",
   "execution_count": 0,
   "metadata": {
    "application/vnd.databricks.v1+cell": {
     "cellMetadata": {
      "byteLimit": 2048000,
      "rowLimit": 10000
     },
     "inputWidgets": {},
     "nuid": "0009d1d3-cb7a-476d-ab35-c7eb50a9b8df",
     "showTitle": false,
     "title": ""
    }
   },
   "outputs": [
    {
     "output_type": "display_data",
     "data": {
      "text/html": [
       "<div>\n",
       "<style scoped>\n",
       "    .dataframe tbody tr th:only-of-type {\n",
       "        vertical-align: middle;\n",
       "    }\n",
       "\n",
       "    .dataframe tbody tr th {\n",
       "        vertical-align: top;\n",
       "    }\n",
       "\n",
       "    .dataframe thead th {\n",
       "        text-align: right;\n",
       "    }\n",
       "</style>\n",
       "<table border=\"1\" class=\"dataframe\">\n",
       "  <thead>\n",
       "    <tr style=\"text-align: right;\">\n",
       "      <th></th>\n",
       "      <th>name</th>\n",
       "      <th>release_date</th>\n",
       "      <th>developer</th>\n",
       "      <th>publisher</th>\n",
       "      <th>platforms</th>\n",
       "      <th>categories</th>\n",
       "      <th>genres</th>\n",
       "      <th>steamspy_tags</th>\n",
       "      <th>owners</th>\n",
       "      <th>detailed_description</th>\n",
       "      <th>about_the_game</th>\n",
       "      <th>short_description</th>\n",
       "      <th>pc_requirements</th>\n",
       "      <th>mac_requirements</th>\n",
       "      <th>linux_requirements</th>\n",
       "      <th>minimum</th>\n",
       "      <th>recommended</th>\n",
       "    </tr>\n",
       "  </thead>\n",
       "  <tbody>\n",
       "    <tr>\n",
       "      <th>count</th>\n",
       "      <td>27062</td>\n",
       "      <td>27062</td>\n",
       "      <td>27062</td>\n",
       "      <td>27062</td>\n",
       "      <td>27062</td>\n",
       "      <td>27062</td>\n",
       "      <td>27062</td>\n",
       "      <td>27062</td>\n",
       "      <td>27062</td>\n",
       "      <td>27062</td>\n",
       "      <td>20280</td>\n",
       "      <td>20096</td>\n",
       "      <td>27062</td>\n",
       "      <td>27062</td>\n",
       "      <td>27062</td>\n",
       "      <td>27057</td>\n",
       "      <td>14018</td>\n",
       "    </tr>\n",
       "    <tr>\n",
       "      <th>unique</th>\n",
       "      <td>27020</td>\n",
       "      <td>2617</td>\n",
       "      <td>17107</td>\n",
       "      <td>14348</td>\n",
       "      <td>5</td>\n",
       "      <td>3333</td>\n",
       "      <td>1551</td>\n",
       "      <td>6418</td>\n",
       "      <td>13</td>\n",
       "      <td>26915</td>\n",
       "      <td>20269</td>\n",
       "      <td>20020</td>\n",
       "      <td>25182</td>\n",
       "      <td>8030</td>\n",
       "      <td>5263</td>\n",
       "      <td>24906</td>\n",
       "      <td>12226</td>\n",
       "    </tr>\n",
       "    <tr>\n",
       "      <th>top</th>\n",
       "      <td>Dark Matter</td>\n",
       "      <td>2018-07-13</td>\n",
       "      <td>Choice of Games</td>\n",
       "      <td>Big Fish Games</td>\n",
       "      <td>windows</td>\n",
       "      <td>Single-player</td>\n",
       "      <td>Action;Indie</td>\n",
       "      <td>Action;Indie;Casual</td>\n",
       "      <td>0-20000</td>\n",
       "      <td>\\n</td>\n",
       "      <td>Those who love platform games may think this i...</td>\n",
       "      <td>Minimal physical puzzle with explosions</td>\n",
       "      <td>{'minimum': '&lt;strong&gt;Minimum:&lt;/strong&gt;&lt;br&gt;&lt;ul ...</td>\n",
       "      <td>[]</td>\n",
       "      <td>[]</td>\n",
       "      <td>OS: Windows 7</td>\n",
       "      <td>Requires a 64-bit processor and operating system</td>\n",
       "    </tr>\n",
       "    <tr>\n",
       "      <th>freq</th>\n",
       "      <td>3</td>\n",
       "      <td>64</td>\n",
       "      <td>94</td>\n",
       "      <td>212</td>\n",
       "      <td>18393</td>\n",
       "      <td>6104</td>\n",
       "      <td>1852</td>\n",
       "      <td>845</td>\n",
       "      <td>18591</td>\n",
       "      <td>24</td>\n",
       "      <td>3</td>\n",
       "      <td>12</td>\n",
       "      <td>133</td>\n",
       "      <td>15934</td>\n",
       "      <td>18784</td>\n",
       "      <td>137</td>\n",
       "      <td>808</td>\n",
       "    </tr>\n",
       "  </tbody>\n",
       "</table>\n",
       "</div>"
      ]
     },
     "metadata": {
      "application/vnd.databricks.v1+output": {
       "addedWidgets": {},
       "arguments": {},
       "data": "<div>\n<style scoped>\n    .dataframe tbody tr th:only-of-type {\n        vertical-align: middle;\n    }\n\n    .dataframe tbody tr th {\n        vertical-align: top;\n    }\n\n    .dataframe thead th {\n        text-align: right;\n    }\n</style>\n<table border=\"1\" class=\"dataframe\">\n  <thead>\n    <tr style=\"text-align: right;\">\n      <th></th>\n      <th>name</th>\n      <th>release_date</th>\n      <th>developer</th>\n      <th>publisher</th>\n      <th>platforms</th>\n      <th>categories</th>\n      <th>genres</th>\n      <th>steamspy_tags</th>\n      <th>owners</th>\n      <th>detailed_description</th>\n      <th>about_the_game</th>\n      <th>short_description</th>\n      <th>pc_requirements</th>\n      <th>mac_requirements</th>\n      <th>linux_requirements</th>\n      <th>minimum</th>\n      <th>recommended</th>\n    </tr>\n  </thead>\n  <tbody>\n    <tr>\n      <th>count</th>\n      <td>27062</td>\n      <td>27062</td>\n      <td>27062</td>\n      <td>27062</td>\n      <td>27062</td>\n      <td>27062</td>\n      <td>27062</td>\n      <td>27062</td>\n      <td>27062</td>\n      <td>27062</td>\n      <td>20280</td>\n      <td>20096</td>\n      <td>27062</td>\n      <td>27062</td>\n      <td>27062</td>\n      <td>27057</td>\n      <td>14018</td>\n    </tr>\n    <tr>\n      <th>unique</th>\n      <td>27020</td>\n      <td>2617</td>\n      <td>17107</td>\n      <td>14348</td>\n      <td>5</td>\n      <td>3333</td>\n      <td>1551</td>\n      <td>6418</td>\n      <td>13</td>\n      <td>26915</td>\n      <td>20269</td>\n      <td>20020</td>\n      <td>25182</td>\n      <td>8030</td>\n      <td>5263</td>\n      <td>24906</td>\n      <td>12226</td>\n    </tr>\n    <tr>\n      <th>top</th>\n      <td>Dark Matter</td>\n      <td>2018-07-13</td>\n      <td>Choice of Games</td>\n      <td>Big Fish Games</td>\n      <td>windows</td>\n      <td>Single-player</td>\n      <td>Action;Indie</td>\n      <td>Action;Indie;Casual</td>\n      <td>0-20000</td>\n      <td>\\n</td>\n      <td>Those who love platform games may think this i...</td>\n      <td>Minimal physical puzzle with explosions</td>\n      <td>{'minimum': '&lt;strong&gt;Minimum:&lt;/strong&gt;&lt;br&gt;&lt;ul ...</td>\n      <td>[]</td>\n      <td>[]</td>\n      <td>OS: Windows 7</td>\n      <td>Requires a 64-bit processor and operating system</td>\n    </tr>\n    <tr>\n      <th>freq</th>\n      <td>3</td>\n      <td>64</td>\n      <td>94</td>\n      <td>212</td>\n      <td>18393</td>\n      <td>6104</td>\n      <td>1852</td>\n      <td>845</td>\n      <td>18591</td>\n      <td>24</td>\n      <td>3</td>\n      <td>12</td>\n      <td>133</td>\n      <td>15934</td>\n      <td>18784</td>\n      <td>137</td>\n      <td>808</td>\n    </tr>\n  </tbody>\n</table>\n</div>",
       "datasetInfos": [],
       "metadata": {},
       "removedWidgets": [],
       "textData": null,
       "type": "htmlSandbox"
      }
     },
     "output_type": "display_data"
    }
   ],
   "source": [
    "steam_all_data_clean.describe(include=object)"
   ]
  },
  {
   "cell_type": "markdown",
   "metadata": {
    "application/vnd.databricks.v1+cell": {
     "cellMetadata": {
      "byteLimit": 2048000,
      "rowLimit": 10000
     },
     "inputWidgets": {},
     "nuid": "fe2af5b4-0db8-4f21-bd30-fb9349783c83",
     "showTitle": false,
     "title": ""
    }
   },
   "source": [
    "Agora serão analisados as colunas não numéricas.\n",
    "\n",
    "**name**: Texto. Está dentro do esperado.\\\n",
    "**release_date**: Data. Está dentro do esperado.\\\n",
    "**developer**: Texto. Está dentro do esperado.\\\n",
    "**publisher**: Texto. Está dentro do esperado.\\\n",
    "**platforms**: Texto. Está dentro do esperado.\\\n",
    "**categories**: Texto. Está dentro do esperado.\\\n",
    "**genres**: Texto. Está dentro do esperado.\\\n",
    "**steampsy_tags**: Texto. Está dentro do esperado.\\\n",
    "**owners**: Texto. Está dentro do esperado.\\\n",
    "**detailed_description**: Texto. Está dentro do esperado.\\\n",
    "**about_the_game**: Texto. Está dentro do esperado.\\\n",
    "**short_description**: Texto. Está dentro do esperado.\\\n",
    "**pc_requirements**: Texto. Está dentro do esperado.\\\n",
    "**mac_requirements**: Texto. Está dentro do esperado.\\\n",
    "**linux_requirements**: Texto. Está dentro do esperado.\\\n",
    "**minimum**: Texto. Está dentro do esperado.\\\n",
    "**recommended**: Texto. Está dentro do esperado.\\"
   ]
  },
  {
   "cell_type": "markdown",
   "metadata": {
    "application/vnd.databricks.v1+cell": {
     "cellMetadata": {
      "byteLimit": 2048000,
      "rowLimit": 10000
     },
     "inputWidgets": {},
     "nuid": "220d96f5-e4f8-46d7-b2a3-f3dbdc6bc0dc",
     "showTitle": false,
     "title": ""
    }
   },
   "source": [
    "## 2.5.2 Solução do problema"
   ]
  },
  {
   "cell_type": "markdown",
   "metadata": {
    "application/vnd.databricks.v1+cell": {
     "cellMetadata": {
      "byteLimit": 2048000,
      "rowLimit": 10000
     },
     "inputWidgets": {},
     "nuid": "ef5f246b-7915-41cd-b29b-4f39e40e4db8",
     "showTitle": false,
     "title": ""
    }
   },
   "source": [
    "1. Quais são os cinco jogos mais bem avaliados na categoria \"Roguelike\" que foram lançados nos últimos 12 meses?\n",
    "\n",
    "Como os dados são de 2019, a pergunta será reformulada da seguinte forma:\n",
    "\n",
    "1. Quais são os cinco jogos mais bem avaliados na categoria \"Roguelike\" que foram lançados entre 2018 e 2019?"
   ]
  },
  {
   "cell_type": "code",
   "execution_count": 0,
   "metadata": {
    "application/vnd.databricks.v1+cell": {
     "cellMetadata": {
      "byteLimit": 2048000,
      "implicitDf": true,
      "rowLimit": 10000
     },
     "inputWidgets": {},
     "nuid": "a7c3ed30-dd9a-44df-9593-36ce12d14702",
     "showTitle": false,
     "title": ""
    }
   },
   "outputs": [
    {
     "output_type": "display_data",
     "data": {
      "text/html": [
       "<style scoped>\n",
       "  .table-result-container {\n",
       "    max-height: 300px;\n",
       "    overflow: auto;\n",
       "  }\n",
       "  table, th, td {\n",
       "    border: 1px solid black;\n",
       "    border-collapse: collapse;\n",
       "  }\n",
       "  th, td {\n",
       "    padding: 5px;\n",
       "  }\n",
       "  th {\n",
       "    text-align: left;\n",
       "  }\n",
       "</style><div class='table-result-container'><table class='table-result'><thead style='background-color: white'><tr><th>name</th><th>Ratings</th><th>release_date</th></tr></thead><tbody><tr><td>The Binding of Isaac: Rebirth</td><td>97.53582429355832</td><td>2014-11-04</td></tr><tr><td>Caves of Qud</td><td>97.02072538860104</td><td>2015-07-15</td></tr><tr><td>Crypt of the NecroDancer</td><td>96.37291595780879</td><td>2015-04-23</td></tr><tr><td>Slay the Spire</td><td>96.32601973199823</td><td>2019-01-23</td></tr><tr><td>FTL: Faster Than Light</td><td>96.3203072057827</td><td>2012-09-14</td></tr></tbody></table></div>"
      ]
     },
     "metadata": {
      "application/vnd.databricks.v1+output": {
       "addedWidgets": {},
       "aggData": [],
       "aggError": "",
       "aggOverflow": false,
       "aggSchema": [],
       "aggSeriesLimitReached": false,
       "aggType": "",
       "arguments": {},
       "columnCustomDisplayInfos": {},
       "data": [
        [
         "The Binding of Isaac: Rebirth",
         97.53582429355832,
         "2014-11-04"
        ],
        [
         "Caves of Qud",
         97.02072538860104,
         "2015-07-15"
        ],
        [
         "Crypt of the NecroDancer",
         96.37291595780879,
         "2015-04-23"
        ],
        [
         "Slay the Spire",
         96.32601973199823,
         "2019-01-23"
        ],
        [
         "FTL: Faster Than Light",
         96.3203072057827,
         "2012-09-14"
        ]
       ],
       "datasetInfos": [],
       "dbfsResultPath": null,
       "isJsonSchema": true,
       "metadata": {},
       "overflow": false,
       "plotOptions": {
        "customPlotOptions": {},
        "displayType": "table",
        "pivotAggregation": null,
        "pivotColumns": null,
        "xColumns": null,
        "yColumns": null
       },
       "removedWidgets": [],
       "schema": [
        {
         "metadata": "{}",
         "name": "name",
         "type": "\"string\""
        },
        {
         "metadata": "{}",
         "name": "Ratings",
         "type": "\"double\""
        },
        {
         "metadata": "{}",
         "name": "release_date",
         "type": "\"date\""
        }
       ],
       "type": "table"
      }
     },
     "output_type": "display_data"
    }
   ],
   "source": [
    "%sql\n",
    "SELECT name, ((positive_ratings / (positive_ratings + negative_ratings)) * 100) as Ratings, release_date\n",
    "FROM steam_all_data\n",
    "WHERE (categories LIKE '%Rogue-like%' \n",
    "        OR genres LIKE '%Rogue-like%' \n",
    "        OR steamspy_tags LIKE '%Rogue-like%')\n",
    "        AND release_date BETWEEN '2000-01-01' AND '2019-12-31'\n",
    "AND positive_ratings > 1000\n",
    "ORDER BY Ratings DESC\n",
    "LIMIT 5;"
   ]
  },
  {
   "cell_type": "markdown",
   "metadata": {
    "application/vnd.databricks.v1+cell": {
     "cellMetadata": {
      "byteLimit": 2048000,
      "rowLimit": 10000
     },
     "inputWidgets": {},
     "nuid": "d1014dff-f593-4f35-9e2e-d2dd854d5f90",
     "showTitle": false,
     "title": ""
    }
   },
   "source": [
    "2) Qual é o jogo mais popular que inclui a palavra \"cyberpunk\" em sua descrição ou tags?"
   ]
  },
  {
   "cell_type": "code",
   "execution_count": 0,
   "metadata": {
    "application/vnd.databricks.v1+cell": {
     "cellMetadata": {
      "byteLimit": 2048000,
      "implicitDf": true,
      "rowLimit": 10000
     },
     "inputWidgets": {},
     "nuid": "c0813ddc-e369-49b4-801f-a85842c13169",
     "showTitle": false,
     "title": ""
    }
   },
   "outputs": [
    {
     "output_type": "display_data",
     "data": {
      "text/html": [
       "<style scoped>\n",
       "  .table-result-container {\n",
       "    max-height: 300px;\n",
       "    overflow: auto;\n",
       "  }\n",
       "  table, th, td {\n",
       "    border: 1px solid black;\n",
       "    border-collapse: collapse;\n",
       "  }\n",
       "  th, td {\n",
       "    padding: 5px;\n",
       "  }\n",
       "  th {\n",
       "    text-align: left;\n",
       "  }\n",
       "</style><div class='table-result-container'><table class='table-result'><thead style='background-color: white'><tr><th>name</th><th>Ratings</th></tr></thead><tbody><tr><td>VA-11 Hall-A: Cyberpunk Bartender Action</td><td>97.67441860465115</td></tr></tbody></table></div>"
      ]
     },
     "metadata": {
      "application/vnd.databricks.v1+output": {
       "addedWidgets": {},
       "aggData": [],
       "aggError": "",
       "aggOverflow": false,
       "aggSchema": [],
       "aggSeriesLimitReached": false,
       "aggType": "",
       "arguments": {},
       "columnCustomDisplayInfos": {},
       "data": [
        [
         "VA-11 Hall-A: Cyberpunk Bartender Action",
         97.67441860465115
        ]
       ],
       "datasetInfos": [],
       "dbfsResultPath": null,
       "isJsonSchema": true,
       "metadata": {},
       "overflow": false,
       "plotOptions": {
        "customPlotOptions": {},
        "displayType": "table",
        "pivotAggregation": null,
        "pivotColumns": null,
        "xColumns": null,
        "yColumns": null
       },
       "removedWidgets": [],
       "schema": [
        {
         "metadata": "{}",
         "name": "name",
         "type": "\"string\""
        },
        {
         "metadata": "{}",
         "name": "Ratings",
         "type": "\"double\""
        }
       ],
       "type": "table"
      }
     },
     "output_type": "display_data"
    }
   ],
   "source": [
    "%sql\n",
    "SELECT name, ((positive_ratings / (positive_ratings + negative_ratings)) * 100) as Ratings\n",
    "FROM steam_all_data\n",
    "WHERE (categories LIKE '%cyberpunk%' \n",
    "       OR genres LIKE '%cyberpunk%' \n",
    "       OR steamspy_tags LIKE '%cyberpunk%' \n",
    "       OR detailed_description LIKE '%cyberpunk%' \n",
    "       OR about_the_game LIKE '%cyberpunk%' \n",
    "       OR short_description LIKE '%cyberpunk%')\n",
    "      AND positive_ratings > 1000\n",
    "ORDER BY Ratings DESC\n",
    "LIMIT 1;"
   ]
  },
  {
   "cell_type": "markdown",
   "metadata": {
    "application/vnd.databricks.v1+cell": {
     "cellMetadata": {
      "byteLimit": 2048000,
      "rowLimit": 10000
     },
     "inputWidgets": {},
     "nuid": "cfa715de-fb34-45f7-936e-0c4241b11d89",
     "showTitle": false,
     "title": ""
    }
   },
   "source": [
    "3) Quais são os três jogos de estratégia com temática de ficção científica que têm o maior número de horas jogadas no total? \\"
   ]
  },
  {
   "cell_type": "code",
   "execution_count": 0,
   "metadata": {
    "application/vnd.databricks.v1+cell": {
     "cellMetadata": {
      "byteLimit": 2048000,
      "implicitDf": true,
      "rowLimit": 10000
     },
     "inputWidgets": {},
     "nuid": "8a2e3643-9546-4157-b0ae-a734976e38da",
     "showTitle": false,
     "title": ""
    }
   },
   "outputs": [
    {
     "output_type": "display_data",
     "data": {
      "text/html": [
       "<style scoped>\n",
       "  .table-result-container {\n",
       "    max-height: 300px;\n",
       "    overflow: auto;\n",
       "  }\n",
       "  table, th, td {\n",
       "    border: 1px solid black;\n",
       "    border-collapse: collapse;\n",
       "  }\n",
       "  th, td {\n",
       "    padding: 5px;\n",
       "  }\n",
       "  th {\n",
       "    text-align: left;\n",
       "  }\n",
       "</style><div class='table-result-container'><table class='table-result'><thead style='background-color: white'><tr><th>name</th><th>average_playtime</th></tr></thead><tbody><tr><td>EVE Online</td><td>5123</td></tr><tr><td>DG2: Defense Grid 2</td><td>3601</td></tr><tr><td>UFO: Afterlight</td><td>2380</td></tr></tbody></table></div>"
      ]
     },
     "metadata": {
      "application/vnd.databricks.v1+output": {
       "addedWidgets": {},
       "aggData": [],
       "aggError": "",
       "aggOverflow": false,
       "aggSchema": [],
       "aggSeriesLimitReached": false,
       "aggType": "",
       "arguments": {},
       "columnCustomDisplayInfos": {},
       "data": [
        [
         "EVE Online",
         5123
        ],
        [
         "DG2: Defense Grid 2",
         3601
        ],
        [
         "UFO: Afterlight",
         2380
        ]
       ],
       "datasetInfos": [],
       "dbfsResultPath": null,
       "isJsonSchema": true,
       "metadata": {},
       "overflow": false,
       "plotOptions": {
        "customPlotOptions": {},
        "displayType": "table",
        "pivotAggregation": null,
        "pivotColumns": null,
        "xColumns": null,
        "yColumns": null
       },
       "removedWidgets": [],
       "schema": [
        {
         "metadata": "{}",
         "name": "name",
         "type": "\"string\""
        },
        {
         "metadata": "{}",
         "name": "average_playtime",
         "type": "\"long\""
        }
       ],
       "type": "table"
      }
     },
     "output_type": "display_data"
    }
   ],
   "source": [
    "%sql\n",
    "SELECT name, average_playtime\n",
    "FROM steam_all_data\n",
    "WHERE genres LIKE '%Strategy%'\n",
    "AND steamspy_tags LIKE '%Sci-fi%'\n",
    "ORDER BY average_playtime DESC\n",
    "LIMIT 3;"
   ]
  },
  {
   "cell_type": "markdown",
   "metadata": {
    "application/vnd.databricks.v1+cell": {
     "cellMetadata": {
      "byteLimit": 2048000,
      "rowLimit": 10000
     },
     "inputWidgets": {},
     "nuid": "a4e26000-215f-45bd-934b-ccedf202bd8d",
     "showTitle": false,
     "title": ""
    }
   },
   "source": [
    "4)\tQual é a porcentagem média de conclusão dos jogos de terror mais assustadores disponíveis na Steam?\n",
    "\n",
    "Não é possivel responder essa pergunta, pois não existem dados da conclusão média dos jogos."
   ]
  },
  {
   "cell_type": "markdown",
   "metadata": {
    "application/vnd.databricks.v1+cell": {
     "cellMetadata": {
      "byteLimit": 2048000,
      "rowLimit": 10000
     },
     "inputWidgets": {},
     "nuid": "daa7292f-3537-4177-8c1c-9611917e1770",
     "showTitle": false,
     "title": ""
    }
   },
   "source": [
    "5)\tQuais são os cinco jogos mais jogados que tem exatamente 1 GB de tamanho?\n"
   ]
  },
  {
   "cell_type": "code",
   "execution_count": 0,
   "metadata": {
    "application/vnd.databricks.v1+cell": {
     "cellMetadata": {
      "byteLimit": 2048000,
      "implicitDf": true,
      "rowLimit": 10000
     },
     "inputWidgets": {},
     "nuid": "e81a601b-2850-43e9-bf92-c9d002cf5e4b",
     "showTitle": false,
     "title": ""
    }
   },
   "outputs": [
    {
     "output_type": "display_data",
     "data": {
      "text/html": [
       "<style scoped>\n",
       "  .table-result-container {\n",
       "    max-height: 300px;\n",
       "    overflow: auto;\n",
       "  }\n",
       "  table, th, td {\n",
       "    border: 1px solid black;\n",
       "    border-collapse: collapse;\n",
       "  }\n",
       "  th, td {\n",
       "    padding: 5px;\n",
       "  }\n",
       "  th {\n",
       "    text-align: left;\n",
       "  }\n",
       "</style><div class='table-result-container'><table class='table-result'><thead style='background-color: white'><tr><th>name</th><th>owners</th></tr></thead><tbody><tr><td>Trove</td><td>5000000-10000000</td></tr><tr><td>Kingdoms and Castles</td><td>500000-1000000</td></tr><tr><td>AX:EL - Air XenoDawn</td><td>500000-1000000</td></tr><tr><td>Overcast - Walden and the Werewolf</td><td>500000-1000000</td></tr><tr><td>Duelyst</td><td>500000-1000000</td></tr></tbody></table></div>"
      ]
     },
     "metadata": {
      "application/vnd.databricks.v1+output": {
       "addedWidgets": {},
       "aggData": [],
       "aggError": "",
       "aggOverflow": false,
       "aggSchema": [],
       "aggSeriesLimitReached": false,
       "aggType": "",
       "arguments": {},
       "columnCustomDisplayInfos": {},
       "data": [
        [
         "Trove",
         "5000000-10000000"
        ],
        [
         "Kingdoms and Castles",
         "500000-1000000"
        ],
        [
         "AX:EL - Air XenoDawn",
         "500000-1000000"
        ],
        [
         "Overcast - Walden and the Werewolf",
         "500000-1000000"
        ],
        [
         "Duelyst",
         "500000-1000000"
        ]
       ],
       "datasetInfos": [],
       "dbfsResultPath": null,
       "isJsonSchema": true,
       "metadata": {},
       "overflow": false,
       "plotOptions": {
        "customPlotOptions": {},
        "displayType": "table",
        "pivotAggregation": null,
        "pivotColumns": null,
        "xColumns": null,
        "yColumns": null
       },
       "removedWidgets": [],
       "schema": [
        {
         "metadata": "{}",
         "name": "name",
         "type": "\"string\""
        },
        {
         "metadata": "{}",
         "name": "owners",
         "type": "\"string\""
        }
       ],
       "type": "table"
      }
     },
     "output_type": "display_data"
    }
   ],
   "source": [
    "%sql\n",
    "SELECT name, owners\n",
    "FROM steam_all_data\n",
    "WHERE minimum LIKE '% 1 GB available space%'\n",
    "ORDER BY owners DESC\n",
    "LIMIT 5;"
   ]
  },
  {
   "cell_type": "markdown",
   "metadata": {
    "application/vnd.databricks.v1+cell": {
     "cellMetadata": {
      "byteLimit": 2048000,
      "rowLimit": 10000
     },
     "inputWidgets": {},
     "nuid": "dc2d0659-ceb9-4205-b026-73b8c6115a9d",
     "showTitle": false,
     "title": ""
    }
   },
   "source": [
    "6.\tQuais são os três jogos de simulação mais caros que têm suporte para realidade virtual?"
   ]
  },
  {
   "cell_type": "code",
   "execution_count": 0,
   "metadata": {
    "application/vnd.databricks.v1+cell": {
     "cellMetadata": {
      "byteLimit": 2048000,
      "implicitDf": true,
      "rowLimit": 10000
     },
     "inputWidgets": {},
     "nuid": "695f8a44-c0fe-42a0-9d0b-9377704944ae",
     "showTitle": false,
     "title": ""
    }
   },
   "outputs": [
    {
     "output_type": "display_data",
     "data": {
      "text/html": [
       "<style scoped>\n",
       "  .table-result-container {\n",
       "    max-height: 300px;\n",
       "    overflow: auto;\n",
       "  }\n",
       "  table, th, td {\n",
       "    border: 1px solid black;\n",
       "    border-collapse: collapse;\n",
       "  }\n",
       "  th, td {\n",
       "    padding: 5px;\n",
       "  }\n",
       "  th {\n",
       "    text-align: left;\n",
       "  }\n",
       "</style><div class='table-result-container'><table class='table-result'><thead style='background-color: white'><tr><th>name</th><th>price</th></tr></thead><tbody><tr><td>The Music Room</td><td>98.99</td></tr><tr><td>ARK: Survival Evolved</td><td>44.99</td></tr><tr><td>The Elder Scrolls V: Skyrim VR</td><td>39.99</td></tr></tbody></table></div>"
      ]
     },
     "metadata": {
      "application/vnd.databricks.v1+output": {
       "addedWidgets": {},
       "aggData": [],
       "aggError": "",
       "aggOverflow": false,
       "aggSchema": [],
       "aggSeriesLimitReached": false,
       "aggType": "",
       "arguments": {},
       "columnCustomDisplayInfos": {},
       "data": [
        [
         "The Music Room",
         98.99
        ],
        [
         "ARK: Survival Evolved",
         44.99
        ],
        [
         "The Elder Scrolls V: Skyrim VR",
         39.99
        ]
       ],
       "datasetInfos": [],
       "dbfsResultPath": null,
       "isJsonSchema": true,
       "metadata": {},
       "overflow": false,
       "plotOptions": {
        "customPlotOptions": {},
        "displayType": "table",
        "pivotAggregation": null,
        "pivotColumns": null,
        "xColumns": null,
        "yColumns": null
       },
       "removedWidgets": [],
       "schema": [
        {
         "metadata": "{}",
         "name": "name",
         "type": "\"string\""
        },
        {
         "metadata": "{}",
         "name": "price",
         "type": "\"double\""
        }
       ],
       "type": "table"
      }
     },
     "output_type": "display_data"
    }
   ],
   "source": [
    "%sql\n",
    "SELECT name, price\n",
    "FROM steam_all_data\n",
    "WHERE (categories LIKE '%VR%' \n",
    "       OR genres LIKE '%VR%' \n",
    "       OR steamspy_tags LIKE '%VR%')\n",
    "ORDER BY price DESC\n",
    "LIMIT 3;"
   ]
  },
  {
   "cell_type": "markdown",
   "metadata": {
    "application/vnd.databricks.v1+cell": {
     "cellMetadata": {},
     "inputWidgets": {},
     "nuid": "6a0b6b20-b10b-4762-b169-dbce400c79e2",
     "showTitle": false,
     "title": ""
    }
   },
   "source": [
    "7.\tQual é o jogo com a trilha sonora mais extensa em termos de número de faixas de música disponíveis?\n",
    "\n",
    "Não existem dados de trilha sonora disponiveis."
   ]
  },
  {
   "cell_type": "markdown",
   "metadata": {
    "application/vnd.databricks.v1+cell": {
     "cellMetadata": {},
     "inputWidgets": {},
     "nuid": "db39eda6-430e-4592-8eef-ef57374364a9",
     "showTitle": false,
     "title": ""
    }
   },
   "source": [
    "8.\tQuais são os jogos que têm a maior diferença entre a classificação dos críticos e dos jogadores?\n",
    "\n",
    "Não existem dados de notas dos criticos."
   ]
  },
  {
   "cell_type": "markdown",
   "metadata": {
    "application/vnd.databricks.v1+cell": {
     "cellMetadata": {},
     "inputWidgets": {},
     "nuid": "6ece5260-a75f-46a4-8f36-0e07fe472939",
     "showTitle": false,
     "title": ""
    }
   },
   "source": [
    "9.\tQuais são os jogos de estratégia em tempo real mais antigos que ainda têm uma comunidade ativa de jogadores online?\n",
    "\n",
    "Não existem dados correpondentes a comunidade de cada jogo na tabela."
   ]
  },
  {
   "cell_type": "markdown",
   "metadata": {
    "application/vnd.databricks.v1+cell": {
     "cellMetadata": {},
     "inputWidgets": {},
     "nuid": "f3eb71ba-4f65-44d0-88f9-45741a784757",
     "showTitle": false,
     "title": ""
    }
   },
   "source": [
    "10.\tQuais são os jogos independentes mais populares que foram lançados por desenvolvedoras com sede na América do Sul?\n",
    "\n",
    "Não existem dados correpondentes as sedes das desenvolvedoras."
   ]
  },
  {
   "cell_type": "markdown",
   "metadata": {
    "application/vnd.databricks.v1+cell": {
     "cellMetadata": {
      "byteLimit": 2048000,
      "rowLimit": 10000
     },
     "inputWidgets": {},
     "nuid": "c29a4823-0def-47de-82ed-9bf6999156c9",
     "showTitle": false,
     "title": ""
    }
   },
   "source": [
    "## 3 Autoavaliação"
   ]
  }
 ],
 "metadata": {
  "application/vnd.databricks.v1+notebook": {
   "dashboards": [],
   "language": "python",
   "notebookMetadata": {
    "mostRecentlyExecutedCommandWithImplicitDF": {
     "commandId": 3974107398454234,
     "dataframes": [
      "_sqldf"
     ]
    },
    "pythonIndentUnit": 4
   },
   "notebookName": "MVP-3",
   "widgets": {}
  }
 },
 "nbformat": 4,
 "nbformat_minor": 0
}
