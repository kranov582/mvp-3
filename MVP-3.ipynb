{
 "cells": [
  {
   "cell_type": "markdown",
   "metadata": {
    "application/vnd.databricks.v1+cell": {
     "cellMetadata": {
      "byteLimit": 2048000,
      "rowLimit": 10000
     },
     "inputWidgets": {},
     "nuid": "fbb4df94-c3c8-4e90-8ab9-ee7c7b199323",
     "showTitle": false,
     "title": ""
    }
   },
   "source": [
    "# MVP de Engenharia de Dados\n",
    "\n",
    ">\n",
    "\n",
    "\n",
    "## Pedro Augusto Boller\n"
   ]
  },
  {
   "cell_type": "markdown",
   "metadata": {
    "application/vnd.databricks.v1+cell": {
     "cellMetadata": {
      "byteLimit": 2048000,
      "rowLimit": 10000
     },
     "inputWidgets": {},
     "nuid": "7785781a-009f-4221-9763-4cc58d81a443",
     "showTitle": false,
     "title": ""
    }
   },
   "source": [
    "## 1 Objetivo"
   ]
  },
  {
   "cell_type": "markdown",
   "metadata": {
    "application/vnd.databricks.v1+cell": {
     "cellMetadata": {
      "byteLimit": 2048000,
      "rowLimit": 10000
     },
     "inputWidgets": {},
     "nuid": "1ace8ee9-8f9d-462c-a5dc-1c42c6bba055",
     "showTitle": false,
     "title": ""
    }
   },
   "source": [
    "**Objetivo Geral do MVP:** \\\n",
    "O propósito deste MVP é estabelecer um pipeline de dados da Steam, a plataforma de jogos eletrônicos, com o intuito de disponibilizar ao usuário um banco de dados para explorar e extrair insights valiosos a respeito dos jogos disponíveis na referida plataforma.\n",
    "\n",
    "**Perguntas a serem respondidas:** \\\n",
    "1.\tQuais são os cinco jogos mais bem avaliados na categoria \"Roguelike\" que foram lançados nos últimos 12 meses? \\n",
    "2.\tQual é o jogo mais popular que inclui a palavra \"cyberpunk\" em sua descrição ou tags? \\n",
    "3.\tQuais são os três jogos de estratégia com temática de ficção científica que têm o maior número de horas jogadas no total? \\n",
    "4.\tQual é a porcentagem média de conclusão dos jogos de terror mais assustadores disponíveis na Steam? \\n",
    "5.\tQuais são os cinco jogos mais jogados que tem exatamente 1 GB de tamanho? \\n",
    "6.\tQuais são os três jogos mais caros que têm suporte para realidade virtual? \\n",
    "7.\tQual é o jogo com a trilha sonora mais extensa em termos de número de faixas de música disponíveis? \\n",
    "8.\tQuais são os jogos que têm a maior diferença entre a classificação dos críticos e dos jogadores? \\n",
    "9.\tQuais são os jogos de estratégia em tempo real mais antigos que ainda têm uma comunidade ativa de jogadores online? \\n",
    "10.\tQuais são os jogos independentes mais populares que foram lançados por desenvolvedoras com sede na América do Sul?"
   ]
  },
  {
   "cell_type": "markdown",
   "metadata": {
    "application/vnd.databricks.v1+cell": {
     "cellMetadata": {
      "byteLimit": 2048000,
      "rowLimit": 10000
     },
     "inputWidgets": {},
     "nuid": "9bb11020-e6df-4714-88c9-7118cb49f39d",
     "showTitle": false,
     "title": ""
    }
   },
   "source": [
    "## 2 Detalhamento"
   ]
  },
  {
   "cell_type": "markdown",
   "metadata": {
    "application/vnd.databricks.v1+cell": {
     "cellMetadata": {
      "byteLimit": 2048000,
      "rowLimit": 10000
     },
     "inputWidgets": {},
     "nuid": "e2b33645-3a01-4bbf-951c-073c1d226e7f",
     "showTitle": false,
     "title": ""
    }
   },
   "source": [
    "## 2.1 Busca pelos dados"
   ]
  },
  {
   "cell_type": "markdown",
   "metadata": {
    "application/vnd.databricks.v1+cell": {
     "cellMetadata": {
      "byteLimit": 2048000,
      "rowLimit": 10000
     },
     "inputWidgets": {},
     "nuid": "7efc9661-2f0f-4a39-8dd6-cd8cf0ad67b8",
     "showTitle": false,
     "title": ""
    }
   },
   "source": [
    "Inicialmente, foi planejado utilizar uma API para coletar os dados e criar uma tabela que seria posteriormente inserida no banco de dados do Azure para a criação do pipeline, limpeza e análise. No entanto, devido à necessidade de um aprendizado adicional e ao tempo limitado disponível para a conclusão do projeto, não foi viável gerar esses dados por meio da API.\n",
    "\n",
    "Portanto, decidi baixar os dados de um usuário do Kaggle que utilizou a API. Conforme relatado pelo autor, esses dados foram obtidos em maio de 2019 e abrangem a maioria dos jogos lançados até essa data. É importante destacar que os dados já foram submetidos a processos de limpeza e tratamento. No entanto, será realizado uma análise minuciosa de cada coluna para avaliar a qualidade dos dados.\n",
    "\n",
    "É possivel encontrar os dados na seguinte página do Kaggle: \n",
    "\n",
    "https://www.kaggle.com/datasets/nikdavis/steam-store-games"
   ]
  },
  {
   "cell_type": "markdown",
   "metadata": {
    "application/vnd.databricks.v1+cell": {
     "cellMetadata": {
      "byteLimit": 2048000,
      "rowLimit": 10000
     },
     "inputWidgets": {},
     "nuid": "bcf77f4c-913f-4139-87e5-2a7fc2ad1bbf",
     "showTitle": false,
     "title": ""
    }
   },
   "source": [
    "## 2.2 Coleta"
   ]
  },
  {
   "cell_type": "markdown",
   "metadata": {
    "application/vnd.databricks.v1+cell": {
     "cellMetadata": {
      "byteLimit": 2048000,
      "rowLimit": 10000
     },
     "inputWidgets": {},
     "nuid": "243c3f0c-065e-4cef-bab6-96a1686ec842",
     "showTitle": false,
     "title": ""
    }
   },
   "source": [
    "Os dados foram obtidos a partir do Kaggle e posteriormente inseridos na plataforma de nuvem da Microsoft, o Azure. Para a realização deste trabalho, foi utilizado o Databricks como a ferramenta principal."
   ]
  },
  {
   "cell_type": "markdown",
   "metadata": {
    "application/vnd.databricks.v1+cell": {
     "cellMetadata": {
      "byteLimit": 2048000,
      "rowLimit": 10000
     },
     "inputWidgets": {},
     "nuid": "5d9dcf66-c835-4994-9f0d-4d902ab9d619",
     "showTitle": false,
     "title": ""
    }
   },
   "source": [
    "![test_image](/coleta1.png)"
   ]
  },
  {
   "cell_type": "markdown",
   "metadata": {
    "application/vnd.databricks.v1+cell": {
     "cellMetadata": {
      "byteLimit": 2048000,
      "rowLimit": 10000
     },
     "inputWidgets": {},
     "nuid": "8f3ddb89-dfd6-4960-a0ee-956fb21182a8",
     "showTitle": false,
     "title": ""
    }
   },
   "source": [
    "![test_image](/coleta2.png)"
   ]
  },
  {
   "cell_type": "markdown",
   "metadata": {
    "application/vnd.databricks.v1+cell": {
     "cellMetadata": {
      "byteLimit": 2048000,
      "rowLimit": 10000
     },
     "inputWidgets": {},
     "nuid": "a8d56476-7792-47f3-93da-c558307b8a87",
     "showTitle": false,
     "title": ""
    }
   },
   "source": [
    "![test_image](/coleta3.png)"
   ]
  },
  {
   "cell_type": "markdown",
   "metadata": {
    "application/vnd.databricks.v1+cell": {
     "cellMetadata": {
      "byteLimit": 2048000,
      "rowLimit": 10000
     },
     "inputWidgets": {},
     "nuid": "cf661f3f-eea3-4804-9a51-489426f19e42",
     "showTitle": false,
     "title": ""
    }
   },
   "source": [
    "## 2.3 Modelagem"
   ]
  },
  {
   "cell_type": "markdown",
   "metadata": {
    "application/vnd.databricks.v1+cell": {
     "cellMetadata": {
      "byteLimit": 2048000,
      "rowLimit": 10000
     },
     "inputWidgets": {},
     "nuid": "61572339-15b2-43c7-8c74-2809c3007f10",
     "showTitle": false,
     "title": ""
    }
   },
   "source": [
    "Para este projeto, obtou-se por utilizar um modelo de dados plano (flat) devido à natureza variada dos dados disponíveis. Os dados se enquadram melhor em um conceito de Data Lake, pois abrangem informações numéricas, de datas, texto e \"dicionários\".\n",
    "\n",
    "Inicialmente, trabalhamos com três tabelas principais:\n",
    "\n",
    "Tabela \"steam\": Esta tabela contém a maioria dos dados essenciais relacionados aos jogos.\n",
    "\n",
    "Tabela \"steam_description_data\": Nesta tabela, encontramos informações detalhadas sobre a descrição de cada jogo.\n",
    "\n",
    "Tabela \"steam_requirements_data\": Aqui, são registrados os dados referentes aos requisitos mínimos e recomendados para cada jogo.\n",
    "\n",
    "A ferramenta de catálogo do databricks só pode ser utilizada a partir de um conta paga, então a solução que encontrei para compor o catálogo de dados foi utilizando markdowns.\n",
    "\n",
    "A seguir, apresentamos uma visão geral de cada uma das tabelas e seus respectivos campos:"
   ]
  },
  {
   "cell_type": "code",
   "execution_count": 0,
   "metadata": {
    "application/vnd.databricks.v1+cell": {
     "cellMetadata": {
      "byteLimit": 2048000,
      "implicitDf": true,
      "rowLimit": 10000
     },
     "inputWidgets": {},
     "nuid": "3a2f5c57-8e9e-4608-bbf3-ca99adf884c3",
     "showTitle": false,
     "title": ""
    }
   },
   "outputs": [
    {
     "output_type": "display_data",
     "data": {
      "text/html": [
       "<style scoped>\n",
       "  .table-result-container {\n",
       "    max-height: 300px;\n",
       "    overflow: auto;\n",
       "  }\n",
       "  table, th, td {\n",
       "    border: 1px solid black;\n",
       "    border-collapse: collapse;\n",
       "  }\n",
       "  th, td {\n",
       "    padding: 5px;\n",
       "  }\n",
       "  th {\n",
       "    text-align: left;\n",
       "  }\n",
       "</style><div class='table-result-container'><table class='table-result'><thead style='background-color: white'><tr><th>appid</th><th>name</th><th>release_date</th><th>english</th><th>developer</th><th>publisher</th><th>platforms</th><th>required_age</th><th>categories</th><th>genres</th><th>steamspy_tags</th><th>achievements</th><th>positive_ratings</th><th>negative_ratings</th><th>average_playtime</th><th>median_playtime</th><th>owners</th><th>price</th></tr></thead><tbody><tr><td>10</td><td>Counter-Strike</td><td>2000-11-01</td><td>1</td><td>Valve</td><td>Valve</td><td>windows;mac;linux</td><td>0</td><td>Multi-player;Online Multi-Player;Local Multi-Player;Valve Anti-Cheat enabled</td><td>Action</td><td>Action;FPS;Multiplayer</td><td>0</td><td>124534</td><td>3339</td><td>17612</td><td>317</td><td>10000000-20000000</td><td>7.19</td></tr><tr><td>20</td><td>Team Fortress Classic</td><td>1999-04-01</td><td>1</td><td>Valve</td><td>Valve</td><td>windows;mac;linux</td><td>0</td><td>Multi-player;Online Multi-Player;Local Multi-Player;Valve Anti-Cheat enabled</td><td>Action</td><td>Action;FPS;Multiplayer</td><td>0</td><td>3318</td><td>633</td><td>277</td><td>62</td><td>5000000-10000000</td><td>3.99</td></tr><tr><td>30</td><td>Day of Defeat</td><td>2003-05-01</td><td>1</td><td>Valve</td><td>Valve</td><td>windows;mac;linux</td><td>0</td><td>Multi-player;Valve Anti-Cheat enabled</td><td>Action</td><td>FPS;World War II;Multiplayer</td><td>0</td><td>3416</td><td>398</td><td>187</td><td>34</td><td>5000000-10000000</td><td>3.99</td></tr></tbody></table></div>"
      ]
     },
     "metadata": {
      "application/vnd.databricks.v1+output": {
       "addedWidgets": {},
       "aggData": [],
       "aggError": "",
       "aggOverflow": false,
       "aggSchema": [],
       "aggSeriesLimitReached": false,
       "aggType": "",
       "arguments": {},
       "columnCustomDisplayInfos": {},
       "data": [
        [
         10,
         "Counter-Strike",
         "2000-11-01",
         1,
         "Valve",
         "Valve",
         "windows;mac;linux",
         0,
         "Multi-player;Online Multi-Player;Local Multi-Player;Valve Anti-Cheat enabled",
         "Action",
         "Action;FPS;Multiplayer",
         0,
         124534,
         3339,
         17612,
         317,
         "10000000-20000000",
         7.19
        ],
        [
         20,
         "Team Fortress Classic",
         "1999-04-01",
         1,
         "Valve",
         "Valve",
         "windows;mac;linux",
         0,
         "Multi-player;Online Multi-Player;Local Multi-Player;Valve Anti-Cheat enabled",
         "Action",
         "Action;FPS;Multiplayer",
         0,
         3318,
         633,
         277,
         62,
         "5000000-10000000",
         3.99
        ],
        [
         30,
         "Day of Defeat",
         "2003-05-01",
         1,
         "Valve",
         "Valve",
         "windows;mac;linux",
         0,
         "Multi-player;Valve Anti-Cheat enabled",
         "Action",
         "FPS;World War II;Multiplayer",
         0,
         3416,
         398,
         187,
         34,
         "5000000-10000000",
         3.99
        ]
       ],
       "datasetInfos": [],
       "dbfsResultPath": null,
       "isJsonSchema": true,
       "metadata": {},
       "overflow": false,
       "plotOptions": {
        "customPlotOptions": {},
        "displayType": "table",
        "pivotAggregation": null,
        "pivotColumns": null,
        "xColumns": null,
        "yColumns": null
       },
       "removedWidgets": [],
       "schema": [
        {
         "metadata": "{}",
         "name": "appid",
         "type": "\"long\""
        },
        {
         "metadata": "{}",
         "name": "name",
         "type": "\"string\""
        },
        {
         "metadata": "{\"__detected_date_formats\":\"yyyy-M-d\"}",
         "name": "release_date",
         "type": "\"date\""
        },
        {
         "metadata": "{}",
         "name": "english",
         "type": "\"long\""
        },
        {
         "metadata": "{}",
         "name": "developer",
         "type": "\"string\""
        },
        {
         "metadata": "{}",
         "name": "publisher",
         "type": "\"string\""
        },
        {
         "metadata": "{}",
         "name": "platforms",
         "type": "\"string\""
        },
        {
         "metadata": "{}",
         "name": "required_age",
         "type": "\"long\""
        },
        {
         "metadata": "{}",
         "name": "categories",
         "type": "\"string\""
        },
        {
         "metadata": "{}",
         "name": "genres",
         "type": "\"string\""
        },
        {
         "metadata": "{}",
         "name": "steamspy_tags",
         "type": "\"string\""
        },
        {
         "metadata": "{}",
         "name": "achievements",
         "type": "\"long\""
        },
        {
         "metadata": "{}",
         "name": "positive_ratings",
         "type": "\"long\""
        },
        {
         "metadata": "{}",
         "name": "negative_ratings",
         "type": "\"long\""
        },
        {
         "metadata": "{}",
         "name": "average_playtime",
         "type": "\"long\""
        },
        {
         "metadata": "{}",
         "name": "median_playtime",
         "type": "\"long\""
        },
        {
         "metadata": "{}",
         "name": "owners",
         "type": "\"string\""
        },
        {
         "metadata": "{}",
         "name": "price",
         "type": "\"double\""
        }
       ],
       "type": "table"
      }
     },
     "output_type": "display_data"
    }
   ],
   "source": [
    "%sql\n",
    "SELECT * FROM steam\n",
    "LIMIT 3"
   ]
  },
  {
   "cell_type": "markdown",
   "metadata": {
    "application/vnd.databricks.v1+cell": {
     "cellMetadata": {
      "byteLimit": 2048000,
      "rowLimit": 10000
     },
     "inputWidgets": {},
     "nuid": "d7bdb5b9-9920-4722-a668-83a32eb3e65b",
     "showTitle": false,
     "title": ""
    }
   },
   "source": [
    "Esta tabela possui as seguintes colunas:\n",
    "\n",
    "**appid**: Código unico de cada jogo.\\\n",
    "**name**: Nome do jogo.\\\n",
    "**release_date**: Data de quando o jogo foi lançado.\\\n",
    "**english**: Variavel booleana que indica se o jogo tem suporte para a lingua inglesa. São esperados valores 0 e 1.\\\n",
    "**developer**: A empresa que produziu o jogo.\\\n",
    "**publisher**: A empresa que publicou o jogo.\\\n",
    "**platforms**: Lista de sistemas operacionais suportados. São esperados nomes como windows, mac e linux.\\\n",
    "**required_age**: Idade minima exigida para jogar o jogo.São esperados valores de 0 a 18.\\\n",
    "**categories**: Lista de tags(categorias) do jogo.\\\n",
    "**genres**: Genero(categoria dominante) do jogo.\\\n",
    "**steamspy_tags**: Categorias do jogo definidas pelo steamspy.\\\n",
    "**achievements**: Numero de conquistas do jogo. O menor valor esperado é 0.\\\n",
    "**positive_ratings**: Numero de avaliações positivas. O menor valor esperado é 0\\\n",
    "**negative_ratings**: Numero de avaliações negativas. O menor valor esperado é 0\\\n",
    "**average_playtime**: Média de tempo de jogo dos usuarios. O menor valor esperado é 0\\\n",
    "**median_playtime**: Mediana do tempo dejogo dos usuarios. O menor valor esperado é 0\\\n",
    "**owners**: Quantas pessoas compraram o jogo. O menor valor esperado é 0\\\n",
    "**price**: Preço do jogo. O menor valor esperado é 0.\n",
    "\n",
    "\n",
    "\n"
   ]
  },
  {
   "cell_type": "code",
   "execution_count": 0,
   "metadata": {
    "application/vnd.databricks.v1+cell": {
     "cellMetadata": {
      "byteLimit": 2048000,
      "implicitDf": true,
      "rowLimit": 10000
     },
     "inputWidgets": {},
     "nuid": "1c77c67c-5145-4afb-b671-3dc41f6729d5",
     "showTitle": false,
     "title": ""
    }
   },
   "outputs": [
    {
     "output_type": "display_data",
     "data": {
      "text/html": [
       "<style scoped>\n",
       "  .table-result-container {\n",
       "    max-height: 300px;\n",
       "    overflow: auto;\n",
       "  }\n",
       "  table, th, td {\n",
       "    border: 1px solid black;\n",
       "    border-collapse: collapse;\n",
       "  }\n",
       "  th, td {\n",
       "    padding: 5px;\n",
       "  }\n",
       "  th {\n",
       "    text-align: left;\n",
       "  }\n",
       "</style><div class='table-result-container'><table class='table-result'><thead style='background-color: white'><tr><th>steam_appid</th><th>detailed_description</th><th>about_the_game</th><th>short_description</th></tr></thead><tbody><tr><td>10</td><td>Play the world's number 1 online action game. Engage in an incredibly realistic brand of terrorist warfare in this wildly popular team-based game. Ally with teammates to complete strategic missions. Take out enemy sites. Rescue hostages. Your role affects your team's success. Your team's success affects your role.</td><td>Play the world's number 1 online action game. Engage in an incredibly realistic brand of terrorist warfare in this wildly popular team-based game. Ally with teammates to complete strategic missions. Take out enemy sites. Rescue hostages. Your role affects your team's success. Your team's success affects your role.</td><td>Play the world's number 1 online action game. Engage in an incredibly realistic brand of terrorist warfare in this wildly popular team-based game. Ally with teammates to complete strategic missions. Take out enemy sites. Rescue hostages. Your role affects your team's success. Your team's success affects your role.</td></tr><tr><td>20</td><td>One of the most popular online action games of all time, Team Fortress Classic features over nine character classes -- from Medic to Spy to Demolition Man -- enlisted in a unique style of online team warfare. Each character class possesses unique weapons, items, and abilities, as teams compete online in a variety of game play modes.</td><td>One of the most popular online action games of all time, Team Fortress Classic features over nine character classes -- from Medic to Spy to Demolition Man -- enlisted in a unique style of online team warfare. Each character class possesses unique weapons, items, and abilities, as teams compete online in a variety of game play modes.</td><td>One of the most popular online action games of all time, Team Fortress Classic features over nine character classes -- from Medic to Spy to Demolition Man -- enlisted in a unique style of online team warfare. Each character class possesses unique weapons, items, and abilities, as teams compete online in a variety of game play modes.</td></tr><tr><td>30</td><td>Enlist in an intense brand of Axis vs. Allied teamplay set in the WWII European Theatre of Operations. Players assume the role of light/assault/heavy infantry, sniper or machine-gunner class, each with a unique arsenal of historical weaponry at their disposal. Missions are based on key historical operations. And, as war rages, players must work together with their squad to accomplish a variety of mission-specific objectives.</td><td>Enlist in an intense brand of Axis vs. Allied teamplay set in the WWII European Theatre of Operations. Players assume the role of light/assault/heavy infantry, sniper or machine-gunner class, each with a unique arsenal of historical weaponry at their disposal. Missions are based on key historical operations. And, as war rages, players must work together with their squad to accomplish a variety of mission-specific objectives.</td><td>Enlist in an intense brand of Axis vs. Allied teamplay set in the WWII European Theatre of Operations. Players assume the role of light/assault/heavy infantry, sniper or machine-gunner class, each with a unique arsenal of historical weaponry at their disposal. Missions are based on key historical operations.</td></tr></tbody></table></div>"
      ]
     },
     "metadata": {
      "application/vnd.databricks.v1+output": {
       "addedWidgets": {},
       "aggData": [],
       "aggError": "",
       "aggOverflow": false,
       "aggSchema": [],
       "aggSeriesLimitReached": false,
       "aggType": "",
       "arguments": {},
       "columnCustomDisplayInfos": {},
       "data": [
        [
         10,
         "Play the world's number 1 online action game. Engage in an incredibly realistic brand of terrorist warfare in this wildly popular team-based game. Ally with teammates to complete strategic missions. Take out enemy sites. Rescue hostages. Your role affects your team's success. Your team's success affects your role.",
         "Play the world's number 1 online action game. Engage in an incredibly realistic brand of terrorist warfare in this wildly popular team-based game. Ally with teammates to complete strategic missions. Take out enemy sites. Rescue hostages. Your role affects your team's success. Your team's success affects your role.",
         "Play the world's number 1 online action game. Engage in an incredibly realistic brand of terrorist warfare in this wildly popular team-based game. Ally with teammates to complete strategic missions. Take out enemy sites. Rescue hostages. Your role affects your team's success. Your team's success affects your role."
        ],
        [
         20,
         "One of the most popular online action games of all time, Team Fortress Classic features over nine character classes -- from Medic to Spy to Demolition Man -- enlisted in a unique style of online team warfare. Each character class possesses unique weapons, items, and abilities, as teams compete online in a variety of game play modes.",
         "One of the most popular online action games of all time, Team Fortress Classic features over nine character classes -- from Medic to Spy to Demolition Man -- enlisted in a unique style of online team warfare. Each character class possesses unique weapons, items, and abilities, as teams compete online in a variety of game play modes.",
         "One of the most popular online action games of all time, Team Fortress Classic features over nine character classes -- from Medic to Spy to Demolition Man -- enlisted in a unique style of online team warfare. Each character class possesses unique weapons, items, and abilities, as teams compete online in a variety of game play modes."
        ],
        [
         30,
         "Enlist in an intense brand of Axis vs. Allied teamplay set in the WWII European Theatre of Operations. Players assume the role of light/assault/heavy infantry, sniper or machine-gunner class, each with a unique arsenal of historical weaponry at their disposal. Missions are based on key historical operations. And, as war rages, players must work together with their squad to accomplish a variety of mission-specific objectives.",
         "Enlist in an intense brand of Axis vs. Allied teamplay set in the WWII European Theatre of Operations. Players assume the role of light/assault/heavy infantry, sniper or machine-gunner class, each with a unique arsenal of historical weaponry at their disposal. Missions are based on key historical operations. And, as war rages, players must work together with their squad to accomplish a variety of mission-specific objectives.",
         "Enlist in an intense brand of Axis vs. Allied teamplay set in the WWII European Theatre of Operations. Players assume the role of light/assault/heavy infantry, sniper or machine-gunner class, each with a unique arsenal of historical weaponry at their disposal. Missions are based on key historical operations."
        ]
       ],
       "datasetInfos": [],
       "dbfsResultPath": null,
       "isJsonSchema": true,
       "metadata": {},
       "overflow": false,
       "plotOptions": {
        "customPlotOptions": {},
        "displayType": "table",
        "pivotAggregation": null,
        "pivotColumns": null,
        "xColumns": null,
        "yColumns": null
       },
       "removedWidgets": [],
       "schema": [
        {
         "metadata": "{}",
         "name": "steam_appid",
         "type": "\"long\""
        },
        {
         "metadata": "{}",
         "name": "detailed_description",
         "type": "\"string\""
        },
        {
         "metadata": "{}",
         "name": "about_the_game",
         "type": "\"string\""
        },
        {
         "metadata": "{}",
         "name": "short_description",
         "type": "\"string\""
        }
       ],
       "type": "table"
      }
     },
     "output_type": "display_data"
    }
   ],
   "source": [
    "%sql\n",
    "SELECT * FROM steam_description_data\n",
    "LIMIT 3"
   ]
  },
  {
   "cell_type": "markdown",
   "metadata": {
    "application/vnd.databricks.v1+cell": {
     "cellMetadata": {
      "byteLimit": 2048000,
      "rowLimit": 10000
     },
     "inputWidgets": {},
     "nuid": "901f11c1-84cd-44c1-8b8a-3716b0838c45",
     "showTitle": false,
     "title": ""
    }
   },
   "source": [
    "Esta tabela possui as seguintes colunas:\n",
    "\n",
    "**steam_appid**: Código unico de cada jogo.\\\n",
    "**detailed_description**: Descrição detalhada do jogo. São esperados dados em formato de texto.\\\n",
    "**about_the_game**: Descrição sobre o que se trata o jogo. São esperados dados em formato de texto.\\\n",
    "**short_description**: Descrição reduzida do jogo. São esperados dados em formato de texto.\n"
   ]
  },
  {
   "cell_type": "code",
   "execution_count": 0,
   "metadata": {
    "application/vnd.databricks.v1+cell": {
     "cellMetadata": {
      "byteLimit": 2048000,
      "implicitDf": true,
      "rowLimit": 10000
     },
     "inputWidgets": {},
     "nuid": "670347d4-b79b-458c-8ac2-e993761bb195",
     "showTitle": false,
     "title": ""
    }
   },
   "outputs": [
    {
     "output_type": "display_data",
     "data": {
      "text/html": [
       "<style scoped>\n",
       "  .table-result-container {\n",
       "    max-height: 300px;\n",
       "    overflow: auto;\n",
       "  }\n",
       "  table, th, td {\n",
       "    border: 1px solid black;\n",
       "    border-collapse: collapse;\n",
       "  }\n",
       "  th, td {\n",
       "    padding: 5px;\n",
       "  }\n",
       "  th {\n",
       "    text-align: left;\n",
       "  }\n",
       "</style><div class='table-result-container'><table class='table-result'><thead style='background-color: white'><tr><th>steam_appid</th><th>pc_requirements</th><th>mac_requirements</th><th>linux_requirements</th><th>minimum</th><th>recommended</th></tr></thead><tbody><tr><td>10</td><td>{'minimum': '\\r\\n\\t\\t\\t<p><strong>Minimum:</strong> 500 mhz processor, 96mb ram, 16mb video card, Windows XP, Mouse, Keyboard, Internet Connection<br /></p>\\r\\n\\t\\t\\t<p><strong>Recommended:</strong> 800 mhz processor, 128mb ram, 32mb+ video card, Windows XP, Mouse, Keyboard, Internet Connection<br /></p>\\r\\n\\t\\t\\t'}</td><td>{'minimum': 'Minimum: OS X  Snow Leopard 10.6.3, 1GB RAM, 4GB Hard Drive Space,NVIDIA GeForce 8 or higher, ATI X1600 or higher, or Intel HD 3000 or higher Mouse, Keyboard, Internet Connection'}</td><td>{'minimum': 'Minimum: Linux Ubuntu 12.04, Dual-core from Intel or AMD at 2.8 GHz, 1GB Memory, nVidia GeForce 8600/9600GT, ATI/AMD Radeaon HD2600/3600 (Graphic Drivers: nVidia 310, AMD 12.11), OpenGL 2.1, 4GB Hard Drive Space, OpenAL Compatible Sound Card'}</td><td>500 mhz processor, 96mb ram, 16mb video card, Windows XP, Mouse, Keyboard, Internet Connection Recommended: 800 mhz processor, 128mb ram, 32mb+ video card, Windows XP, Mouse, Keyboard, Internet Connection</td><td>null</td></tr><tr><td>20</td><td>{'minimum': '\\r\\n\\t\\t\\t<p><strong>Minimum:</strong> 500 mhz processor, 96mb ram, 16mb video card, Windows XP, Mouse, Keyboard, Internet Connection<br /></p>\\r\\n\\t\\t\\t<p><strong>Recommended:</strong> 800 mhz processor, 128mb ram, 32mb+ video card, Windows XP, Mouse, Keyboard, Internet Connection<br /></p>\\r\\n\\t\\t\\t'}</td><td>{'minimum': 'Minimum: OS X  Snow Leopard 10.6.3, 1GB RAM, 4GB Hard Drive Space,NVIDIA GeForce 8 or higher, ATI X1600 or higher, or Intel HD 3000 or higher Mouse, Keyboard, Internet Connection'}</td><td>{'minimum': 'Minimum: Linux Ubuntu 12.04, Dual-core from Intel or AMD at 2.8 GHz, 1GB Memory, nVidia GeForce 8600/9600GT, ATI/AMD Radeaon HD2600/3600 (Graphic Drivers: nVidia 310, AMD 12.11), OpenGL 2.1, 4GB Hard Drive Space, OpenAL Compatible Sound Card'}</td><td>500 mhz processor, 96mb ram, 16mb video card, Windows XP, Mouse, Keyboard, Internet Connection Recommended: 800 mhz processor, 128mb ram, 32mb+ video card, Windows XP, Mouse, Keyboard, Internet Connection</td><td>null</td></tr><tr><td>30</td><td>{'minimum': '\\r\\n\\t\\t\\t<p><strong>Minimum:</strong> 500 mhz processor, 96mb ram, 16mb video card, Windows XP, Mouse, Keyboard, Internet Connection<br /></p>\\r\\n\\t\\t\\t<p><strong>Recommended:</strong> 800 mhz processor, 128mb ram, 32mb+ video card, Windows XP, Mouse, Keyboard, Internet Connection<br /></p>\\r\\n\\t\\t\\t'}</td><td>{'minimum': 'Minimum: OS X  Snow Leopard 10.6.3, 1GB RAM, 4GB Hard Drive Space,NVIDIA GeForce 8 or higher, ATI X1600 or higher, or Intel HD 3000 or higher Mouse, Keyboard, Internet Connection'}</td><td>{'minimum': 'Minimum: Linux Ubuntu 12.04, Dual-core from Intel or AMD at 2.8 GHz, 1GB Memory, nVidia GeForce 8600/9600GT, ATI/AMD Radeaon HD2600/3600 (Graphic Drivers: nVidia 310, AMD 12.11), OpenGL 2.1, 4GB Hard Drive Space, OpenAL Compatible Sound Card'}</td><td>500 mhz processor, 96mb ram, 16mb video card, Windows XP, Mouse, Keyboard, Internet Connection Recommended: 800 mhz processor, 128mb ram, 32mb+ video card, Windows XP, Mouse, Keyboard, Internet Connection</td><td>null</td></tr></tbody></table></div>"
      ]
     },
     "metadata": {
      "application/vnd.databricks.v1+output": {
       "addedWidgets": {},
       "aggData": [],
       "aggError": "",
       "aggOverflow": false,
       "aggSchema": [],
       "aggSeriesLimitReached": false,
       "aggType": "",
       "arguments": {},
       "columnCustomDisplayInfos": {},
       "data": [
        [
         10,
         "{'minimum': '\\r\\n\\t\\t\\t<p><strong>Minimum:</strong> 500 mhz processor, 96mb ram, 16mb video card, Windows XP, Mouse, Keyboard, Internet Connection<br /></p>\\r\\n\\t\\t\\t<p><strong>Recommended:</strong> 800 mhz processor, 128mb ram, 32mb+ video card, Windows XP, Mouse, Keyboard, Internet Connection<br /></p>\\r\\n\\t\\t\\t'}",
         "{'minimum': 'Minimum: OS X  Snow Leopard 10.6.3, 1GB RAM, 4GB Hard Drive Space,NVIDIA GeForce 8 or higher, ATI X1600 or higher, or Intel HD 3000 or higher Mouse, Keyboard, Internet Connection'}",
         "{'minimum': 'Minimum: Linux Ubuntu 12.04, Dual-core from Intel or AMD at 2.8 GHz, 1GB Memory, nVidia GeForce 8600/9600GT, ATI/AMD Radeaon HD2600/3600 (Graphic Drivers: nVidia 310, AMD 12.11), OpenGL 2.1, 4GB Hard Drive Space, OpenAL Compatible Sound Card'}",
         "500 mhz processor, 96mb ram, 16mb video card, Windows XP, Mouse, Keyboard, Internet Connection Recommended: 800 mhz processor, 128mb ram, 32mb+ video card, Windows XP, Mouse, Keyboard, Internet Connection",
         null
        ],
        [
         20,
         "{'minimum': '\\r\\n\\t\\t\\t<p><strong>Minimum:</strong> 500 mhz processor, 96mb ram, 16mb video card, Windows XP, Mouse, Keyboard, Internet Connection<br /></p>\\r\\n\\t\\t\\t<p><strong>Recommended:</strong> 800 mhz processor, 128mb ram, 32mb+ video card, Windows XP, Mouse, Keyboard, Internet Connection<br /></p>\\r\\n\\t\\t\\t'}",
         "{'minimum': 'Minimum: OS X  Snow Leopard 10.6.3, 1GB RAM, 4GB Hard Drive Space,NVIDIA GeForce 8 or higher, ATI X1600 or higher, or Intel HD 3000 or higher Mouse, Keyboard, Internet Connection'}",
         "{'minimum': 'Minimum: Linux Ubuntu 12.04, Dual-core from Intel or AMD at 2.8 GHz, 1GB Memory, nVidia GeForce 8600/9600GT, ATI/AMD Radeaon HD2600/3600 (Graphic Drivers: nVidia 310, AMD 12.11), OpenGL 2.1, 4GB Hard Drive Space, OpenAL Compatible Sound Card'}",
         "500 mhz processor, 96mb ram, 16mb video card, Windows XP, Mouse, Keyboard, Internet Connection Recommended: 800 mhz processor, 128mb ram, 32mb+ video card, Windows XP, Mouse, Keyboard, Internet Connection",
         null
        ],
        [
         30,
         "{'minimum': '\\r\\n\\t\\t\\t<p><strong>Minimum:</strong> 500 mhz processor, 96mb ram, 16mb video card, Windows XP, Mouse, Keyboard, Internet Connection<br /></p>\\r\\n\\t\\t\\t<p><strong>Recommended:</strong> 800 mhz processor, 128mb ram, 32mb+ video card, Windows XP, Mouse, Keyboard, Internet Connection<br /></p>\\r\\n\\t\\t\\t'}",
         "{'minimum': 'Minimum: OS X  Snow Leopard 10.6.3, 1GB RAM, 4GB Hard Drive Space,NVIDIA GeForce 8 or higher, ATI X1600 or higher, or Intel HD 3000 or higher Mouse, Keyboard, Internet Connection'}",
         "{'minimum': 'Minimum: Linux Ubuntu 12.04, Dual-core from Intel or AMD at 2.8 GHz, 1GB Memory, nVidia GeForce 8600/9600GT, ATI/AMD Radeaon HD2600/3600 (Graphic Drivers: nVidia 310, AMD 12.11), OpenGL 2.1, 4GB Hard Drive Space, OpenAL Compatible Sound Card'}",
         "500 mhz processor, 96mb ram, 16mb video card, Windows XP, Mouse, Keyboard, Internet Connection Recommended: 800 mhz processor, 128mb ram, 32mb+ video card, Windows XP, Mouse, Keyboard, Internet Connection",
         null
        ]
       ],
       "datasetInfos": [],
       "dbfsResultPath": null,
       "isJsonSchema": true,
       "metadata": {},
       "overflow": false,
       "plotOptions": {
        "customPlotOptions": {},
        "displayType": "table",
        "pivotAggregation": null,
        "pivotColumns": null,
        "xColumns": null,
        "yColumns": null
       },
       "removedWidgets": [],
       "schema": [
        {
         "metadata": "{}",
         "name": "steam_appid",
         "type": "\"long\""
        },
        {
         "metadata": "{}",
         "name": "pc_requirements",
         "type": "\"string\""
        },
        {
         "metadata": "{}",
         "name": "mac_requirements",
         "type": "\"string\""
        },
        {
         "metadata": "{}",
         "name": "linux_requirements",
         "type": "\"string\""
        },
        {
         "metadata": "{}",
         "name": "minimum",
         "type": "\"string\""
        },
        {
         "metadata": "{}",
         "name": "recommended",
         "type": "\"string\""
        }
       ],
       "type": "table"
      }
     },
     "output_type": "display_data"
    }
   ],
   "source": [
    "%sql\n",
    "SELECT * FROM steam_requirements_data\n",
    "LIMIT 3"
   ]
  },
  {
   "cell_type": "markdown",
   "metadata": {
    "application/vnd.databricks.v1+cell": {
     "cellMetadata": {
      "byteLimit": 2048000,
      "rowLimit": 10000
     },
     "inputWidgets": {},
     "nuid": "114daedf-0189-4677-82e0-5264e1658aa5",
     "showTitle": false,
     "title": ""
    }
   },
   "source": [
    "Esta tabela possui as seguintes colunas:\n",
    "\n",
    "**steam_appid**: Código unico de cada jogo.\\\n",
    "**pc_requirements**: Descrição em formato json sobre os requerimentos minimos e recomendados do jogo no windows. São esperados dados em formato json.\\\n",
    "**mac_requirements**: Descrição em formato json sobre os requerimentos minimos e recomendados do jogo no mac. São esperados dados em formato json.\\\n",
    "**linux_requirements**: Descrição em formato json sobre os requerimentos minimos e recomendados do jogo no linux. São esperados dados em formato json.\\\n",
    "**minimum**: Descrição em formato de texto sobre os requerimentos minimos do jogo no windows. São esperados dados em formato de texto.\\\n",
    "**recommended**: Descrição em formato de texto sobre os requerimentos recomendados do jogo no windows. São esperados dados em formato de texto.\n"
   ]
  },
  {
   "cell_type": "markdown",
   "metadata": {
    "application/vnd.databricks.v1+cell": {
     "cellMetadata": {
      "byteLimit": 2048000,
      "rowLimit": 10000
     },
     "inputWidgets": {},
     "nuid": "dba72c18-66f7-40c9-b9f7-9c72e6f63656",
     "showTitle": false,
     "title": ""
    }
   },
   "source": [
    "Para compor o banco de dados utilizado nas análises, foi feito uma junção de todas as tabelas, utilizando o código unico de cada jogo para isso. O processo de criação da tabela final está descrito na sessão \"Carga\", a seguir."
   ]
  },
  {
   "cell_type": "markdown",
   "metadata": {
    "application/vnd.databricks.v1+cell": {
     "cellMetadata": {
      "byteLimit": 2048000,
      "rowLimit": 10000
     },
     "inputWidgets": {},
     "nuid": "36b6759a-f5ed-42bb-8033-ae11c52f6b93",
     "showTitle": false,
     "title": ""
    }
   },
   "source": [
    "## 2.4 Carga\n",
    "\n",
    "Nesta fase, executamos os processos de Extração, Transformação e Carga (ETL) necessários para criar a tabela final no formato plano (flat). Inicialmente, os dados foram inseridos no sistema de arquivos distribuídos (DBFS) do Databricks e, em seguida, processados no pipeline apresentado abaixo. Ao final do processo, a tabela é novamente convertida para um formato compatível com o Spark e recarregada no banco de dados para a realização das análises por meio de consultas SQL.\n",
    "\n",
    "O processo de ETL envolveu as seguintes etapas:\n",
    "\n",
    "Extração dos Dados: Os dados foram obtidos a partir do DBFS do Databricks, onde foram previamente armazenados após o download do Kaggle.\n",
    "\n",
    "Transformação dos Dados: Nesta etapa, aplicamos as transformações necessárias para criar a estrutura de dados desejada no formato plano (flat), garantindo que os dados estejam prontos para análise.\n",
    "\n",
    "Carga dos Dados: Após a transformação, os dados foram carregados novamente no ambiente do Databricks, em um formato compatível com o Spark, permitindo a realização de análises avançadas por meio de SQL."
   ]
  },
  {
   "cell_type": "code",
   "execution_count": 0,
   "metadata": {
    "application/vnd.databricks.v1+cell": {
     "cellMetadata": {
      "byteLimit": 2048000,
      "rowLimit": 10000
     },
     "inputWidgets": {},
     "nuid": "31964106-5432-47ee-84a6-0d7073c08f0c",
     "showTitle": false,
     "title": ""
    }
   },
   "outputs": [
    {
     "output_type": "display_data",
     "data": {
      "application/vnd.databricks.v1+bamboolib_hint": "{\"pd.DataFrames\": [], \"version\": \"0.0.1\"}",
      "text/plain": []
     },
     "metadata": {},
     "output_type": "display_data"
    }
   ],
   "source": [
    "from pyspark.sql import SparkSession  # Importa a biblioteca PySpark para criar uma sessão Spark.\n",
    "import pandas as pd  # Importa a biblioteca Pandas para manipulação de dados em Python.\n",
    "\n",
    "# Criação da sessão Spark\n",
    "spark = SparkSession.builder.enableHiveSupport().getOrCreate()\n",
    "\n",
    "# Definição dos caminhos dos arquivos no sistema de arquivos distribuído.\n",
    "arquivo_steam = 'dbfs:/user/hive/warehouse/steam'\n",
    "arquivo_description = 'dbfs:/user/hive/warehouse/steam_description_data'\n",
    "arquivo_requirements = 'dbfs:/user/hive/warehouse/steam_requirements_data'\n",
    "\n",
    "# Leitura dos dados para DataFrames Spark.\n",
    "steam = spark.read.load(arquivo_steam)\n",
    "description = spark.read.load(arquivo_description)\n",
    "requirements = spark.read.load(arquivo_requirements)\n",
    "\n",
    "# Conversão dos DataFrames Spark em DataFrames Pandas.\n",
    "steam = steam.toPandas()\n",
    "description = description.toPandas()\n",
    "requirements = requirements.toPandas()"
   ]
  },
  {
   "cell_type": "code",
   "execution_count": 0,
   "metadata": {
    "application/vnd.databricks.v1+cell": {
     "cellMetadata": {
      "byteLimit": 2048000,
      "rowLimit": 10000
     },
     "inputWidgets": {},
     "nuid": "e26432b5-24b8-4c88-961b-4dd2323ed2c8",
     "showTitle": false,
     "title": ""
    }
   },
   "outputs": [
    {
     "output_type": "display_data",
     "data": {
      "text/html": [
       "<div>\n",
       "<style scoped>\n",
       "    .dataframe tbody tr th:only-of-type {\n",
       "        vertical-align: middle;\n",
       "    }\n",
       "\n",
       "    .dataframe tbody tr th {\n",
       "        vertical-align: top;\n",
       "    }\n",
       "\n",
       "    .dataframe thead th {\n",
       "        text-align: right;\n",
       "    }\n",
       "</style>\n",
       "<table border=\"1\" class=\"dataframe\">\n",
       "  <thead>\n",
       "    <tr style=\"text-align: right;\">\n",
       "      <th></th>\n",
       "      <th>appid</th>\n",
       "      <th>name</th>\n",
       "      <th>release_date</th>\n",
       "      <th>english</th>\n",
       "      <th>developer</th>\n",
       "      <th>publisher</th>\n",
       "      <th>platforms</th>\n",
       "      <th>required_age</th>\n",
       "      <th>categories</th>\n",
       "      <th>genres</th>\n",
       "      <th>...</th>\n",
       "      <th>steam_appid_x</th>\n",
       "      <th>detailed_description</th>\n",
       "      <th>about_the_game</th>\n",
       "      <th>short_description</th>\n",
       "      <th>steam_appid_y</th>\n",
       "      <th>pc_requirements</th>\n",
       "      <th>mac_requirements</th>\n",
       "      <th>linux_requirements</th>\n",
       "      <th>minimum</th>\n",
       "      <th>recommended</th>\n",
       "    </tr>\n",
       "  </thead>\n",
       "  <tbody>\n",
       "    <tr>\n",
       "      <th>0</th>\n",
       "      <td>10</td>\n",
       "      <td>Counter-Strike</td>\n",
       "      <td>2000-11-01</td>\n",
       "      <td>1</td>\n",
       "      <td>Valve</td>\n",
       "      <td>Valve</td>\n",
       "      <td>windows;mac;linux</td>\n",
       "      <td>0</td>\n",
       "      <td>Multi-player;Online Multi-Player;Local Multi-P...</td>\n",
       "      <td>Action</td>\n",
       "      <td>...</td>\n",
       "      <td>10.0</td>\n",
       "      <td>Play the world's number 1 online action game. ...</td>\n",
       "      <td>Play the world's number 1 online action game. ...</td>\n",
       "      <td>Play the world's number 1 online action game. ...</td>\n",
       "      <td>10</td>\n",
       "      <td>{'minimum': '\\r\\n\\t\\t\\t&lt;p&gt;&lt;strong&gt;Minimum:&lt;/st...</td>\n",
       "      <td>{'minimum': 'Minimum: OS X  Snow Leopard 10.6....</td>\n",
       "      <td>{'minimum': 'Minimum: Linux Ubuntu 12.04, Dual...</td>\n",
       "      <td>500 mhz processor, 96mb ram, 16mb video card, ...</td>\n",
       "      <td>None</td>\n",
       "    </tr>\n",
       "    <tr>\n",
       "      <th>1</th>\n",
       "      <td>10</td>\n",
       "      <td>Counter-Strike</td>\n",
       "      <td>2000-11-01</td>\n",
       "      <td>1</td>\n",
       "      <td>Valve</td>\n",
       "      <td>Valve</td>\n",
       "      <td>windows;mac;linux</td>\n",
       "      <td>0</td>\n",
       "      <td>Multi-player;Online Multi-Player;Local Multi-P...</td>\n",
       "      <td>Action</td>\n",
       "      <td>...</td>\n",
       "      <td>10.0</td>\n",
       "      <td>000 levels of chaotic science fiction horror t...</td>\n",
       "      <td>in any order</td>\n",
       "      <td>from the dead easy beginning sectors to the c...</td>\n",
       "      <td>10</td>\n",
       "      <td>{'minimum': '\\r\\n\\t\\t\\t&lt;p&gt;&lt;strong&gt;Minimum:&lt;/st...</td>\n",
       "      <td>{'minimum': 'Minimum: OS X  Snow Leopard 10.6....</td>\n",
       "      <td>{'minimum': 'Minimum: Linux Ubuntu 12.04, Dual...</td>\n",
       "      <td>500 mhz processor, 96mb ram, 16mb video card, ...</td>\n",
       "      <td>None</td>\n",
       "    </tr>\n",
       "    <tr>\n",
       "      <th>2</th>\n",
       "      <td>10</td>\n",
       "      <td>Counter-Strike</td>\n",
       "      <td>2000-11-01</td>\n",
       "      <td>1</td>\n",
       "      <td>Valve</td>\n",
       "      <td>Valve</td>\n",
       "      <td>windows;mac;linux</td>\n",
       "      <td>0</td>\n",
       "      <td>Multi-player;Online Multi-Player;Local Multi-P...</td>\n",
       "      <td>Action</td>\n",
       "      <td>...</td>\n",
       "      <td>10.0</td>\n",
       "      <td>000 levels of chaotic science fiction horror t...</td>\n",
       "      <td>in any order</td>\n",
       "      <td>from the dead easy beginning sectors to the c...</td>\n",
       "      <td>10</td>\n",
       "      <td>{'minimum': '\\r\\n\\t\\t\\t&lt;p&gt;&lt;strong&gt;Minimum:&lt;/st...</td>\n",
       "      <td>{'minimum': 'Minimum: OS X  Snow Leopard 10.6....</td>\n",
       "      <td>{'minimum': 'Minimum: Linux Ubuntu 12.04, Dual...</td>\n",
       "      <td>500 mhz processor, 96mb ram, 16mb video card, ...</td>\n",
       "      <td>None</td>\n",
       "    </tr>\n",
       "    <tr>\n",
       "      <th>3</th>\n",
       "      <td>20</td>\n",
       "      <td>Team Fortress Classic</td>\n",
       "      <td>1999-04-01</td>\n",
       "      <td>1</td>\n",
       "      <td>Valve</td>\n",
       "      <td>Valve</td>\n",
       "      <td>windows;mac;linux</td>\n",
       "      <td>0</td>\n",
       "      <td>Multi-player;Online Multi-Player;Local Multi-P...</td>\n",
       "      <td>Action</td>\n",
       "      <td>...</td>\n",
       "      <td>20.0</td>\n",
       "      <td>One of the most popular online action games of...</td>\n",
       "      <td>One of the most popular online action games of...</td>\n",
       "      <td>One of the most popular online action games of...</td>\n",
       "      <td>20</td>\n",
       "      <td>{'minimum': '\\r\\n\\t\\t\\t&lt;p&gt;&lt;strong&gt;Minimum:&lt;/st...</td>\n",
       "      <td>{'minimum': 'Minimum: OS X  Snow Leopard 10.6....</td>\n",
       "      <td>{'minimum': 'Minimum: Linux Ubuntu 12.04, Dual...</td>\n",
       "      <td>500 mhz processor, 96mb ram, 16mb video card, ...</td>\n",
       "      <td>None</td>\n",
       "    </tr>\n",
       "    <tr>\n",
       "      <th>4</th>\n",
       "      <td>30</td>\n",
       "      <td>Day of Defeat</td>\n",
       "      <td>2003-05-01</td>\n",
       "      <td>1</td>\n",
       "      <td>Valve</td>\n",
       "      <td>Valve</td>\n",
       "      <td>windows;mac;linux</td>\n",
       "      <td>0</td>\n",
       "      <td>Multi-player;Valve Anti-Cheat enabled</td>\n",
       "      <td>Action</td>\n",
       "      <td>...</td>\n",
       "      <td>30.0</td>\n",
       "      <td>Enlist in an intense brand of Axis vs. Allied ...</td>\n",
       "      <td>Enlist in an intense brand of Axis vs. Allied ...</td>\n",
       "      <td>Enlist in an intense brand of Axis vs. Allied ...</td>\n",
       "      <td>30</td>\n",
       "      <td>{'minimum': '\\r\\n\\t\\t\\t&lt;p&gt;&lt;strong&gt;Minimum:&lt;/st...</td>\n",
       "      <td>{'minimum': 'Minimum: OS X  Snow Leopard 10.6....</td>\n",
       "      <td>{'minimum': 'Minimum: Linux Ubuntu 12.04, Dual...</td>\n",
       "      <td>500 mhz processor, 96mb ram, 16mb video card, ...</td>\n",
       "      <td>None</td>\n",
       "    </tr>\n",
       "  </tbody>\n",
       "</table>\n",
       "<p>5 rows × 28 columns</p>\n",
       "</div>"
      ]
     },
     "metadata": {
      "application/vnd.databricks.v1+output": {
       "addedWidgets": {},
       "arguments": {},
       "data": "<div>\n<style scoped>\n    .dataframe tbody tr th:only-of-type {\n        vertical-align: middle;\n    }\n\n    .dataframe tbody tr th {\n        vertical-align: top;\n    }\n\n    .dataframe thead th {\n        text-align: right;\n    }\n</style>\n<table border=\"1\" class=\"dataframe\">\n  <thead>\n    <tr style=\"text-align: right;\">\n      <th></th>\n      <th>appid</th>\n      <th>name</th>\n      <th>release_date</th>\n      <th>english</th>\n      <th>developer</th>\n      <th>publisher</th>\n      <th>platforms</th>\n      <th>required_age</th>\n      <th>categories</th>\n      <th>genres</th>\n      <th>...</th>\n      <th>steam_appid_x</th>\n      <th>detailed_description</th>\n      <th>about_the_game</th>\n      <th>short_description</th>\n      <th>steam_appid_y</th>\n      <th>pc_requirements</th>\n      <th>mac_requirements</th>\n      <th>linux_requirements</th>\n      <th>minimum</th>\n      <th>recommended</th>\n    </tr>\n  </thead>\n  <tbody>\n    <tr>\n      <th>0</th>\n      <td>10</td>\n      <td>Counter-Strike</td>\n      <td>2000-11-01</td>\n      <td>1</td>\n      <td>Valve</td>\n      <td>Valve</td>\n      <td>windows;mac;linux</td>\n      <td>0</td>\n      <td>Multi-player;Online Multi-Player;Local Multi-P...</td>\n      <td>Action</td>\n      <td>...</td>\n      <td>10.0</td>\n      <td>Play the world's number 1 online action game. ...</td>\n      <td>Play the world's number 1 online action game. ...</td>\n      <td>Play the world's number 1 online action game. ...</td>\n      <td>10</td>\n      <td>{'minimum': '\\r\\n\\t\\t\\t&lt;p&gt;&lt;strong&gt;Minimum:&lt;/st...</td>\n      <td>{'minimum': 'Minimum: OS X  Snow Leopard 10.6....</td>\n      <td>{'minimum': 'Minimum: Linux Ubuntu 12.04, Dual...</td>\n      <td>500 mhz processor, 96mb ram, 16mb video card, ...</td>\n      <td>None</td>\n    </tr>\n    <tr>\n      <th>1</th>\n      <td>10</td>\n      <td>Counter-Strike</td>\n      <td>2000-11-01</td>\n      <td>1</td>\n      <td>Valve</td>\n      <td>Valve</td>\n      <td>windows;mac;linux</td>\n      <td>0</td>\n      <td>Multi-player;Online Multi-Player;Local Multi-P...</td>\n      <td>Action</td>\n      <td>...</td>\n      <td>10.0</td>\n      <td>000 levels of chaotic science fiction horror t...</td>\n      <td>in any order</td>\n      <td>from the dead easy beginning sectors to the c...</td>\n      <td>10</td>\n      <td>{'minimum': '\\r\\n\\t\\t\\t&lt;p&gt;&lt;strong&gt;Minimum:&lt;/st...</td>\n      <td>{'minimum': 'Minimum: OS X  Snow Leopard 10.6....</td>\n      <td>{'minimum': 'Minimum: Linux Ubuntu 12.04, Dual...</td>\n      <td>500 mhz processor, 96mb ram, 16mb video card, ...</td>\n      <td>None</td>\n    </tr>\n    <tr>\n      <th>2</th>\n      <td>10</td>\n      <td>Counter-Strike</td>\n      <td>2000-11-01</td>\n      <td>1</td>\n      <td>Valve</td>\n      <td>Valve</td>\n      <td>windows;mac;linux</td>\n      <td>0</td>\n      <td>Multi-player;Online Multi-Player;Local Multi-P...</td>\n      <td>Action</td>\n      <td>...</td>\n      <td>10.0</td>\n      <td>000 levels of chaotic science fiction horror t...</td>\n      <td>in any order</td>\n      <td>from the dead easy beginning sectors to the c...</td>\n      <td>10</td>\n      <td>{'minimum': '\\r\\n\\t\\t\\t&lt;p&gt;&lt;strong&gt;Minimum:&lt;/st...</td>\n      <td>{'minimum': 'Minimum: OS X  Snow Leopard 10.6....</td>\n      <td>{'minimum': 'Minimum: Linux Ubuntu 12.04, Dual...</td>\n      <td>500 mhz processor, 96mb ram, 16mb video card, ...</td>\n      <td>None</td>\n    </tr>\n    <tr>\n      <th>3</th>\n      <td>20</td>\n      <td>Team Fortress Classic</td>\n      <td>1999-04-01</td>\n      <td>1</td>\n      <td>Valve</td>\n      <td>Valve</td>\n      <td>windows;mac;linux</td>\n      <td>0</td>\n      <td>Multi-player;Online Multi-Player;Local Multi-P...</td>\n      <td>Action</td>\n      <td>...</td>\n      <td>20.0</td>\n      <td>One of the most popular online action games of...</td>\n      <td>One of the most popular online action games of...</td>\n      <td>One of the most popular online action games of...</td>\n      <td>20</td>\n      <td>{'minimum': '\\r\\n\\t\\t\\t&lt;p&gt;&lt;strong&gt;Minimum:&lt;/st...</td>\n      <td>{'minimum': 'Minimum: OS X  Snow Leopard 10.6....</td>\n      <td>{'minimum': 'Minimum: Linux Ubuntu 12.04, Dual...</td>\n      <td>500 mhz processor, 96mb ram, 16mb video card, ...</td>\n      <td>None</td>\n    </tr>\n    <tr>\n      <th>4</th>\n      <td>30</td>\n      <td>Day of Defeat</td>\n      <td>2003-05-01</td>\n      <td>1</td>\n      <td>Valve</td>\n      <td>Valve</td>\n      <td>windows;mac;linux</td>\n      <td>0</td>\n      <td>Multi-player;Valve Anti-Cheat enabled</td>\n      <td>Action</td>\n      <td>...</td>\n      <td>30.0</td>\n      <td>Enlist in an intense brand of Axis vs. Allied ...</td>\n      <td>Enlist in an intense brand of Axis vs. Allied ...</td>\n      <td>Enlist in an intense brand of Axis vs. Allied ...</td>\n      <td>30</td>\n      <td>{'minimum': '\\r\\n\\t\\t\\t&lt;p&gt;&lt;strong&gt;Minimum:&lt;/st...</td>\n      <td>{'minimum': 'Minimum: OS X  Snow Leopard 10.6....</td>\n      <td>{'minimum': 'Minimum: Linux Ubuntu 12.04, Dual...</td>\n      <td>500 mhz processor, 96mb ram, 16mb video card, ...</td>\n      <td>None</td>\n    </tr>\n  </tbody>\n</table>\n<p>5 rows × 28 columns</p>\n</div>",
       "datasetInfos": [],
       "metadata": {},
       "removedWidgets": [],
       "textData": null,
       "type": "htmlSandbox"
      }
     },
     "output_type": "display_data"
    }
   ],
   "source": [
    "# União dos três datasets\n",
    "steam_all_data = pd.merge(steam, description, left_on='appid', right_on='steam_appid')\n",
    "steam_all_data = pd.merge(steam_all_data, requirements, left_on='appid', right_on='steam_appid')\n",
    "steam_all_data.head(5)"
   ]
  },
  {
   "cell_type": "code",
   "execution_count": 0,
   "metadata": {
    "application/vnd.databricks.v1+cell": {
     "cellMetadata": {
      "byteLimit": 2048000,
      "rowLimit": 10000
     },
     "inputWidgets": {},
     "nuid": "58ece824-8941-4276-a6f8-5b32721d8fef",
     "showTitle": false,
     "title": ""
    }
   },
   "outputs": [
    {
     "output_type": "display_data",
     "data": {
      "text/html": [
       "<div>\n",
       "<style scoped>\n",
       "    .dataframe tbody tr th:only-of-type {\n",
       "        vertical-align: middle;\n",
       "    }\n",
       "\n",
       "    .dataframe tbody tr th {\n",
       "        vertical-align: top;\n",
       "    }\n",
       "\n",
       "    .dataframe thead th {\n",
       "        text-align: right;\n",
       "    }\n",
       "</style>\n",
       "<table border=\"1\" class=\"dataframe\">\n",
       "  <thead>\n",
       "    <tr style=\"text-align: right;\">\n",
       "      <th></th>\n",
       "      <th>appid</th>\n",
       "      <th>name</th>\n",
       "      <th>release_date</th>\n",
       "      <th>developer</th>\n",
       "      <th>publisher</th>\n",
       "      <th>platforms</th>\n",
       "      <th>required_age</th>\n",
       "      <th>categories</th>\n",
       "      <th>genres</th>\n",
       "      <th>steamspy_tags</th>\n",
       "      <th>...</th>\n",
       "      <th>owners</th>\n",
       "      <th>price</th>\n",
       "      <th>detailed_description</th>\n",
       "      <th>about_the_game</th>\n",
       "      <th>short_description</th>\n",
       "      <th>pc_requirements</th>\n",
       "      <th>mac_requirements</th>\n",
       "      <th>linux_requirements</th>\n",
       "      <th>minimum</th>\n",
       "      <th>recommended</th>\n",
       "    </tr>\n",
       "  </thead>\n",
       "  <tbody>\n",
       "    <tr>\n",
       "      <th>0</th>\n",
       "      <td>10</td>\n",
       "      <td>Counter-Strike</td>\n",
       "      <td>2000-11-01</td>\n",
       "      <td>Valve</td>\n",
       "      <td>Valve</td>\n",
       "      <td>windows;mac;linux</td>\n",
       "      <td>0</td>\n",
       "      <td>Multi-player;Online Multi-Player;Local Multi-P...</td>\n",
       "      <td>Action</td>\n",
       "      <td>Action;FPS;Multiplayer</td>\n",
       "      <td>...</td>\n",
       "      <td>10000000-20000000</td>\n",
       "      <td>7.19</td>\n",
       "      <td>Play the world's number 1 online action game. ...</td>\n",
       "      <td>Play the world's number 1 online action game. ...</td>\n",
       "      <td>Play the world's number 1 online action game. ...</td>\n",
       "      <td>{'minimum': '\\r\\n\\t\\t\\t&lt;p&gt;&lt;strong&gt;Minimum:&lt;/st...</td>\n",
       "      <td>{'minimum': 'Minimum: OS X  Snow Leopard 10.6....</td>\n",
       "      <td>{'minimum': 'Minimum: Linux Ubuntu 12.04, Dual...</td>\n",
       "      <td>500 mhz processor, 96mb ram, 16mb video card, ...</td>\n",
       "      <td>None</td>\n",
       "    </tr>\n",
       "    <tr>\n",
       "      <th>1</th>\n",
       "      <td>10</td>\n",
       "      <td>Counter-Strike</td>\n",
       "      <td>2000-11-01</td>\n",
       "      <td>Valve</td>\n",
       "      <td>Valve</td>\n",
       "      <td>windows;mac;linux</td>\n",
       "      <td>0</td>\n",
       "      <td>Multi-player;Online Multi-Player;Local Multi-P...</td>\n",
       "      <td>Action</td>\n",
       "      <td>Action;FPS;Multiplayer</td>\n",
       "      <td>...</td>\n",
       "      <td>10000000-20000000</td>\n",
       "      <td>7.19</td>\n",
       "      <td>000 levels of chaotic science fiction horror t...</td>\n",
       "      <td>in any order</td>\n",
       "      <td>from the dead easy beginning sectors to the c...</td>\n",
       "      <td>{'minimum': '\\r\\n\\t\\t\\t&lt;p&gt;&lt;strong&gt;Minimum:&lt;/st...</td>\n",
       "      <td>{'minimum': 'Minimum: OS X  Snow Leopard 10.6....</td>\n",
       "      <td>{'minimum': 'Minimum: Linux Ubuntu 12.04, Dual...</td>\n",
       "      <td>500 mhz processor, 96mb ram, 16mb video card, ...</td>\n",
       "      <td>None</td>\n",
       "    </tr>\n",
       "    <tr>\n",
       "      <th>2</th>\n",
       "      <td>10</td>\n",
       "      <td>Counter-Strike</td>\n",
       "      <td>2000-11-01</td>\n",
       "      <td>Valve</td>\n",
       "      <td>Valve</td>\n",
       "      <td>windows;mac;linux</td>\n",
       "      <td>0</td>\n",
       "      <td>Multi-player;Online Multi-Player;Local Multi-P...</td>\n",
       "      <td>Action</td>\n",
       "      <td>Action;FPS;Multiplayer</td>\n",
       "      <td>...</td>\n",
       "      <td>10000000-20000000</td>\n",
       "      <td>7.19</td>\n",
       "      <td>000 levels of chaotic science fiction horror t...</td>\n",
       "      <td>in any order</td>\n",
       "      <td>from the dead easy beginning sectors to the c...</td>\n",
       "      <td>{'minimum': '\\r\\n\\t\\t\\t&lt;p&gt;&lt;strong&gt;Minimum:&lt;/st...</td>\n",
       "      <td>{'minimum': 'Minimum: OS X  Snow Leopard 10.6....</td>\n",
       "      <td>{'minimum': 'Minimum: Linux Ubuntu 12.04, Dual...</td>\n",
       "      <td>500 mhz processor, 96mb ram, 16mb video card, ...</td>\n",
       "      <td>None</td>\n",
       "    </tr>\n",
       "    <tr>\n",
       "      <th>3</th>\n",
       "      <td>20</td>\n",
       "      <td>Team Fortress Classic</td>\n",
       "      <td>1999-04-01</td>\n",
       "      <td>Valve</td>\n",
       "      <td>Valve</td>\n",
       "      <td>windows;mac;linux</td>\n",
       "      <td>0</td>\n",
       "      <td>Multi-player;Online Multi-Player;Local Multi-P...</td>\n",
       "      <td>Action</td>\n",
       "      <td>Action;FPS;Multiplayer</td>\n",
       "      <td>...</td>\n",
       "      <td>5000000-10000000</td>\n",
       "      <td>3.99</td>\n",
       "      <td>One of the most popular online action games of...</td>\n",
       "      <td>One of the most popular online action games of...</td>\n",
       "      <td>One of the most popular online action games of...</td>\n",
       "      <td>{'minimum': '\\r\\n\\t\\t\\t&lt;p&gt;&lt;strong&gt;Minimum:&lt;/st...</td>\n",
       "      <td>{'minimum': 'Minimum: OS X  Snow Leopard 10.6....</td>\n",
       "      <td>{'minimum': 'Minimum: Linux Ubuntu 12.04, Dual...</td>\n",
       "      <td>500 mhz processor, 96mb ram, 16mb video card, ...</td>\n",
       "      <td>None</td>\n",
       "    </tr>\n",
       "    <tr>\n",
       "      <th>4</th>\n",
       "      <td>30</td>\n",
       "      <td>Day of Defeat</td>\n",
       "      <td>2003-05-01</td>\n",
       "      <td>Valve</td>\n",
       "      <td>Valve</td>\n",
       "      <td>windows;mac;linux</td>\n",
       "      <td>0</td>\n",
       "      <td>Multi-player;Valve Anti-Cheat enabled</td>\n",
       "      <td>Action</td>\n",
       "      <td>FPS;World War II;Multiplayer</td>\n",
       "      <td>...</td>\n",
       "      <td>5000000-10000000</td>\n",
       "      <td>3.99</td>\n",
       "      <td>Enlist in an intense brand of Axis vs. Allied ...</td>\n",
       "      <td>Enlist in an intense brand of Axis vs. Allied ...</td>\n",
       "      <td>Enlist in an intense brand of Axis vs. Allied ...</td>\n",
       "      <td>{'minimum': '\\r\\n\\t\\t\\t&lt;p&gt;&lt;strong&gt;Minimum:&lt;/st...</td>\n",
       "      <td>{'minimum': 'Minimum: OS X  Snow Leopard 10.6....</td>\n",
       "      <td>{'minimum': 'Minimum: Linux Ubuntu 12.04, Dual...</td>\n",
       "      <td>500 mhz processor, 96mb ram, 16mb video card, ...</td>\n",
       "      <td>None</td>\n",
       "    </tr>\n",
       "  </tbody>\n",
       "</table>\n",
       "<p>5 rows × 25 columns</p>\n",
       "</div>"
      ]
     },
     "metadata": {
      "application/vnd.databricks.v1+output": {
       "addedWidgets": {},
       "arguments": {},
       "data": "<div>\n<style scoped>\n    .dataframe tbody tr th:only-of-type {\n        vertical-align: middle;\n    }\n\n    .dataframe tbody tr th {\n        vertical-align: top;\n    }\n\n    .dataframe thead th {\n        text-align: right;\n    }\n</style>\n<table border=\"1\" class=\"dataframe\">\n  <thead>\n    <tr style=\"text-align: right;\">\n      <th></th>\n      <th>appid</th>\n      <th>name</th>\n      <th>release_date</th>\n      <th>developer</th>\n      <th>publisher</th>\n      <th>platforms</th>\n      <th>required_age</th>\n      <th>categories</th>\n      <th>genres</th>\n      <th>steamspy_tags</th>\n      <th>...</th>\n      <th>owners</th>\n      <th>price</th>\n      <th>detailed_description</th>\n      <th>about_the_game</th>\n      <th>short_description</th>\n      <th>pc_requirements</th>\n      <th>mac_requirements</th>\n      <th>linux_requirements</th>\n      <th>minimum</th>\n      <th>recommended</th>\n    </tr>\n  </thead>\n  <tbody>\n    <tr>\n      <th>0</th>\n      <td>10</td>\n      <td>Counter-Strike</td>\n      <td>2000-11-01</td>\n      <td>Valve</td>\n      <td>Valve</td>\n      <td>windows;mac;linux</td>\n      <td>0</td>\n      <td>Multi-player;Online Multi-Player;Local Multi-P...</td>\n      <td>Action</td>\n      <td>Action;FPS;Multiplayer</td>\n      <td>...</td>\n      <td>10000000-20000000</td>\n      <td>7.19</td>\n      <td>Play the world's number 1 online action game. ...</td>\n      <td>Play the world's number 1 online action game. ...</td>\n      <td>Play the world's number 1 online action game. ...</td>\n      <td>{'minimum': '\\r\\n\\t\\t\\t&lt;p&gt;&lt;strong&gt;Minimum:&lt;/st...</td>\n      <td>{'minimum': 'Minimum: OS X  Snow Leopard 10.6....</td>\n      <td>{'minimum': 'Minimum: Linux Ubuntu 12.04, Dual...</td>\n      <td>500 mhz processor, 96mb ram, 16mb video card, ...</td>\n      <td>None</td>\n    </tr>\n    <tr>\n      <th>1</th>\n      <td>10</td>\n      <td>Counter-Strike</td>\n      <td>2000-11-01</td>\n      <td>Valve</td>\n      <td>Valve</td>\n      <td>windows;mac;linux</td>\n      <td>0</td>\n      <td>Multi-player;Online Multi-Player;Local Multi-P...</td>\n      <td>Action</td>\n      <td>Action;FPS;Multiplayer</td>\n      <td>...</td>\n      <td>10000000-20000000</td>\n      <td>7.19</td>\n      <td>000 levels of chaotic science fiction horror t...</td>\n      <td>in any order</td>\n      <td>from the dead easy beginning sectors to the c...</td>\n      <td>{'minimum': '\\r\\n\\t\\t\\t&lt;p&gt;&lt;strong&gt;Minimum:&lt;/st...</td>\n      <td>{'minimum': 'Minimum: OS X  Snow Leopard 10.6....</td>\n      <td>{'minimum': 'Minimum: Linux Ubuntu 12.04, Dual...</td>\n      <td>500 mhz processor, 96mb ram, 16mb video card, ...</td>\n      <td>None</td>\n    </tr>\n    <tr>\n      <th>2</th>\n      <td>10</td>\n      <td>Counter-Strike</td>\n      <td>2000-11-01</td>\n      <td>Valve</td>\n      <td>Valve</td>\n      <td>windows;mac;linux</td>\n      <td>0</td>\n      <td>Multi-player;Online Multi-Player;Local Multi-P...</td>\n      <td>Action</td>\n      <td>Action;FPS;Multiplayer</td>\n      <td>...</td>\n      <td>10000000-20000000</td>\n      <td>7.19</td>\n      <td>000 levels of chaotic science fiction horror t...</td>\n      <td>in any order</td>\n      <td>from the dead easy beginning sectors to the c...</td>\n      <td>{'minimum': '\\r\\n\\t\\t\\t&lt;p&gt;&lt;strong&gt;Minimum:&lt;/st...</td>\n      <td>{'minimum': 'Minimum: OS X  Snow Leopard 10.6....</td>\n      <td>{'minimum': 'Minimum: Linux Ubuntu 12.04, Dual...</td>\n      <td>500 mhz processor, 96mb ram, 16mb video card, ...</td>\n      <td>None</td>\n    </tr>\n    <tr>\n      <th>3</th>\n      <td>20</td>\n      <td>Team Fortress Classic</td>\n      <td>1999-04-01</td>\n      <td>Valve</td>\n      <td>Valve</td>\n      <td>windows;mac;linux</td>\n      <td>0</td>\n      <td>Multi-player;Online Multi-Player;Local Multi-P...</td>\n      <td>Action</td>\n      <td>Action;FPS;Multiplayer</td>\n      <td>...</td>\n      <td>5000000-10000000</td>\n      <td>3.99</td>\n      <td>One of the most popular online action games of...</td>\n      <td>One of the most popular online action games of...</td>\n      <td>One of the most popular online action games of...</td>\n      <td>{'minimum': '\\r\\n\\t\\t\\t&lt;p&gt;&lt;strong&gt;Minimum:&lt;/st...</td>\n      <td>{'minimum': 'Minimum: OS X  Snow Leopard 10.6....</td>\n      <td>{'minimum': 'Minimum: Linux Ubuntu 12.04, Dual...</td>\n      <td>500 mhz processor, 96mb ram, 16mb video card, ...</td>\n      <td>None</td>\n    </tr>\n    <tr>\n      <th>4</th>\n      <td>30</td>\n      <td>Day of Defeat</td>\n      <td>2003-05-01</td>\n      <td>Valve</td>\n      <td>Valve</td>\n      <td>windows;mac;linux</td>\n      <td>0</td>\n      <td>Multi-player;Valve Anti-Cheat enabled</td>\n      <td>Action</td>\n      <td>FPS;World War II;Multiplayer</td>\n      <td>...</td>\n      <td>5000000-10000000</td>\n      <td>3.99</td>\n      <td>Enlist in an intense brand of Axis vs. Allied ...</td>\n      <td>Enlist in an intense brand of Axis vs. Allied ...</td>\n      <td>Enlist in an intense brand of Axis vs. Allied ...</td>\n      <td>{'minimum': '\\r\\n\\t\\t\\t&lt;p&gt;&lt;strong&gt;Minimum:&lt;/st...</td>\n      <td>{'minimum': 'Minimum: OS X  Snow Leopard 10.6....</td>\n      <td>{'minimum': 'Minimum: Linux Ubuntu 12.04, Dual...</td>\n      <td>500 mhz processor, 96mb ram, 16mb video card, ...</td>\n      <td>None</td>\n    </tr>\n  </tbody>\n</table>\n<p>5 rows × 25 columns</p>\n</div>",
       "datasetInfos": [],
       "metadata": {},
       "removedWidgets": [],
       "textData": null,
       "type": "htmlSandbox"
      }
     },
     "output_type": "display_data"
    }
   ],
   "source": [
    "# Remoção das colunas desnecessarias\n",
    "steam_all_data_clean = steam_all_data.drop(columns = ['english', 'steam_appid_y', 'steam_appid_x'])\n",
    "steam_all_data_clean.head(5)"
   ]
  },
  {
   "cell_type": "code",
   "execution_count": 0,
   "metadata": {
    "application/vnd.databricks.v1+cell": {
     "cellMetadata": {
      "byteLimit": 2048000,
      "rowLimit": 10000
     },
     "inputWidgets": {},
     "nuid": "ba3483cd-3aa2-45c6-a27b-727e0ec87323",
     "showTitle": false,
     "title": ""
    }
   },
   "outputs": [
    {
     "output_type": "display_data",
     "data": {
      "text/html": [
       "<div>\n",
       "<style scoped>\n",
       "    .dataframe tbody tr th:only-of-type {\n",
       "        vertical-align: middle;\n",
       "    }\n",
       "\n",
       "    .dataframe tbody tr th {\n",
       "        vertical-align: top;\n",
       "    }\n",
       "\n",
       "    .dataframe thead th {\n",
       "        text-align: right;\n",
       "    }\n",
       "</style>\n",
       "<table border=\"1\" class=\"dataframe\">\n",
       "  <thead>\n",
       "    <tr style=\"text-align: right;\">\n",
       "      <th></th>\n",
       "      <th>appid</th>\n",
       "      <th>name</th>\n",
       "      <th>release_date</th>\n",
       "      <th>developer</th>\n",
       "      <th>publisher</th>\n",
       "      <th>platforms</th>\n",
       "      <th>required_age</th>\n",
       "      <th>categories</th>\n",
       "      <th>genres</th>\n",
       "      <th>steamspy_tags</th>\n",
       "      <th>...</th>\n",
       "      <th>owners</th>\n",
       "      <th>price</th>\n",
       "      <th>detailed_description</th>\n",
       "      <th>about_the_game</th>\n",
       "      <th>short_description</th>\n",
       "      <th>pc_requirements</th>\n",
       "      <th>mac_requirements</th>\n",
       "      <th>linux_requirements</th>\n",
       "      <th>minimum</th>\n",
       "      <th>recommended</th>\n",
       "    </tr>\n",
       "  </thead>\n",
       "  <tbody>\n",
       "    <tr>\n",
       "      <th>0</th>\n",
       "      <td>10</td>\n",
       "      <td>Counter-Strike</td>\n",
       "      <td>2000-11-01</td>\n",
       "      <td>Valve</td>\n",
       "      <td>Valve</td>\n",
       "      <td>windows;mac;linux</td>\n",
       "      <td>0</td>\n",
       "      <td>Multi-player;Online Multi-Player;Local Multi-P...</td>\n",
       "      <td>Action</td>\n",
       "      <td>Action;FPS;Multiplayer</td>\n",
       "      <td>...</td>\n",
       "      <td>10000000-20000000</td>\n",
       "      <td>7.19</td>\n",
       "      <td>Play the world's number 1 online action game. ...</td>\n",
       "      <td>Play the world's number 1 online action game. ...</td>\n",
       "      <td>Play the world's number 1 online action game. ...</td>\n",
       "      <td>{'minimum': '\\r\\n\\t\\t\\t&lt;p&gt;&lt;strong&gt;Minimum:&lt;/st...</td>\n",
       "      <td>{'minimum': 'Minimum: OS X  Snow Leopard 10.6....</td>\n",
       "      <td>{'minimum': 'Minimum: Linux Ubuntu 12.04, Dual...</td>\n",
       "      <td>500 mhz processor, 96mb ram, 16mb video card, ...</td>\n",
       "      <td>None</td>\n",
       "    </tr>\n",
       "    <tr>\n",
       "      <th>3</th>\n",
       "      <td>20</td>\n",
       "      <td>Team Fortress Classic</td>\n",
       "      <td>1999-04-01</td>\n",
       "      <td>Valve</td>\n",
       "      <td>Valve</td>\n",
       "      <td>windows;mac;linux</td>\n",
       "      <td>0</td>\n",
       "      <td>Multi-player;Online Multi-Player;Local Multi-P...</td>\n",
       "      <td>Action</td>\n",
       "      <td>Action;FPS;Multiplayer</td>\n",
       "      <td>...</td>\n",
       "      <td>5000000-10000000</td>\n",
       "      <td>3.99</td>\n",
       "      <td>One of the most popular online action games of...</td>\n",
       "      <td>One of the most popular online action games of...</td>\n",
       "      <td>One of the most popular online action games of...</td>\n",
       "      <td>{'minimum': '\\r\\n\\t\\t\\t&lt;p&gt;&lt;strong&gt;Minimum:&lt;/st...</td>\n",
       "      <td>{'minimum': 'Minimum: OS X  Snow Leopard 10.6....</td>\n",
       "      <td>{'minimum': 'Minimum: Linux Ubuntu 12.04, Dual...</td>\n",
       "      <td>500 mhz processor, 96mb ram, 16mb video card, ...</td>\n",
       "      <td>None</td>\n",
       "    </tr>\n",
       "    <tr>\n",
       "      <th>4</th>\n",
       "      <td>30</td>\n",
       "      <td>Day of Defeat</td>\n",
       "      <td>2003-05-01</td>\n",
       "      <td>Valve</td>\n",
       "      <td>Valve</td>\n",
       "      <td>windows;mac;linux</td>\n",
       "      <td>0</td>\n",
       "      <td>Multi-player;Valve Anti-Cheat enabled</td>\n",
       "      <td>Action</td>\n",
       "      <td>FPS;World War II;Multiplayer</td>\n",
       "      <td>...</td>\n",
       "      <td>5000000-10000000</td>\n",
       "      <td>3.99</td>\n",
       "      <td>Enlist in an intense brand of Axis vs. Allied ...</td>\n",
       "      <td>Enlist in an intense brand of Axis vs. Allied ...</td>\n",
       "      <td>Enlist in an intense brand of Axis vs. Allied ...</td>\n",
       "      <td>{'minimum': '\\r\\n\\t\\t\\t&lt;p&gt;&lt;strong&gt;Minimum:&lt;/st...</td>\n",
       "      <td>{'minimum': 'Minimum: OS X  Snow Leopard 10.6....</td>\n",
       "      <td>{'minimum': 'Minimum: Linux Ubuntu 12.04, Dual...</td>\n",
       "      <td>500 mhz processor, 96mb ram, 16mb video card, ...</td>\n",
       "      <td>None</td>\n",
       "    </tr>\n",
       "    <tr>\n",
       "      <th>5</th>\n",
       "      <td>40</td>\n",
       "      <td>Deathmatch Classic</td>\n",
       "      <td>2001-06-01</td>\n",
       "      <td>Valve</td>\n",
       "      <td>Valve</td>\n",
       "      <td>windows;mac;linux</td>\n",
       "      <td>0</td>\n",
       "      <td>Multi-player;Online Multi-Player;Local Multi-P...</td>\n",
       "      <td>Action</td>\n",
       "      <td>Action;FPS;Multiplayer</td>\n",
       "      <td>...</td>\n",
       "      <td>5000000-10000000</td>\n",
       "      <td>3.99</td>\n",
       "      <td>Enjoy fast-paced multiplayer gaming with Death...</td>\n",
       "      <td>Enjoy fast-paced multiplayer gaming with Death...</td>\n",
       "      <td>Enjoy fast-paced multiplayer gaming with Death...</td>\n",
       "      <td>{'minimum': '\\r\\n\\t\\t\\t&lt;p&gt;&lt;strong&gt;Minimum:&lt;/st...</td>\n",
       "      <td>{'minimum': 'Minimum: OS X  Snow Leopard 10.6....</td>\n",
       "      <td>{'minimum': 'Minimum: Linux Ubuntu 12.04, Dual...</td>\n",
       "      <td>500 mhz processor, 96mb ram, 16mb video card, ...</td>\n",
       "      <td>None</td>\n",
       "    </tr>\n",
       "    <tr>\n",
       "      <th>6</th>\n",
       "      <td>50</td>\n",
       "      <td>Half-Life: Opposing Force</td>\n",
       "      <td>1999-11-01</td>\n",
       "      <td>Gearbox Software</td>\n",
       "      <td>Valve</td>\n",
       "      <td>windows;mac;linux</td>\n",
       "      <td>0</td>\n",
       "      <td>Single-player;Multi-player;Valve Anti-Cheat en...</td>\n",
       "      <td>Action</td>\n",
       "      <td>FPS;Action;Sci-fi</td>\n",
       "      <td>...</td>\n",
       "      <td>5000000-10000000</td>\n",
       "      <td>3.99</td>\n",
       "      <td>Return to the Black Mesa Research Facility as ...</td>\n",
       "      <td>Return to the Black Mesa Research Facility as ...</td>\n",
       "      <td>Return to the Black Mesa Research Facility as ...</td>\n",
       "      <td>{'minimum': '\\r\\n\\t\\t\\t&lt;p&gt;&lt;strong&gt;Minimum:&lt;/st...</td>\n",
       "      <td>{'minimum': 'Minimum: OS X  Snow Leopard 10.6....</td>\n",
       "      <td>{'minimum': 'Minimum: Linux Ubuntu 12.04, Dual...</td>\n",
       "      <td>500 mhz processor, 96mb ram, 16mb video card, ...</td>\n",
       "      <td>None</td>\n",
       "    </tr>\n",
       "  </tbody>\n",
       "</table>\n",
       "<p>5 rows × 25 columns</p>\n",
       "</div>"
      ]
     },
     "metadata": {
      "application/vnd.databricks.v1+output": {
       "addedWidgets": {},
       "arguments": {},
       "data": "<div>\n<style scoped>\n    .dataframe tbody tr th:only-of-type {\n        vertical-align: middle;\n    }\n\n    .dataframe tbody tr th {\n        vertical-align: top;\n    }\n\n    .dataframe thead th {\n        text-align: right;\n    }\n</style>\n<table border=\"1\" class=\"dataframe\">\n  <thead>\n    <tr style=\"text-align: right;\">\n      <th></th>\n      <th>appid</th>\n      <th>name</th>\n      <th>release_date</th>\n      <th>developer</th>\n      <th>publisher</th>\n      <th>platforms</th>\n      <th>required_age</th>\n      <th>categories</th>\n      <th>genres</th>\n      <th>steamspy_tags</th>\n      <th>...</th>\n      <th>owners</th>\n      <th>price</th>\n      <th>detailed_description</th>\n      <th>about_the_game</th>\n      <th>short_description</th>\n      <th>pc_requirements</th>\n      <th>mac_requirements</th>\n      <th>linux_requirements</th>\n      <th>minimum</th>\n      <th>recommended</th>\n    </tr>\n  </thead>\n  <tbody>\n    <tr>\n      <th>0</th>\n      <td>10</td>\n      <td>Counter-Strike</td>\n      <td>2000-11-01</td>\n      <td>Valve</td>\n      <td>Valve</td>\n      <td>windows;mac;linux</td>\n      <td>0</td>\n      <td>Multi-player;Online Multi-Player;Local Multi-P...</td>\n      <td>Action</td>\n      <td>Action;FPS;Multiplayer</td>\n      <td>...</td>\n      <td>10000000-20000000</td>\n      <td>7.19</td>\n      <td>Play the world's number 1 online action game. ...</td>\n      <td>Play the world's number 1 online action game. ...</td>\n      <td>Play the world's number 1 online action game. ...</td>\n      <td>{'minimum': '\\r\\n\\t\\t\\t&lt;p&gt;&lt;strong&gt;Minimum:&lt;/st...</td>\n      <td>{'minimum': 'Minimum: OS X  Snow Leopard 10.6....</td>\n      <td>{'minimum': 'Minimum: Linux Ubuntu 12.04, Dual...</td>\n      <td>500 mhz processor, 96mb ram, 16mb video card, ...</td>\n      <td>None</td>\n    </tr>\n    <tr>\n      <th>3</th>\n      <td>20</td>\n      <td>Team Fortress Classic</td>\n      <td>1999-04-01</td>\n      <td>Valve</td>\n      <td>Valve</td>\n      <td>windows;mac;linux</td>\n      <td>0</td>\n      <td>Multi-player;Online Multi-Player;Local Multi-P...</td>\n      <td>Action</td>\n      <td>Action;FPS;Multiplayer</td>\n      <td>...</td>\n      <td>5000000-10000000</td>\n      <td>3.99</td>\n      <td>One of the most popular online action games of...</td>\n      <td>One of the most popular online action games of...</td>\n      <td>One of the most popular online action games of...</td>\n      <td>{'minimum': '\\r\\n\\t\\t\\t&lt;p&gt;&lt;strong&gt;Minimum:&lt;/st...</td>\n      <td>{'minimum': 'Minimum: OS X  Snow Leopard 10.6....</td>\n      <td>{'minimum': 'Minimum: Linux Ubuntu 12.04, Dual...</td>\n      <td>500 mhz processor, 96mb ram, 16mb video card, ...</td>\n      <td>None</td>\n    </tr>\n    <tr>\n      <th>4</th>\n      <td>30</td>\n      <td>Day of Defeat</td>\n      <td>2003-05-01</td>\n      <td>Valve</td>\n      <td>Valve</td>\n      <td>windows;mac;linux</td>\n      <td>0</td>\n      <td>Multi-player;Valve Anti-Cheat enabled</td>\n      <td>Action</td>\n      <td>FPS;World War II;Multiplayer</td>\n      <td>...</td>\n      <td>5000000-10000000</td>\n      <td>3.99</td>\n      <td>Enlist in an intense brand of Axis vs. Allied ...</td>\n      <td>Enlist in an intense brand of Axis vs. Allied ...</td>\n      <td>Enlist in an intense brand of Axis vs. Allied ...</td>\n      <td>{'minimum': '\\r\\n\\t\\t\\t&lt;p&gt;&lt;strong&gt;Minimum:&lt;/st...</td>\n      <td>{'minimum': 'Minimum: OS X  Snow Leopard 10.6....</td>\n      <td>{'minimum': 'Minimum: Linux Ubuntu 12.04, Dual...</td>\n      <td>500 mhz processor, 96mb ram, 16mb video card, ...</td>\n      <td>None</td>\n    </tr>\n    <tr>\n      <th>5</th>\n      <td>40</td>\n      <td>Deathmatch Classic</td>\n      <td>2001-06-01</td>\n      <td>Valve</td>\n      <td>Valve</td>\n      <td>windows;mac;linux</td>\n      <td>0</td>\n      <td>Multi-player;Online Multi-Player;Local Multi-P...</td>\n      <td>Action</td>\n      <td>Action;FPS;Multiplayer</td>\n      <td>...</td>\n      <td>5000000-10000000</td>\n      <td>3.99</td>\n      <td>Enjoy fast-paced multiplayer gaming with Death...</td>\n      <td>Enjoy fast-paced multiplayer gaming with Death...</td>\n      <td>Enjoy fast-paced multiplayer gaming with Death...</td>\n      <td>{'minimum': '\\r\\n\\t\\t\\t&lt;p&gt;&lt;strong&gt;Minimum:&lt;/st...</td>\n      <td>{'minimum': 'Minimum: OS X  Snow Leopard 10.6....</td>\n      <td>{'minimum': 'Minimum: Linux Ubuntu 12.04, Dual...</td>\n      <td>500 mhz processor, 96mb ram, 16mb video card, ...</td>\n      <td>None</td>\n    </tr>\n    <tr>\n      <th>6</th>\n      <td>50</td>\n      <td>Half-Life: Opposing Force</td>\n      <td>1999-11-01</td>\n      <td>Gearbox Software</td>\n      <td>Valve</td>\n      <td>windows;mac;linux</td>\n      <td>0</td>\n      <td>Single-player;Multi-player;Valve Anti-Cheat en...</td>\n      <td>Action</td>\n      <td>FPS;Action;Sci-fi</td>\n      <td>...</td>\n      <td>5000000-10000000</td>\n      <td>3.99</td>\n      <td>Return to the Black Mesa Research Facility as ...</td>\n      <td>Return to the Black Mesa Research Facility as ...</td>\n      <td>Return to the Black Mesa Research Facility as ...</td>\n      <td>{'minimum': '\\r\\n\\t\\t\\t&lt;p&gt;&lt;strong&gt;Minimum:&lt;/st...</td>\n      <td>{'minimum': 'Minimum: OS X  Snow Leopard 10.6....</td>\n      <td>{'minimum': 'Minimum: Linux Ubuntu 12.04, Dual...</td>\n      <td>500 mhz processor, 96mb ram, 16mb video card, ...</td>\n      <td>None</td>\n    </tr>\n  </tbody>\n</table>\n<p>5 rows × 25 columns</p>\n</div>",
       "datasetInfos": [],
       "metadata": {},
       "removedWidgets": [],
       "textData": null,
       "type": "htmlSandbox"
      }
     },
     "output_type": "display_data"
    }
   ],
   "source": [
    "# Remoção de linhas duplicadas\n",
    "steam_all_data_clean = steam_all_data_clean.drop_duplicates(subset='appid')\n",
    "steam_all_data_clean.head(5)"
   ]
  },
  {
   "cell_type": "code",
   "execution_count": 0,
   "metadata": {
    "application/vnd.databricks.v1+cell": {
     "cellMetadata": {
      "byteLimit": 2048000,
      "rowLimit": 10000
     },
     "inputWidgets": {},
     "nuid": "49521c48-bdce-4d06-b88b-2a6ab778d3ca",
     "showTitle": false,
     "title": ""
    }
   },
   "outputs": [],
   "source": [
    "# Cria um dataframe spark usando o dataframe do pandas modificado\n",
    "sparkDF=spark.createDataFrame(steam_all_data_clean) \n",
    "\n",
    "# Cria uma tabela no banco de dados\n",
    "sparkDF.write.mode('overwrite').saveAsTable(\"steam_all_data\")"
   ]
  },
  {
   "cell_type": "markdown",
   "metadata": {
    "application/vnd.databricks.v1+cell": {
     "cellMetadata": {
      "byteLimit": 2048000,
      "rowLimit": 10000
     },
     "inputWidgets": {},
     "nuid": "05714dff-3cff-4852-9497-1a4813ba8e8b",
     "showTitle": false,
     "title": ""
    }
   },
   "source": [
    "![test_image](/carga.png)"
   ]
  },
  {
   "cell_type": "markdown",
   "metadata": {
    "application/vnd.databricks.v1+cell": {
     "cellMetadata": {
      "byteLimit": 2048000,
      "rowLimit": 10000
     },
     "inputWidgets": {},
     "nuid": "e7bce90e-c942-4e53-bb74-accf2fd0d7e4",
     "showTitle": false,
     "title": ""
    }
   },
   "source": [
    "## 2.5 Análise"
   ]
  },
  {
   "cell_type": "markdown",
   "metadata": {
    "application/vnd.databricks.v1+cell": {
     "cellMetadata": {
      "byteLimit": 2048000,
      "rowLimit": 10000
     },
     "inputWidgets": {},
     "nuid": "9a8b5e07-334e-48e7-a6eb-940b713046e9",
     "showTitle": false,
     "title": ""
    }
   },
   "source": [
    "## 2.5.1 Qualidade dos dados"
   ]
  },
  {
   "cell_type": "markdown",
   "metadata": {
    "application/vnd.databricks.v1+cell": {
     "cellMetadata": {
      "byteLimit": 2048000,
      "rowLimit": 10000
     },
     "inputWidgets": {},
     "nuid": "c61263a5-6dbc-4c06-82e6-43079b84e3b1",
     "showTitle": false,
     "title": ""
    }
   },
   "source": [
    "Nesta etapa, será uma análise detalhada da qualidade dos dados por atributo na tabela que foi construída nas etapas anteriores. Avaliaremos cada atributo em busca de problemas potenciais, incluindo valores ausentes, inconsistências, valores atípicos e tipos de dados apropriados. A identificação e resolução desses problemas são cruciais para garantir a integridade e confiabilidade dos dados, preparando-os para as análises subsequentes."
   ]
  },
  {
   "cell_type": "code",
   "execution_count": 0,
   "metadata": {
    "application/vnd.databricks.v1+cell": {
     "cellMetadata": {
      "byteLimit": 2048000,
      "rowLimit": 10000
     },
     "inputWidgets": {},
     "nuid": "a188a4c4-9d9b-41e0-a3a5-144308f082e9",
     "showTitle": false,
     "title": ""
    }
   },
   "outputs": [
    {
     "output_type": "stream",
     "name": "stdout",
     "output_type": "stream",
     "text": [
      "Out[9]: appid                       0\nname                        0\nrelease_date                0\ndeveloper                   0\npublisher                   0\nplatforms                   0\nrequired_age                0\ncategories                  0\ngenres                      0\nsteamspy_tags               0\nachievements                0\npositive_ratings            0\nnegative_ratings            0\naverage_playtime            0\nmedian_playtime             0\nowners                      0\nprice                       0\ndetailed_description        0\nabout_the_game           6782\nshort_description        6966\npc_requirements             0\nmac_requirements            0\nlinux_requirements          0\nminimum                     5\nrecommended             13044\ndtype: int64"
     ]
    }
   ],
   "source": [
    "steam_all_data_clean.isnull().sum()"
   ]
  },
  {
   "cell_type": "markdown",
   "metadata": {
    "application/vnd.databricks.v1+cell": {
     "cellMetadata": {
      "byteLimit": 2048000,
      "rowLimit": 10000
     },
     "inputWidgets": {},
     "nuid": "c84ac882-2b36-447b-9283-2763c71c2970",
     "showTitle": false,
     "title": ""
    }
   },
   "source": [
    "A primeira análise é a verificação dos valores faltantes. Como é possivel ver no resultado acima, os unicos atributos que possuem dados faltantes são o \"about_the_game\", \"short_description\" , \"minimum\" e \"recommended\".\n",
    "\n",
    "O \"about_the_game\" e \"short_description\" se tratam de dados da descrição do jogo na plataforma, e não é incomum alguns jogos não terem a descrição. A coluna \"recommended\" se trata dos requisitos recomentados para rodar o jogo, e tambem não é incomum que estes dados estejam faltantes. A coluna \"minimum\" possui apenas 5 valores faltantes, o que leva a crer que ocorreu algum erro na hora de retirar os dados, ou foram perdidos de alguma forma."
   ]
  },
  {
   "cell_type": "code",
   "execution_count": 0,
   "metadata": {
    "application/vnd.databricks.v1+cell": {
     "cellMetadata": {
      "byteLimit": 2048000,
      "rowLimit": 10000
     },
     "inputWidgets": {},
     "nuid": "465b9fdc-6753-4c4c-92a2-a065789b0c34",
     "showTitle": false,
     "title": ""
    }
   },
   "outputs": [
    {
     "output_type": "stream",
     "name": "stdout",
     "output_type": "stream",
     "text": [
      "<class 'pandas.core.frame.DataFrame'>\nInt64Index: 27062 entries, 0 to 27063\nData columns (total 25 columns):\n #   Column                Non-Null Count  Dtype  \n---  ------                --------------  -----  \n 0   appid                 27062 non-null  int64  \n 1   name                  27062 non-null  object \n 2   release_date          27062 non-null  object \n 3   developer             27062 non-null  object \n 4   publisher             27062 non-null  object \n 5   platforms             27062 non-null  object \n 6   required_age          27062 non-null  int64  \n 7   categories            27062 non-null  object \n 8   genres                27062 non-null  object \n 9   steamspy_tags         27062 non-null  object \n 10  achievements          27062 non-null  int64  \n 11  positive_ratings      27062 non-null  int64  \n 12  negative_ratings      27062 non-null  int64  \n 13  average_playtime      27062 non-null  int64  \n 14  median_playtime       27062 non-null  int64  \n 15  owners                27062 non-null  object \n 16  price                 27062 non-null  float64\n 17  detailed_description  27062 non-null  object \n 18  about_the_game        20280 non-null  object \n 19  short_description     20096 non-null  object \n 20  pc_requirements       27062 non-null  object \n 21  mac_requirements      27062 non-null  object \n 22  linux_requirements    27062 non-null  object \n 23  minimum               27057 non-null  object \n 24  recommended           14018 non-null  object \ndtypes: float64(1), int64(7), object(17)\nmemory usage: 5.4+ MB\n"
     ]
    }
   ],
   "source": [
    "steam_all_data_clean.info()"
   ]
  },
  {
   "cell_type": "markdown",
   "metadata": {
    "application/vnd.databricks.v1+cell": {
     "cellMetadata": {
      "byteLimit": 2048000,
      "rowLimit": 10000
     },
     "inputWidgets": {},
     "nuid": "0085bb51-0d9e-46e6-ad7e-897f9ec21981",
     "showTitle": false,
     "title": ""
    }
   },
   "source": [
    "Os tipos de dados de cada uma das colunas está dentro do esperado."
   ]
  },
  {
   "cell_type": "code",
   "execution_count": 0,
   "metadata": {
    "application/vnd.databricks.v1+cell": {
     "cellMetadata": {
      "byteLimit": 2048000,
      "rowLimit": 10000
     },
     "inputWidgets": {},
     "nuid": "152c4bea-7b9a-4a5c-93bb-44f5aca00e18",
     "showTitle": false,
     "title": ""
    }
   },
   "outputs": [
    {
     "output_type": "display_data",
     "data": {
      "text/html": [
       "<div>\n",
       "<style scoped>\n",
       "    .dataframe tbody tr th:only-of-type {\n",
       "        vertical-align: middle;\n",
       "    }\n",
       "\n",
       "    .dataframe tbody tr th {\n",
       "        vertical-align: top;\n",
       "    }\n",
       "\n",
       "    .dataframe thead th {\n",
       "        text-align: right;\n",
       "    }\n",
       "</style>\n",
       "<table border=\"1\" class=\"dataframe\">\n",
       "  <thead>\n",
       "    <tr style=\"text-align: right;\">\n",
       "      <th></th>\n",
       "      <th>appid</th>\n",
       "      <th>required_age</th>\n",
       "      <th>achievements</th>\n",
       "      <th>positive_ratings</th>\n",
       "      <th>negative_ratings</th>\n",
       "      <th>average_playtime</th>\n",
       "      <th>median_playtime</th>\n",
       "      <th>price</th>\n",
       "    </tr>\n",
       "  </thead>\n",
       "  <tbody>\n",
       "    <tr>\n",
       "      <th>count</th>\n",
       "      <td>2.706200e+04</td>\n",
       "      <td>27062.000000</td>\n",
       "      <td>27062.000000</td>\n",
       "      <td>2.706200e+04</td>\n",
       "      <td>27062.000000</td>\n",
       "      <td>27062.000000</td>\n",
       "      <td>27062.000000</td>\n",
       "      <td>27062.000000</td>\n",
       "    </tr>\n",
       "    <tr>\n",
       "      <th>mean</th>\n",
       "      <td>5.963239e+05</td>\n",
       "      <td>0.353817</td>\n",
       "      <td>45.266240</td>\n",
       "      <td>1.000845e+03</td>\n",
       "      <td>211.082773</td>\n",
       "      <td>149.856662</td>\n",
       "      <td>146.105351</td>\n",
       "      <td>6.078505</td>\n",
       "    </tr>\n",
       "    <tr>\n",
       "      <th>std</th>\n",
       "      <td>2.508104e+05</td>\n",
       "      <td>2.402338</td>\n",
       "      <td>352.753851</td>\n",
       "      <td>1.899328e+04</td>\n",
       "      <td>4285.965411</td>\n",
       "      <td>1827.474576</td>\n",
       "      <td>2354.443666</td>\n",
       "      <td>7.875836</td>\n",
       "    </tr>\n",
       "    <tr>\n",
       "      <th>min</th>\n",
       "      <td>1.000000e+01</td>\n",
       "      <td>0.000000</td>\n",
       "      <td>0.000000</td>\n",
       "      <td>0.000000e+00</td>\n",
       "      <td>0.000000</td>\n",
       "      <td>0.000000</td>\n",
       "      <td>0.000000</td>\n",
       "      <td>0.000000</td>\n",
       "    </tr>\n",
       "    <tr>\n",
       "      <th>25%</th>\n",
       "      <td>4.013750e+05</td>\n",
       "      <td>0.000000</td>\n",
       "      <td>0.000000</td>\n",
       "      <td>6.000000e+00</td>\n",
       "      <td>2.000000</td>\n",
       "      <td>0.000000</td>\n",
       "      <td>0.000000</td>\n",
       "      <td>1.690000</td>\n",
       "    </tr>\n",
       "    <tr>\n",
       "      <th>50%</th>\n",
       "      <td>5.991200e+05</td>\n",
       "      <td>0.000000</td>\n",
       "      <td>7.000000</td>\n",
       "      <td>2.400000e+01</td>\n",
       "      <td>9.000000</td>\n",
       "      <td>0.000000</td>\n",
       "      <td>0.000000</td>\n",
       "      <td>3.990000</td>\n",
       "    </tr>\n",
       "    <tr>\n",
       "      <th>75%</th>\n",
       "      <td>7.988250e+05</td>\n",
       "      <td>0.000000</td>\n",
       "      <td>23.000000</td>\n",
       "      <td>1.250000e+02</td>\n",
       "      <td>41.000000</td>\n",
       "      <td>0.000000</td>\n",
       "      <td>0.000000</td>\n",
       "      <td>7.190000</td>\n",
       "    </tr>\n",
       "    <tr>\n",
       "      <th>max</th>\n",
       "      <td>1.069460e+06</td>\n",
       "      <td>18.000000</td>\n",
       "      <td>9821.000000</td>\n",
       "      <td>2.644404e+06</td>\n",
       "      <td>487076.000000</td>\n",
       "      <td>190625.000000</td>\n",
       "      <td>190625.000000</td>\n",
       "      <td>421.990000</td>\n",
       "    </tr>\n",
       "  </tbody>\n",
       "</table>\n",
       "</div>"
      ]
     },
     "metadata": {
      "application/vnd.databricks.v1+output": {
       "addedWidgets": {},
       "arguments": {},
       "data": "<div>\n<style scoped>\n    .dataframe tbody tr th:only-of-type {\n        vertical-align: middle;\n    }\n\n    .dataframe tbody tr th {\n        vertical-align: top;\n    }\n\n    .dataframe thead th {\n        text-align: right;\n    }\n</style>\n<table border=\"1\" class=\"dataframe\">\n  <thead>\n    <tr style=\"text-align: right;\">\n      <th></th>\n      <th>appid</th>\n      <th>required_age</th>\n      <th>achievements</th>\n      <th>positive_ratings</th>\n      <th>negative_ratings</th>\n      <th>average_playtime</th>\n      <th>median_playtime</th>\n      <th>price</th>\n    </tr>\n  </thead>\n  <tbody>\n    <tr>\n      <th>count</th>\n      <td>2.706200e+04</td>\n      <td>27062.000000</td>\n      <td>27062.000000</td>\n      <td>2.706200e+04</td>\n      <td>27062.000000</td>\n      <td>27062.000000</td>\n      <td>27062.000000</td>\n      <td>27062.000000</td>\n    </tr>\n    <tr>\n      <th>mean</th>\n      <td>5.963239e+05</td>\n      <td>0.353817</td>\n      <td>45.266240</td>\n      <td>1.000845e+03</td>\n      <td>211.082773</td>\n      <td>149.856662</td>\n      <td>146.105351</td>\n      <td>6.078505</td>\n    </tr>\n    <tr>\n      <th>std</th>\n      <td>2.508104e+05</td>\n      <td>2.402338</td>\n      <td>352.753851</td>\n      <td>1.899328e+04</td>\n      <td>4285.965411</td>\n      <td>1827.474576</td>\n      <td>2354.443666</td>\n      <td>7.875836</td>\n    </tr>\n    <tr>\n      <th>min</th>\n      <td>1.000000e+01</td>\n      <td>0.000000</td>\n      <td>0.000000</td>\n      <td>0.000000e+00</td>\n      <td>0.000000</td>\n      <td>0.000000</td>\n      <td>0.000000</td>\n      <td>0.000000</td>\n    </tr>\n    <tr>\n      <th>25%</th>\n      <td>4.013750e+05</td>\n      <td>0.000000</td>\n      <td>0.000000</td>\n      <td>6.000000e+00</td>\n      <td>2.000000</td>\n      <td>0.000000</td>\n      <td>0.000000</td>\n      <td>1.690000</td>\n    </tr>\n    <tr>\n      <th>50%</th>\n      <td>5.991200e+05</td>\n      <td>0.000000</td>\n      <td>7.000000</td>\n      <td>2.400000e+01</td>\n      <td>9.000000</td>\n      <td>0.000000</td>\n      <td>0.000000</td>\n      <td>3.990000</td>\n    </tr>\n    <tr>\n      <th>75%</th>\n      <td>7.988250e+05</td>\n      <td>0.000000</td>\n      <td>23.000000</td>\n      <td>1.250000e+02</td>\n      <td>41.000000</td>\n      <td>0.000000</td>\n      <td>0.000000</td>\n      <td>7.190000</td>\n    </tr>\n    <tr>\n      <th>max</th>\n      <td>1.069460e+06</td>\n      <td>18.000000</td>\n      <td>9821.000000</td>\n      <td>2.644404e+06</td>\n      <td>487076.000000</td>\n      <td>190625.000000</td>\n      <td>190625.000000</td>\n      <td>421.990000</td>\n    </tr>\n  </tbody>\n</table>\n</div>",
       "datasetInfos": [],
       "metadata": {},
       "removedWidgets": [],
       "textData": null,
       "type": "htmlSandbox"
      }
     },
     "output_type": "display_data"
    }
   ],
   "source": [
    "steam_all_data_clean.describe()"
   ]
  },
  {
   "cell_type": "markdown",
   "metadata": {
    "application/vnd.databricks.v1+cell": {
     "cellMetadata": {
      "byteLimit": 2048000,
      "rowLimit": 10000
     },
     "inputWidgets": {},
     "nuid": "6629eaa7-d8cc-4eb2-91c5-1988ad81f6f7",
     "showTitle": false,
     "title": ""
    }
   },
   "source": [
    "Agora, procederemos à análise dos dados numéricos presentes na tabela para verificar se estão dentro do esperado.\n",
    "\n",
    "**appid**: Os valores são inteiros, variando de 10 a 1.069.460, o que está de acordo com as expectativas.\\\n",
    "**required_age**: Também são valores inteiros, variando de 0 a 18, dentro das faixas esperadas.\\\n",
    "**achievements**: Novamente, valores inteiros, variando de 0 a 9.821, consistentes com as expectativas.\\\n",
    "**positive_ratings**: Valores inteiros de 0 a 2.644.404, dentro das faixas esperadas.\\\n",
    "**negative_ratings**: Valores inteiros de 0 a 487.076, dentro das expectativas.\\\n",
    "**average_playtime e median_playtime**: Aqui, encontramos valores estranhos, pois o tempo máximo observado parece improvável, mesmo quando considerado em minutos. Não podemos determinar a casa decimal correta para esses dados, portanto, decidimos manter as colunas como estão. Essa decisão é justificada pelo fato de que, se houve alguma operação realizada nessas colunas, ela afetou todas as linhas de maneira uniforme. Para as respostas às perguntas propostas, os valores extremos não devem representar um problema significativo."
   ]
  },
  {
   "cell_type": "code",
   "execution_count": 0,
   "metadata": {
    "application/vnd.databricks.v1+cell": {
     "cellMetadata": {
      "byteLimit": 2048000,
      "rowLimit": 10000
     },
     "inputWidgets": {},
     "nuid": "0009d1d3-cb7a-476d-ab35-c7eb50a9b8df",
     "showTitle": false,
     "title": ""
    }
   },
   "outputs": [
    {
     "output_type": "display_data",
     "data": {
      "text/html": [
       "<div>\n",
       "<style scoped>\n",
       "    .dataframe tbody tr th:only-of-type {\n",
       "        vertical-align: middle;\n",
       "    }\n",
       "\n",
       "    .dataframe tbody tr th {\n",
       "        vertical-align: top;\n",
       "    }\n",
       "\n",
       "    .dataframe thead th {\n",
       "        text-align: right;\n",
       "    }\n",
       "</style>\n",
       "<table border=\"1\" class=\"dataframe\">\n",
       "  <thead>\n",
       "    <tr style=\"text-align: right;\">\n",
       "      <th></th>\n",
       "      <th>name</th>\n",
       "      <th>release_date</th>\n",
       "      <th>developer</th>\n",
       "      <th>publisher</th>\n",
       "      <th>platforms</th>\n",
       "      <th>categories</th>\n",
       "      <th>genres</th>\n",
       "      <th>steamspy_tags</th>\n",
       "      <th>owners</th>\n",
       "      <th>detailed_description</th>\n",
       "      <th>about_the_game</th>\n",
       "      <th>short_description</th>\n",
       "      <th>pc_requirements</th>\n",
       "      <th>mac_requirements</th>\n",
       "      <th>linux_requirements</th>\n",
       "      <th>minimum</th>\n",
       "      <th>recommended</th>\n",
       "    </tr>\n",
       "  </thead>\n",
       "  <tbody>\n",
       "    <tr>\n",
       "      <th>count</th>\n",
       "      <td>27062</td>\n",
       "      <td>27062</td>\n",
       "      <td>27062</td>\n",
       "      <td>27062</td>\n",
       "      <td>27062</td>\n",
       "      <td>27062</td>\n",
       "      <td>27062</td>\n",
       "      <td>27062</td>\n",
       "      <td>27062</td>\n",
       "      <td>27062</td>\n",
       "      <td>20280</td>\n",
       "      <td>20096</td>\n",
       "      <td>27062</td>\n",
       "      <td>27062</td>\n",
       "      <td>27062</td>\n",
       "      <td>27057</td>\n",
       "      <td>14018</td>\n",
       "    </tr>\n",
       "    <tr>\n",
       "      <th>unique</th>\n",
       "      <td>27020</td>\n",
       "      <td>2617</td>\n",
       "      <td>17107</td>\n",
       "      <td>14348</td>\n",
       "      <td>5</td>\n",
       "      <td>3333</td>\n",
       "      <td>1551</td>\n",
       "      <td>6418</td>\n",
       "      <td>13</td>\n",
       "      <td>26915</td>\n",
       "      <td>20269</td>\n",
       "      <td>20020</td>\n",
       "      <td>25182</td>\n",
       "      <td>8030</td>\n",
       "      <td>5263</td>\n",
       "      <td>24906</td>\n",
       "      <td>12226</td>\n",
       "    </tr>\n",
       "    <tr>\n",
       "      <th>top</th>\n",
       "      <td>Dark Matter</td>\n",
       "      <td>2018-07-13</td>\n",
       "      <td>Choice of Games</td>\n",
       "      <td>Big Fish Games</td>\n",
       "      <td>windows</td>\n",
       "      <td>Single-player</td>\n",
       "      <td>Action;Indie</td>\n",
       "      <td>Action;Indie;Casual</td>\n",
       "      <td>0-20000</td>\n",
       "      <td>\\n</td>\n",
       "      <td>Those who love platform games may think this i...</td>\n",
       "      <td>Minimal physical puzzle with explosions</td>\n",
       "      <td>{'minimum': '&lt;strong&gt;Minimum:&lt;/strong&gt;&lt;br&gt;&lt;ul ...</td>\n",
       "      <td>[]</td>\n",
       "      <td>[]</td>\n",
       "      <td>OS: Windows 7</td>\n",
       "      <td>Requires a 64-bit processor and operating system</td>\n",
       "    </tr>\n",
       "    <tr>\n",
       "      <th>freq</th>\n",
       "      <td>3</td>\n",
       "      <td>64</td>\n",
       "      <td>94</td>\n",
       "      <td>212</td>\n",
       "      <td>18393</td>\n",
       "      <td>6104</td>\n",
       "      <td>1852</td>\n",
       "      <td>845</td>\n",
       "      <td>18591</td>\n",
       "      <td>24</td>\n",
       "      <td>3</td>\n",
       "      <td>12</td>\n",
       "      <td>133</td>\n",
       "      <td>15934</td>\n",
       "      <td>18784</td>\n",
       "      <td>137</td>\n",
       "      <td>808</td>\n",
       "    </tr>\n",
       "  </tbody>\n",
       "</table>\n",
       "</div>"
      ]
     },
     "metadata": {
      "application/vnd.databricks.v1+output": {
       "addedWidgets": {},
       "arguments": {},
       "data": "<div>\n<style scoped>\n    .dataframe tbody tr th:only-of-type {\n        vertical-align: middle;\n    }\n\n    .dataframe tbody tr th {\n        vertical-align: top;\n    }\n\n    .dataframe thead th {\n        text-align: right;\n    }\n</style>\n<table border=\"1\" class=\"dataframe\">\n  <thead>\n    <tr style=\"text-align: right;\">\n      <th></th>\n      <th>name</th>\n      <th>release_date</th>\n      <th>developer</th>\n      <th>publisher</th>\n      <th>platforms</th>\n      <th>categories</th>\n      <th>genres</th>\n      <th>steamspy_tags</th>\n      <th>owners</th>\n      <th>detailed_description</th>\n      <th>about_the_game</th>\n      <th>short_description</th>\n      <th>pc_requirements</th>\n      <th>mac_requirements</th>\n      <th>linux_requirements</th>\n      <th>minimum</th>\n      <th>recommended</th>\n    </tr>\n  </thead>\n  <tbody>\n    <tr>\n      <th>count</th>\n      <td>27062</td>\n      <td>27062</td>\n      <td>27062</td>\n      <td>27062</td>\n      <td>27062</td>\n      <td>27062</td>\n      <td>27062</td>\n      <td>27062</td>\n      <td>27062</td>\n      <td>27062</td>\n      <td>20280</td>\n      <td>20096</td>\n      <td>27062</td>\n      <td>27062</td>\n      <td>27062</td>\n      <td>27057</td>\n      <td>14018</td>\n    </tr>\n    <tr>\n      <th>unique</th>\n      <td>27020</td>\n      <td>2617</td>\n      <td>17107</td>\n      <td>14348</td>\n      <td>5</td>\n      <td>3333</td>\n      <td>1551</td>\n      <td>6418</td>\n      <td>13</td>\n      <td>26915</td>\n      <td>20269</td>\n      <td>20020</td>\n      <td>25182</td>\n      <td>8030</td>\n      <td>5263</td>\n      <td>24906</td>\n      <td>12226</td>\n    </tr>\n    <tr>\n      <th>top</th>\n      <td>Dark Matter</td>\n      <td>2018-07-13</td>\n      <td>Choice of Games</td>\n      <td>Big Fish Games</td>\n      <td>windows</td>\n      <td>Single-player</td>\n      <td>Action;Indie</td>\n      <td>Action;Indie;Casual</td>\n      <td>0-20000</td>\n      <td>\\n</td>\n      <td>Those who love platform games may think this i...</td>\n      <td>Minimal physical puzzle with explosions</td>\n      <td>{'minimum': '&lt;strong&gt;Minimum:&lt;/strong&gt;&lt;br&gt;&lt;ul ...</td>\n      <td>[]</td>\n      <td>[]</td>\n      <td>OS: Windows 7</td>\n      <td>Requires a 64-bit processor and operating system</td>\n    </tr>\n    <tr>\n      <th>freq</th>\n      <td>3</td>\n      <td>64</td>\n      <td>94</td>\n      <td>212</td>\n      <td>18393</td>\n      <td>6104</td>\n      <td>1852</td>\n      <td>845</td>\n      <td>18591</td>\n      <td>24</td>\n      <td>3</td>\n      <td>12</td>\n      <td>133</td>\n      <td>15934</td>\n      <td>18784</td>\n      <td>137</td>\n      <td>808</td>\n    </tr>\n  </tbody>\n</table>\n</div>",
       "datasetInfos": [],
       "metadata": {},
       "removedWidgets": [],
       "textData": null,
       "type": "htmlSandbox"
      }
     },
     "output_type": "display_data"
    }
   ],
   "source": [
    "steam_all_data_clean.describe(include=object)"
   ]
  },
  {
   "cell_type": "markdown",
   "metadata": {
    "application/vnd.databricks.v1+cell": {
     "cellMetadata": {
      "byteLimit": 2048000,
      "rowLimit": 10000
     },
     "inputWidgets": {},
     "nuid": "fe2af5b4-0db8-4f21-bd30-fb9349783c83",
     "showTitle": false,
     "title": ""
    }
   },
   "source": [
    "Agora serão analisados as colunas não numéricas.\n",
    "\n",
    "**name**: Texto. Está dentro do esperado.\\\n",
    "**release_date**: Data. Está dentro do esperado.\\\n",
    "**developer**: Texto. Está dentro do esperado.\\\n",
    "**publisher**: Texto. Está dentro do esperado.\\\n",
    "**platforms**: Texto. Está dentro do esperado.\\\n",
    "**categories**: Texto. Está dentro do esperado.\\\n",
    "**genres**: Texto. Está dentro do esperado.\\\n",
    "**steampsy_tags**: Texto. Está dentro do esperado.\\\n",
    "**owners**: Texto. Está dentro do esperado.\\\n",
    "**detailed_description**: Texto. Está dentro do esperado.\\\n",
    "**about_the_game**: Texto. Está dentro do esperado.\\\n",
    "**short_description**: Texto. Está dentro do esperado.\\\n",
    "**pc_requirements**: Texto. Está dentro do esperado.\\\n",
    "**mac_requirements**: Texto. Está dentro do esperado.\\\n",
    "**linux_requirements**: Texto. Está dentro do esperado.\\\n",
    "**minimum**: Texto. Está dentro do esperado.\\\n",
    "**recommended**: Texto. Está dentro do esperado."
   ]
  },
  {
   "cell_type": "markdown",
   "metadata": {
    "application/vnd.databricks.v1+cell": {
     "cellMetadata": {
      "byteLimit": 2048000,
      "rowLimit": 10000
     },
     "inputWidgets": {},
     "nuid": "220d96f5-e4f8-46d7-b2a3-f3dbdc6bc0dc",
     "showTitle": false,
     "title": ""
    }
   },
   "source": [
    "## 2.5.2 Solução do problema"
   ]
  },
  {
   "cell_type": "markdown",
   "metadata": {
    "application/vnd.databricks.v1+cell": {
     "cellMetadata": {
      "byteLimit": 2048000,
      "rowLimit": 10000
     },
     "inputWidgets": {},
     "nuid": "2408d420-f12f-47a9-adff-4ce0cdd8335e",
     "showTitle": false,
     "title": ""
    }
   },
   "source": [
    "Nesta etapa, as perguntas formuladas no inicio do trabalho serão respondidas, usando a tabela criada no pipeline detalhado anteriormente. Será utilizado a linguagem SQL para responder as perguntas."
   ]
  },
  {
   "cell_type": "markdown",
   "metadata": {
    "application/vnd.databricks.v1+cell": {
     "cellMetadata": {
      "byteLimit": 2048000,
      "rowLimit": 10000
     },
     "inputWidgets": {},
     "nuid": "ef5f246b-7915-41cd-b29b-4f39e40e4db8",
     "showTitle": false,
     "title": ""
    }
   },
   "source": [
    "1. Quais são os cinco jogos mais bem avaliados na categoria \"Roguelike\" que foram lançados nos últimos 12 meses?\n",
    "\n",
    "Como os dados são de 2019, a pergunta será reformulada da seguinte forma:\n",
    "\n",
    "1. Quais são os cinco jogos mais bem avaliados na categoria \"Roguelike\" que foram lançados entre 2018 e 2019?"
   ]
  },
  {
   "cell_type": "code",
   "execution_count": 0,
   "metadata": {
    "application/vnd.databricks.v1+cell": {
     "cellMetadata": {
      "byteLimit": 2048000,
      "implicitDf": true,
      "rowLimit": 10000
     },
     "inputWidgets": {},
     "nuid": "a7c3ed30-dd9a-44df-9593-36ce12d14702",
     "showTitle": false,
     "title": ""
    }
   },
   "outputs": [
    {
     "output_type": "display_data",
     "data": {
      "text/html": [
       "<style scoped>\n",
       "  .table-result-container {\n",
       "    max-height: 300px;\n",
       "    overflow: auto;\n",
       "  }\n",
       "  table, th, td {\n",
       "    border: 1px solid black;\n",
       "    border-collapse: collapse;\n",
       "  }\n",
       "  th, td {\n",
       "    padding: 5px;\n",
       "  }\n",
       "  th {\n",
       "    text-align: left;\n",
       "  }\n",
       "</style><div class='table-result-container'><table class='table-result'><thead style='background-color: white'><tr><th>name</th><th>Ratings</th><th>release_date</th></tr></thead><tbody><tr><td>Slay the Spire</td><td>96.32601973199823</td><td>2019-01-23</td></tr><tr><td>Risk of Rain 2</td><td>94.83498437251681</td><td>2019-03-28</td></tr><tr><td>Dead Cells</td><td>94.77918957294207</td><td>2018-08-06</td></tr><tr><td>ABYSS CRAWLERS plus</td><td>92.45283018867924</td><td>2018-03-08</td></tr><tr><td>Vagante</td><td>89.49919224555735</td><td>2018-02-21</td></tr></tbody></table></div>"
      ]
     },
     "metadata": {
      "application/vnd.databricks.v1+output": {
       "addedWidgets": {},
       "aggData": [],
       "aggError": "",
       "aggOverflow": false,
       "aggSchema": [],
       "aggSeriesLimitReached": false,
       "aggType": "",
       "arguments": {},
       "columnCustomDisplayInfos": {},
       "data": [
        [
         "Slay the Spire",
         96.32601973199823,
         "2019-01-23"
        ],
        [
         "Risk of Rain 2",
         94.83498437251681,
         "2019-03-28"
        ],
        [
         "Dead Cells",
         94.77918957294207,
         "2018-08-06"
        ],
        [
         "ABYSS CRAWLERS plus",
         92.45283018867924,
         "2018-03-08"
        ],
        [
         "Vagante",
         89.49919224555735,
         "2018-02-21"
        ]
       ],
       "datasetInfos": [],
       "dbfsResultPath": null,
       "isJsonSchema": true,
       "metadata": {},
       "overflow": false,
       "plotOptions": {
        "customPlotOptions": {},
        "displayType": "table",
        "pivotAggregation": null,
        "pivotColumns": null,
        "xColumns": null,
        "yColumns": null
       },
       "removedWidgets": [],
       "schema": [
        {
         "metadata": "{}",
         "name": "name",
         "type": "\"string\""
        },
        {
         "metadata": "{}",
         "name": "Ratings",
         "type": "\"double\""
        },
        {
         "metadata": "{}",
         "name": "release_date",
         "type": "\"date\""
        }
       ],
       "type": "table"
      }
     },
     "output_type": "display_data"
    }
   ],
   "source": [
    "%sql\n",
    "SELECT name, ((positive_ratings / (positive_ratings + negative_ratings)) * 100) as Ratings, release_date\n",
    "FROM steam_all_data\n",
    "WHERE (categories LIKE '%Rogue-like%' \n",
    "        OR genres LIKE '%Rogue-like%' \n",
    "        OR steamspy_tags LIKE '%Rogue-like%')\n",
    "        AND release_date BETWEEN '2018-01-01' AND '2019-12-31'\n",
    "        AND ((positive_ratings / (positive_ratings + negative_ratings)) * 100) < 100\n",
    "ORDER BY Ratings DESC\n",
    "LIMIT 5;"
   ]
  },
  {
   "cell_type": "markdown",
   "metadata": {
    "application/vnd.databricks.v1+cell": {
     "cellMetadata": {
      "byteLimit": 2048000,
      "rowLimit": 10000
     },
     "inputWidgets": {},
     "nuid": "0cecbcd9-8ac4-444d-99ce-70bb7762dcb2",
     "showTitle": false,
     "title": ""
    }
   },
   "source": [
    "Para responder essa pergunta, considerei que para ser bem avaliado, um jogo precisa ter a maior porcentagem absoluta de avaliações positivas, e o menor valor possivel de avaliações negativas. Tambem adicionei a coluna de data de lançamento para garantir que a consulta retornou apenas os jogos dentro do intervalo especifico. Adicionei tambem uma condição para mostrar apenas os jogos que o rating seja menor que 100, para evitar os jogos com pouquissimas avaliações."
   ]
  },
  {
   "cell_type": "markdown",
   "metadata": {
    "application/vnd.databricks.v1+cell": {
     "cellMetadata": {
      "byteLimit": 2048000,
      "rowLimit": 10000
     },
     "inputWidgets": {},
     "nuid": "d1014dff-f593-4f35-9e2e-d2dd854d5f90",
     "showTitle": false,
     "title": ""
    }
   },
   "source": [
    "2) Qual é o jogo mais popular que inclui a palavra \"cyberpunk\" em sua descrição ou tags?"
   ]
  },
  {
   "cell_type": "code",
   "execution_count": 0,
   "metadata": {
    "application/vnd.databricks.v1+cell": {
     "cellMetadata": {
      "byteLimit": 2048000,
      "implicitDf": true,
      "rowLimit": 10000
     },
     "inputWidgets": {},
     "nuid": "c0813ddc-e369-49b4-801f-a85842c13169",
     "showTitle": false,
     "title": ""
    }
   },
   "outputs": [
    {
     "output_type": "display_data",
     "data": {
      "text/html": [
       "<style scoped>\n",
       "  .table-result-container {\n",
       "    max-height: 300px;\n",
       "    overflow: auto;\n",
       "  }\n",
       "  table, th, td {\n",
       "    border: 1px solid black;\n",
       "    border-collapse: collapse;\n",
       "  }\n",
       "  th, td {\n",
       "    padding: 5px;\n",
       "  }\n",
       "  th {\n",
       "    text-align: left;\n",
       "  }\n",
       "</style><div class='table-result-container'><table class='table-result'><thead style='background-color: white'><tr><th>name</th><th>Media_de_Donos</th><th>Ratings</th></tr></thead><tbody><tr><td>Shadowrun Returns</td><td>1500000</td><td>88.4584013050571</td></tr></tbody></table></div>"
      ]
     },
     "metadata": {
      "application/vnd.databricks.v1+output": {
       "addedWidgets": {},
       "aggData": [],
       "aggError": "",
       "aggOverflow": false,
       "aggSchema": [],
       "aggSeriesLimitReached": false,
       "aggType": "",
       "arguments": {},
       "columnCustomDisplayInfos": {},
       "data": [
        [
         "Shadowrun Returns",
         1500000,
         88.4584013050571
        ]
       ],
       "datasetInfos": [],
       "dbfsResultPath": null,
       "isJsonSchema": true,
       "metadata": {},
       "overflow": false,
       "plotOptions": {
        "customPlotOptions": {},
        "displayType": "table",
        "pivotAggregation": null,
        "pivotColumns": null,
        "xColumns": null,
        "yColumns": null
       },
       "removedWidgets": [],
       "schema": [
        {
         "metadata": "{}",
         "name": "name",
         "type": "\"string\""
        },
        {
         "metadata": "{}",
         "name": "Media_de_Donos",
         "type": "\"integer\""
        },
        {
         "metadata": "{}",
         "name": "Ratings",
         "type": "\"double\""
        }
       ],
       "type": "table"
      }
     },
     "output_type": "display_data"
    }
   ],
   "source": [
    "%sql\n",
    "SELECT name, int((SUBSTRING_INDEX(owners, '-', 1) + SUBSTRING_INDEX(owners, '-', -1)) / 2) AS Media_de_Donos, ((positive_ratings / (positive_ratings + negative_ratings)) * 100) AS Ratings\n",
    "FROM steam_all_data\n",
    "WHERE (categories LIKE '%cyberpunk%' \n",
    "       OR genres LIKE '%cyberpunk%' \n",
    "       OR steamspy_tags LIKE '%cyberpunk%' \n",
    "       OR detailed_description LIKE '%cyberpunk%' \n",
    "       OR about_the_game LIKE '%cyberpunk%' \n",
    "       OR short_description LIKE '%cyberpunk%')\n",
    "ORDER BY Media_de_Donos DESC, Ratings DESC\n",
    "LIMIT 1;"
   ]
  },
  {
   "cell_type": "markdown",
   "metadata": {
    "application/vnd.databricks.v1+cell": {
     "cellMetadata": {
      "byteLimit": 2048000,
      "rowLimit": 10000
     },
     "inputWidgets": {},
     "nuid": "32958b8f-ad32-4e4d-a378-0894db0bfc6f",
     "showTitle": false,
     "title": ""
    }
   },
   "source": [
    "O banco de dados construido não possui nenhum indice de popularidade, apenas uma variavel em formato de string que indica um intervalo de valores possiveis para ser o numero de donos daquele jogo. Então para resolver este problema, fiz uma média entre o primeiro e o ultimo valor da variavel \"owners\". Como existem muitos jogos com o mesmo intervalo de donos, usei o calculo anterior de ratings como segunda métrica para determinar o jogo mais popular. Na clausula \"where\", filtrei a string \"cyberpunk\" em todos os possiveis lugares onde ela poderia aparecer."
   ]
  },
  {
   "cell_type": "markdown",
   "metadata": {
    "application/vnd.databricks.v1+cell": {
     "cellMetadata": {
      "byteLimit": 2048000,
      "rowLimit": 10000
     },
     "inputWidgets": {},
     "nuid": "cfa715de-fb34-45f7-936e-0c4241b11d89",
     "showTitle": false,
     "title": ""
    }
   },
   "source": [
    "3) Quais são os três jogos de estratégia com temática de ficção científica que têm o maior número de horas jogadas no total? "
   ]
  },
  {
   "cell_type": "code",
   "execution_count": 0,
   "metadata": {
    "application/vnd.databricks.v1+cell": {
     "cellMetadata": {
      "byteLimit": 2048000,
      "implicitDf": true,
      "rowLimit": 10000
     },
     "inputWidgets": {},
     "nuid": "8a2e3643-9546-4157-b0ae-a734976e38da",
     "showTitle": false,
     "title": ""
    }
   },
   "outputs": [
    {
     "output_type": "display_data",
     "data": {
      "text/html": [
       "<style scoped>\n",
       "  .table-result-container {\n",
       "    max-height: 300px;\n",
       "    overflow: auto;\n",
       "  }\n",
       "  table, th, td {\n",
       "    border: 1px solid black;\n",
       "    border-collapse: collapse;\n",
       "  }\n",
       "  th, td {\n",
       "    padding: 5px;\n",
       "  }\n",
       "  th {\n",
       "    text-align: left;\n",
       "  }\n",
       "</style><div class='table-result-container'><table class='table-result'><thead style='background-color: white'><tr><th>name</th><th>average_playtime</th></tr></thead><tbody><tr><td>EVE Online</td><td>5123</td></tr><tr><td>DG2: Defense Grid 2</td><td>3601</td></tr><tr><td>UFO: Afterlight</td><td>2380</td></tr></tbody></table></div>"
      ]
     },
     "metadata": {
      "application/vnd.databricks.v1+output": {
       "addedWidgets": {},
       "aggData": [],
       "aggError": "",
       "aggOverflow": false,
       "aggSchema": [],
       "aggSeriesLimitReached": false,
       "aggType": "",
       "arguments": {},
       "columnCustomDisplayInfos": {},
       "data": [
        [
         "EVE Online",
         5123
        ],
        [
         "DG2: Defense Grid 2",
         3601
        ],
        [
         "UFO: Afterlight",
         2380
        ]
       ],
       "datasetInfos": [],
       "dbfsResultPath": null,
       "isJsonSchema": true,
       "metadata": {},
       "overflow": false,
       "plotOptions": {
        "customPlotOptions": {},
        "displayType": "table",
        "pivotAggregation": null,
        "pivotColumns": null,
        "xColumns": null,
        "yColumns": null
       },
       "removedWidgets": [],
       "schema": [
        {
         "metadata": "{}",
         "name": "name",
         "type": "\"string\""
        },
        {
         "metadata": "{}",
         "name": "average_playtime",
         "type": "\"long\""
        }
       ],
       "type": "table"
      }
     },
     "output_type": "display_data"
    }
   ],
   "source": [
    "%sql\n",
    "SELECT name, average_playtime\n",
    "FROM steam_all_data\n",
    "WHERE ((categories LIKE '%Strategy%' \n",
    "       OR genres LIKE '%Strategy%' \n",
    "       OR steamspy_tags LIKE '%Strategy%')\n",
    "       and (categories LIKE '%Sci-fi%' \n",
    "       OR genres LIKE '%Sci-fi%' \n",
    "       OR steamspy_tags LIKE '%Sci-fi%'))\n",
    "ORDER BY average_playtime DESC\n",
    "LIMIT 3;"
   ]
  },
  {
   "cell_type": "markdown",
   "metadata": {
    "application/vnd.databricks.v1+cell": {
     "cellMetadata": {
      "byteLimit": 2048000,
      "rowLimit": 10000
     },
     "inputWidgets": {},
     "nuid": "4e3a7740-2a45-4c22-a8ff-a8903a8e1435",
     "showTitle": false,
     "title": ""
    }
   },
   "source": [
    "Nesta consulta podemos notar os valores estranhos de tempo de jogo, algo que comentei anteriormente. Porem, como o objetivo é analisar o maior valor absoluto, podemos ignorar a magnitude do numero."
   ]
  },
  {
   "cell_type": "markdown",
   "metadata": {
    "application/vnd.databricks.v1+cell": {
     "cellMetadata": {
      "byteLimit": 2048000,
      "rowLimit": 10000
     },
     "inputWidgets": {},
     "nuid": "a4e26000-215f-45bd-934b-ccedf202bd8d",
     "showTitle": false,
     "title": ""
    }
   },
   "source": [
    "4)\tQual é a porcentagem média de conclusão dos jogos de terror mais assustadores disponíveis na Steam?\n",
    "\n",
    "Não é possivel responder essa pergunta, pois não existem dados da conclusão média dos jogos."
   ]
  },
  {
   "cell_type": "markdown",
   "metadata": {
    "application/vnd.databricks.v1+cell": {
     "cellMetadata": {
      "byteLimit": 2048000,
      "rowLimit": 10000
     },
     "inputWidgets": {},
     "nuid": "daa7292f-3537-4177-8c1c-9611917e1770",
     "showTitle": false,
     "title": ""
    }
   },
   "source": [
    "5)\tQuais são os cinco jogos mais jogados que tem exatamente 1 GB de tamanho?\n"
   ]
  },
  {
   "cell_type": "code",
   "execution_count": 0,
   "metadata": {
    "application/vnd.databricks.v1+cell": {
     "cellMetadata": {
      "byteLimit": 2048000,
      "implicitDf": true,
      "rowLimit": 10000
     },
     "inputWidgets": {},
     "nuid": "e81a601b-2850-43e9-bf92-c9d002cf5e4b",
     "showTitle": false,
     "title": ""
    }
   },
   "outputs": [
    {
     "output_type": "display_data",
     "data": {
      "text/html": [
       "<style scoped>\n",
       "  .table-result-container {\n",
       "    max-height: 300px;\n",
       "    overflow: auto;\n",
       "  }\n",
       "  table, th, td {\n",
       "    border: 1px solid black;\n",
       "    border-collapse: collapse;\n",
       "  }\n",
       "  th, td {\n",
       "    padding: 5px;\n",
       "  }\n",
       "  th {\n",
       "    text-align: left;\n",
       "  }\n",
       "</style><div class='table-result-container'><table class='table-result'><thead style='background-color: white'><tr><th>name</th><th>average_playtime</th></tr></thead><tbody><tr><td>The Desolate Hope</td><td>21168</td></tr><tr><td>Catan Universe</td><td>16710</td></tr><tr><td>Dr. Langeskov, The Tiger, and The Terribly Cursed Emerald: A Whirlwind Heist</td><td>15907</td></tr><tr><td>Duelyst</td><td>14620</td></tr><tr><td>Factorio</td><td>10087</td></tr></tbody></table></div>"
      ]
     },
     "metadata": {
      "application/vnd.databricks.v1+output": {
       "addedWidgets": {},
       "aggData": [],
       "aggError": "",
       "aggOverflow": false,
       "aggSchema": [],
       "aggSeriesLimitReached": false,
       "aggType": "",
       "arguments": {},
       "columnCustomDisplayInfos": {},
       "data": [
        [
         "The Desolate Hope",
         21168
        ],
        [
         "Catan Universe",
         16710
        ],
        [
         "Dr. Langeskov, The Tiger, and The Terribly Cursed Emerald: A Whirlwind Heist",
         15907
        ],
        [
         "Duelyst",
         14620
        ],
        [
         "Factorio",
         10087
        ]
       ],
       "datasetInfos": [],
       "dbfsResultPath": null,
       "isJsonSchema": true,
       "metadata": {},
       "overflow": false,
       "plotOptions": {
        "customPlotOptions": {},
        "displayType": "table",
        "pivotAggregation": null,
        "pivotColumns": null,
        "xColumns": null,
        "yColumns": null
       },
       "removedWidgets": [],
       "schema": [
        {
         "metadata": "{}",
         "name": "name",
         "type": "\"string\""
        },
        {
         "metadata": "{}",
         "name": "average_playtime",
         "type": "\"long\""
        }
       ],
       "type": "table"
      }
     },
     "output_type": "display_data"
    }
   ],
   "source": [
    "%sql\n",
    "SELECT name, average_playtime\n",
    "FROM steam_all_data\n",
    "WHERE minimum LIKE '% 1 GB available space%'\n",
    "        or recommended LIKE '% 1 GB available space%'\n",
    "        or pc_requirements LIKE '% 1 GB available space%'\n",
    "        or linux_requirements LIKE '% 1 GB available space%'\n",
    "        or mac_requirements LIKE '% 1 GB available space%'\n",
    "ORDER BY average_playtime DESC\n",
    "LIMIT 5;"
   ]
  },
  {
   "cell_type": "markdown",
   "metadata": {
    "application/vnd.databricks.v1+cell": {
     "cellMetadata": {
      "byteLimit": 2048000,
      "rowLimit": 10000
     },
     "inputWidgets": {},
     "nuid": "4897c788-5115-496e-8243-8666a720433c",
     "showTitle": false,
     "title": ""
    }
   },
   "source": [
    "Para determinar os jogos mais jogados, usei a variavel de tempo médio de jogo. Da mesma forma que no caso anterior, não devemos analisar o numero de tempo de jogo, apenas ver qual são os maiores valores."
   ]
  },
  {
   "cell_type": "markdown",
   "metadata": {
    "application/vnd.databricks.v1+cell": {
     "cellMetadata": {
      "byteLimit": 2048000,
      "rowLimit": 10000
     },
     "inputWidgets": {},
     "nuid": "dc2d0659-ceb9-4205-b026-73b8c6115a9d",
     "showTitle": false,
     "title": ""
    }
   },
   "source": [
    "6.\tQuais são os três jogos mais caros que têm suporte para realidade virtual?"
   ]
  },
  {
   "cell_type": "code",
   "execution_count": 0,
   "metadata": {
    "application/vnd.databricks.v1+cell": {
     "cellMetadata": {
      "byteLimit": 2048000,
      "implicitDf": true,
      "rowLimit": 10000
     },
     "inputWidgets": {},
     "nuid": "695f8a44-c0fe-42a0-9d0b-9377704944ae",
     "showTitle": false,
     "title": ""
    }
   },
   "outputs": [
    {
     "output_type": "display_data",
     "data": {
      "text/html": [
       "<style scoped>\n",
       "  .table-result-container {\n",
       "    max-height: 300px;\n",
       "    overflow: auto;\n",
       "  }\n",
       "  table, th, td {\n",
       "    border: 1px solid black;\n",
       "    border-collapse: collapse;\n",
       "  }\n",
       "  th, td {\n",
       "    padding: 5px;\n",
       "  }\n",
       "  th {\n",
       "    text-align: left;\n",
       "  }\n",
       "</style><div class='table-result-container'><table class='table-result'><thead style='background-color: white'><tr><th>name</th><th>price</th></tr></thead><tbody><tr><td>The Music Room</td><td>98.99</td></tr><tr><td>ARK: Survival Evolved</td><td>44.99</td></tr><tr><td>The Elder Scrolls V: Skyrim VR</td><td>39.99</td></tr></tbody></table></div>"
      ]
     },
     "metadata": {
      "application/vnd.databricks.v1+output": {
       "addedWidgets": {},
       "aggData": [],
       "aggError": "",
       "aggOverflow": false,
       "aggSchema": [],
       "aggSeriesLimitReached": false,
       "aggType": "",
       "arguments": {},
       "columnCustomDisplayInfos": {},
       "data": [
        [
         "The Music Room",
         98.99
        ],
        [
         "ARK: Survival Evolved",
         44.99
        ],
        [
         "The Elder Scrolls V: Skyrim VR",
         39.99
        ]
       ],
       "datasetInfos": [],
       "dbfsResultPath": null,
       "isJsonSchema": true,
       "metadata": {},
       "overflow": false,
       "plotOptions": {
        "customPlotOptions": {},
        "displayType": "table",
        "pivotAggregation": null,
        "pivotColumns": null,
        "xColumns": null,
        "yColumns": null
       },
       "removedWidgets": [],
       "schema": [
        {
         "metadata": "{}",
         "name": "name",
         "type": "\"string\""
        },
        {
         "metadata": "{}",
         "name": "price",
         "type": "\"double\""
        }
       ],
       "type": "table"
      }
     },
     "output_type": "display_data"
    }
   ],
   "source": [
    "%sql\n",
    "SELECT name, price\n",
    "FROM steam_all_data\n",
    "WHERE (categories LIKE '%VR%' \n",
    "       OR genres LIKE '%VR%' \n",
    "       OR steamspy_tags LIKE '%VR%')\n",
    "ORDER BY price DESC\n",
    "LIMIT 3;"
   ]
  },
  {
   "cell_type": "markdown",
   "metadata": {
    "application/vnd.databricks.v1+cell": {
     "cellMetadata": {
      "byteLimit": 2048000,
      "rowLimit": 10000
     },
     "inputWidgets": {},
     "nuid": "e31e916e-d147-4034-9cc9-4947bf2254be",
     "showTitle": false,
     "title": ""
    }
   },
   "source": [
    "Os jogos com suporte a realidade virtual possuem a sua própria tag, então para resolver esta consulta foi necessario apenas usar a tag como filtro."
   ]
  },
  {
   "cell_type": "markdown",
   "metadata": {
    "application/vnd.databricks.v1+cell": {
     "cellMetadata": {
      "byteLimit": 2048000,
      "rowLimit": 10000
     },
     "inputWidgets": {},
     "nuid": "6a0b6b20-b10b-4762-b169-dbce400c79e2",
     "showTitle": false,
     "title": ""
    }
   },
   "source": [
    "7.\tQual é o jogo com a trilha sonora mais extensa em termos de número de faixas de música disponíveis?\n",
    "\n",
    "Não existem dados de trilha sonora disponiveis."
   ]
  },
  {
   "cell_type": "markdown",
   "metadata": {
    "application/vnd.databricks.v1+cell": {
     "cellMetadata": {
      "byteLimit": 2048000,
      "rowLimit": 10000
     },
     "inputWidgets": {},
     "nuid": "db39eda6-430e-4592-8eef-ef57374364a9",
     "showTitle": false,
     "title": ""
    }
   },
   "source": [
    "8.\tQuais são os jogos que têm a maior diferença entre a classificação dos críticos e dos jogadores?\n",
    "\n",
    "Não existem dados de notas dos criticos."
   ]
  },
  {
   "cell_type": "markdown",
   "metadata": {
    "application/vnd.databricks.v1+cell": {
     "cellMetadata": {
      "byteLimit": 2048000,
      "rowLimit": 10000
     },
     "inputWidgets": {},
     "nuid": "6ece5260-a75f-46a4-8f36-0e07fe472939",
     "showTitle": false,
     "title": ""
    }
   },
   "source": [
    "9.\tQuais são os jogos de estratégia em tempo real mais antigos que ainda têm uma comunidade ativa de jogadores online?\n",
    "\n",
    "Não existem dados correpondentes a comunidade de cada jogo na tabela."
   ]
  },
  {
   "cell_type": "markdown",
   "metadata": {
    "application/vnd.databricks.v1+cell": {
     "cellMetadata": {
      "byteLimit": 2048000,
      "rowLimit": 10000
     },
     "inputWidgets": {},
     "nuid": "f3eb71ba-4f65-44d0-88f9-45741a784757",
     "showTitle": false,
     "title": ""
    }
   },
   "source": [
    "10.\tQuais são os jogos independentes mais populares que foram lançados por desenvolvedoras com sede na América do Sul?\n",
    "\n",
    "Não existem dados correpondentes as sedes das desenvolvedoras."
   ]
  },
  {
   "cell_type": "markdown",
   "metadata": {
    "application/vnd.databricks.v1+cell": {
     "cellMetadata": {
      "byteLimit": 2048000,
      "rowLimit": 10000
     },
     "inputWidgets": {},
     "nuid": "c29a4823-0def-47de-82ed-9bf6999156c9",
     "showTitle": false,
     "title": ""
    }
   },
   "source": [
    "## 3 Autoavaliação"
   ]
  },
  {
   "cell_type": "markdown",
   "metadata": {
    "application/vnd.databricks.v1+cell": {
     "cellMetadata": {
      "byteLimit": 2048000,
      "rowLimit": 10000
     },
     "inputWidgets": {},
     "nuid": "d7b9a3b6-d546-495f-a79c-1796595ca649",
     "showTitle": false,
     "title": ""
    }
   },
   "source": [
    "\n",
    "Durante o desenvolvimento deste projeto, encontrei alguns desafios notáveis, principalmente na escolha da plataforma de nuvem e no aprendizado necessário para sua eficaz utilização. A plataforma Databricks do Azure chamou minha atenção e, no desfecho, provou ser a escolha mais apropriada para a condução deste trabalho.\n",
    "\n",
    "O objetivo principal, a construção de um Data Lake com informações abrangentes sobre os jogos da plataforma Steam, foi, sem dúvida, alcançado. Contudo, devido a restrições temporais, lamentavelmente não foi possível empregar uma API para obter dados diretamente da plataforma, o que teria proporcionado uma análise ainda mais realista.\n",
    "\n",
    "No que diz respeito ao segundo objetivo do trabalho, que era responder às perguntas propostas, foi alcançado um progresso parcial. As perguntas foram formuladas antes da aquisição dos dados, resultando em limitações quanto à nossa capacidade de prever com precisão quais informações poderiam ser extraídas.\n",
    "\n",
    "Em resumo, este projeto possibilitou a aquisição de habilidades valiosas em engenharia de dados, desde a coleta até o preparo e análise. Além disso, destacou a importância crítica da qualidade dos dados como alicerce de qualquer empreendimento de análise de dados.\n",
    "\n",
    "Como perspectiva para futuros trabalhos, considero muito interessante a criação de uma API para a coleta automática de dados da plataforma, aprimorando ainda mais o processo de análise de dados e fornecendo resultados mais atuais."
   ]
  }
 ],
 "metadata": {
  "application/vnd.databricks.v1+notebook": {
   "dashboards": [],
   "language": "python",
   "notebookMetadata": {
    "mostRecentlyExecutedCommandWithImplicitDF": {
     "commandId": 2221312708111583,
     "dataframes": [
      "_sqldf"
     ]
    },
    "pythonIndentUnit": 4
   },
   "notebookName": "MVP-3",
   "widgets": {}
  }
 },
 "nbformat": 4,
 "nbformat_minor": 0
}
